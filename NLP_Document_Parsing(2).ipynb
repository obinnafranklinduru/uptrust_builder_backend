{
  "cells": [
    {
      "cell_type": "code",
      "execution_count": null,
      "metadata": {
        "id": "xrvAwEiMspuU",
        "colab": {
          "base_uri": "https://localhost:8080/"
        },
        "outputId": "7d531779-570c-4321-aa29-bde09014db26"
      },
      "outputs": [
        {
          "output_type": "stream",
          "name": "stdout",
          "text": [
            "Drive already mounted at /content/drive; to attempt to forcibly remount, call drive.mount(\"/content/drive\", force_remount=True).\n"
          ]
        }
      ],
      "source": [
        "from google.colab import drive\n",
        "\n",
        "drive.mount('/content/drive')"
      ],
      "id": "xrvAwEiMspuU"
    },
    {
      "cell_type": "code",
      "execution_count": null,
      "metadata": {
        "id": "7S2c0707vH2X"
      },
      "outputs": [],
      "source": [
        "#this sets the given file path as the working directory\n",
        "import os\n",
        "dir_path = '/content/drive/MyDrive/CVs Folder'\n",
        "os.chdir(dir_path) #changes the working directory to the given path"
      ],
      "id": "7S2c0707vH2X"
    },
    {
      "cell_type": "code",
      "execution_count": null,
      "metadata": {
        "id": "dc8dafa3",
        "colab": {
          "base_uri": "https://localhost:8080/"
        },
        "outputId": "b2fcd48c-0a47-458f-9d5e-890b22fa92a4"
      },
      "outputs": [
        {
          "output_type": "stream",
          "name": "stdout",
          "text": [
            "Collecting PyPDF2\n",
            "  Downloading pypdf2-3.0.1-py3-none-any.whl (232 kB)\n",
            "\u001b[?25l     \u001b[90m━━━━━━━━━━━━━━━━━━━━━━━━━━━━━━━━━━━━━━━━\u001b[0m \u001b[32m0.0/232.6 kB\u001b[0m \u001b[31m?\u001b[0m eta \u001b[36m-:--:--\u001b[0m\r\u001b[2K     \u001b[91m━━━━━━━━━━━━━━━━━━━━━\u001b[0m\u001b[90m╺\u001b[0m\u001b[90m━━━━━━━━━━━━━━━━━━\u001b[0m \u001b[32m122.9/232.6 kB\u001b[0m \u001b[31m3.4 MB/s\u001b[0m eta \u001b[36m0:00:01\u001b[0m\r\u001b[2K     \u001b[90m━━━━━━━━━━━━━━━━━━━━━━━━━━━━━━━━━━━━━━━━\u001b[0m \u001b[32m232.6/232.6 kB\u001b[0m \u001b[31m4.3 MB/s\u001b[0m eta \u001b[36m0:00:00\u001b[0m\n",
            "\u001b[?25hInstalling collected packages: PyPDF2\n",
            "Successfully installed PyPDF2-3.0.1\n"
          ]
        }
      ],
      "source": [
        "import sys\n",
        "!{sys.executable} -m pip install PyPDF2"
      ],
      "id": "dc8dafa3"
    },
    {
      "cell_type": "code",
      "execution_count": null,
      "metadata": {
        "id": "1c93c36a",
        "colab": {
          "base_uri": "https://localhost:8080/"
        },
        "outputId": "907f1dd7-08a0-42ba-825b-10371417fe05"
      },
      "outputs": [
        {
          "output_type": "stream",
          "name": "stdout",
          "text": [
            "Experience:ML/AI\n",
            "Researcher \n",
            "Yourekaa\n",
            "Technologies\n",
            "Inc.\n",
            "|\n",
            "Remote\n",
            "NOVEM BER\n",
            "2023\n",
            "-\n",
            "PRESENT\n",
            "●\n",
            "Development\n",
            "and\n",
            "deployment\n",
            "of\n",
            "the\n",
            "AI\n",
            "solution\n",
            "of\n",
            "Yourekaa\n",
            "Technologies\n",
            "Inc.\n",
            "Machine\n",
            "learning\n",
            "engineer\n",
            "Africa\n",
            "Agility\n",
            "GIT\n",
            "Bootcamp\n",
            "|\n",
            "Remote\n",
            "JULY\n",
            "2023\n",
            "●\n",
            "Performed\n",
            "data\n",
            "analysis\n",
            "on\n",
            "provided\n",
            "datasets.\n",
            "●\n",
            "Trained\n",
            "supervised\n",
            "machine\n",
            "learning\n",
            "models,\n",
            "using\n",
            "machine\n",
            "learning\n",
            "algorithms\n",
            "such\n",
            "as\n",
            "Linear\n",
            "Regression,\n",
            "Gradient\n",
            "Boosting\n",
            "Regressor,\n",
            "Random\n",
            "Forest\n",
            "Regressor,\n",
            "etc.\n",
            "●\n",
            "Evaluated\n",
            "the\n",
            "models’\n",
            "performances\n",
            "using\n",
            "RSE,\n",
            "MAE\n",
            "and\n",
            "R-squared.\n",
            "AI-driven\n",
            "Mobile\n",
            "App\n",
            "Developer\n",
            "Technovation\n",
            "Girls\n",
            "Challenge\n",
            "2023\n",
            "|\n",
            "Remote\n",
            "M ARCH\n",
            "2023\n",
            "-\n",
            "APRIL\n",
            "2023\n",
            "●\n",
            "Developed\n",
            "an\n",
            "AI-assisted\n",
            "edtech\n",
            "mobile\n",
            "application\n",
            "using\n",
            "MIT\n",
            "App\n",
            "Inventor\n",
            "in\n",
            "the\n",
            "2023\n",
            "Technovation\n",
            "Girls\n",
            "Challenge.\n",
            "●\n",
            "Presented\n",
            "the\n",
            "project\n",
            "at\n",
            "the\n",
            "regional\n",
            "competition\n",
            "and\n",
            "reached\n",
            "the\n",
            "quarter-ﬁnals.\n",
            "\n",
            "Skills:●\n",
            "Data\n",
            "Science:\n",
            "Dataset\n",
            "collation\n",
            "and\n",
            "Exploratory\n",
            "Data\n",
            "Analysis\n",
            "(EDA).\n",
            "●\n",
            "Data\n",
            "Visualization:\n",
            "Matplotlib,\n",
            "Seaborn.\n",
            "●\n",
            "M achine\n",
            "Learning:\n",
            "Building\n",
            "and\n",
            "implementing\n",
            "machine\n",
            "learning\n",
            "models\n",
            "using\n",
            "Python\n",
            "machine\n",
            "learning\n",
            "libraries.\n",
            "●\n",
            "M obile\n",
            "App\n",
            "Developm ent:\n",
            "MIT\n",
            "App\n",
            "Inventor.\n",
            "●\n",
            "W eb\n",
            "Technologies:\n",
            "HTML,\n",
            "CSS.\n",
            "\n",
            "Education:Bachelor\n",
            "of\n",
            "Engineering\n",
            "(B.Eng) \n",
            "Software\n",
            "Engineering\n",
            "-\n",
            "Federal\n",
            "University\n",
            "of\n",
            "Technology,\n",
            "Owerri,\n",
            "Im o\n",
            "state.\n",
            "AUGUST\n",
            "2023\n",
            "-\n",
            "PRESENT\n",
            "West\n",
            "African\n",
            "Senior\n",
            "School\n",
            "Certiﬁcate\n",
            "(WASSCE) \n",
            "SusanChris\n",
            "M odel\n",
            "Schools,\n",
            "Owerri,\n",
            "Im o\n",
            "state.\n",
            "SEPTEM BER\n",
            "2016\n",
            "-\n",
            "JULY\n",
            "2022\n",
            "AWARDS\n",
            "●\n",
            "Africa\n",
            "Agility\n",
            "African\n",
            "Girls\n",
            "in\n",
            "Tech\n",
            "Bootcamp\n",
            "6.0\n",
            "certiﬁcate\n",
            "of\n",
            "completion\n",
            "for\n",
            "the \n",
            "Artiﬁcial\n",
            "Intelligence\n",
            "track. \n",
            "●\n",
            "Quarter-ﬁnalist\n",
            "in\n",
            "the\n",
            "2023\n",
            "Technovation\n",
            "Girls\n",
            "Challenge.\n",
            "\n",
            "\n"
          ]
        }
      ],
      "source": [
        "import PyPDF2\n",
        "\n",
        "file_list = os.listdir(dir_path)\n",
        "\n",
        "for file_name in file_list:\n",
        "    with open(os.path.join(dir_path, file_name), 'rb') as f:\n",
        "        reader = PyPDF2.PdfReader(f)\n",
        "        text = ''\n",
        "        for page in reader.pages:\n",
        "            text += page.extract_text() #this (+=) adds text extracted from each page of the doc into one single variable (text)\n",
        "\n",
        "        #splitting the text into lines for easier processing\n",
        "        lines = text.split('\\n')\n",
        "\n",
        "        #variables where extracted information would be stored\n",
        "        experience = ''\n",
        "        skills = ''\n",
        "        education = ''\n",
        "\n",
        "        #specifying Boolean variables to track when to extract content from the text\n",
        "        extract_experience = False\n",
        "        extract_skills = False\n",
        "        extract_education = False\n",
        "\n",
        "        #looping through `lines` to extract information under each section\n",
        "        for line in lines:\n",
        "            #extracting info in the SKILLS section\n",
        "            if 'SKILLS' in line:\n",
        "                extract_experience = False\n",
        "                extract_skills = True\n",
        "                extract_education = False\n",
        "                continue  # Skip this line\n",
        "\n",
        "           #extracting info in the EDUCATION section\n",
        "            elif 'EDUCATION' in line:\n",
        "                extract_experience = False\n",
        "                extract_skills = False\n",
        "                extract_education = True\n",
        "                continue  # Skip this line\n",
        "\n",
        "                #extracting info in the EXPERIENCE section\n",
        "            elif 'EXPERIENCE' in line:\n",
        "                extract_experience = True\n",
        "                extract_skills = False\n",
        "                extract_education = False\n",
        "                continue  # Skip this line\n",
        "\n",
        "            # Extract information based on the active section flag\n",
        "            if extract_experience:\n",
        "                experience += line + '\\n'\n",
        "            elif extract_skills:\n",
        "                skills += line + '\\n'\n",
        "            elif extract_education:\n",
        "                education += line + '\\n'\n",
        "\n",
        "        # Print the extracted information for each file\n",
        "        print(f\"Experience:{experience}\\nSkills:{skills}\\nEducation:{education}\\n\")\n"
      ],
      "id": "1c93c36a"
    },
    {
      "cell_type": "markdown",
      "metadata": {
        "id": "d27603ee"
      },
      "source": [
        "# Text Cleaning"
      ],
      "id": "d27603ee"
    },
    {
      "cell_type": "markdown",
      "metadata": {
        "id": "8b52f256"
      },
      "source": [
        "**Removing line breaks**"
      ],
      "id": "8b52f256"
    },
    {
      "cell_type": "code",
      "execution_count": null,
      "metadata": {
        "id": "1c8445a7",
        "colab": {
          "base_uri": "https://localhost:8080/"
        },
        "outputId": "9417ff42-13f1-4cc8-a349-bcf721c0f32b"
      },
      "outputs": [
        {
          "output_type": "stream",
          "name": "stdout",
          "text": [
            "ML/AI Researcher  Yourekaa Technologies Inc. | Remote NOVEM BER 2023 - PRESENT ● Development and deployment of the AI solution of Yourekaa Technologies Inc. Machine learning engineer Africa Agility GIT Bootcamp | Remote JULY 2023 ● Performed data analysis on provided datasets. ● Trained supervised machine learning models, using machine learning algorithms such as Linear Regression, Gradient Boosting Regressor, Random Forest Regressor, etc. ● Evaluated the models’ performances using RSE, MAE and R-squared. AI-driven Mobile App Developer Technovation Girls Challenge 2023 | Remote M ARCH 2023 - APRIL 2023 ● Developed an AI-assisted edtech mobile application using MIT App Inventor in the 2023 Technovation Girls Challenge. ● Presented the project at the regional competition and reached the quarter-ﬁnals. \n",
            "\n",
            "#################################################################################################################\n",
            "Bachelor of Engineering (B.Eng)  Software Engineering - Federal University of Technology, Owerri, Im o state. AUGUST 2023 - PRESENT West African Senior School Certiﬁcate (WASSCE)  SusanChris M odel Schools, Owerri, Im o state. SEPTEM BER 2016 - JULY 2022 AWARDS ● Africa Agility African Girls in Tech Bootcamp 6.0 certiﬁcate of completion for the  Artiﬁcial Intelligence track.  ● Quarter-ﬁnalist in the 2023 Technovation Girls Challenge. \n",
            "\n",
            "#################################################################################################################\n",
            "● Data Science: Dataset collation and Exploratory Data Analysis (EDA). ● Data Visualization: Matplotlib, Seaborn. ● M achine Learning: Building and implementing machine learning models using Python machine learning libraries. ● M obile App Developm ent: MIT App Inventor. ● W eb Technologies: HTML, CSS. \n"
          ]
        }
      ],
      "source": [
        "#Experience section (this code joins lines to form sentences)\n",
        "experience = ' '.join(experience.split('\\n'))\n",
        "print(experience)\n",
        "\n",
        "print('\\n#################################################################################################################')\n",
        "\n",
        "#Education section\n",
        "education = ' '.join(education.split('\\n'))\n",
        "print(education)\n",
        "\n",
        "print('\\n#################################################################################################################')\n",
        "\n",
        "#Skills section\n",
        "skills = ' '.join(skills.split('\\n'))\n",
        "print(skills)"
      ],
      "id": "1c8445a7"
    },
    {
      "cell_type": "markdown",
      "metadata": {
        "id": "54edaf37"
      },
      "source": [
        "**Converting to lowercase**"
      ],
      "id": "54edaf37"
    },
    {
      "cell_type": "code",
      "execution_count": null,
      "metadata": {
        "id": "a38b3f19"
      },
      "outputs": [],
      "source": [
        "#importing and downloading the nltk (naturallang. toolkit) package, an amazing package for working in nlp\n",
        "import nltk\n",
        "\n",
        "#nltk.download()"
      ],
      "id": "a38b3f19"
    },
    {
      "cell_type": "code",
      "execution_count": null,
      "metadata": {
        "id": "6c5d2d10",
        "colab": {
          "base_uri": "https://localhost:8080/"
        },
        "outputId": "a159b3d5-ab2b-42ca-a12f-56f71dc08ec8"
      },
      "outputs": [
        {
          "output_type": "stream",
          "name": "stdout",
          "text": [
            "['ml/ai researcher  yourekaa technologies inc. | remote novem ber 2023 - present', 'development and deployment of the ai solution of yourekaa technologies inc. machine learning engineer africa agility git bootcamp | remote july 2023', 'performed data analysis on provided datasets.', 'trained supervised machine learning models, using machine learning algorithms such as linear regression, gradient boosting regressor, random forest regressor, etc.', 'evaluated the models’ performances using rse, mae and r-squared. ai-driven mobile app developer technovation girls challenge 2023 | remote m arch 2023 - april 2023', 'developed an ai-assisted edtech mobile application using mit app inventor in the 2023 technovation girls challenge.', 'presented the project at the regional competition and reached the quarter-ﬁnals.']\n"
          ]
        }
      ],
      "source": [
        "import string\n",
        "\n",
        "#experience section\n",
        "#splits the text into individual sentences or sections based on punctuations like \".\" or \"●\" and keeps it from repeating\n",
        "exp_section = [section.strip() for section in experience.split(\"●\") if section.strip()]\n",
        "\n",
        "#this then converts each section to lowercase if it's a string, but ignores numbers\n",
        "experience = [str(item).lower() if isinstance(item, str) else item for item in exp_section]\n",
        "print(experience)"
      ],
      "id": "6c5d2d10"
    },
    {
      "cell_type": "code",
      "execution_count": null,
      "metadata": {
        "id": "0eb94a3b",
        "colab": {
          "base_uri": "https://localhost:8080/"
        },
        "outputId": "765d3c2d-076d-4c8f-cca7-130800d642ae"
      },
      "outputs": [
        {
          "output_type": "stream",
          "name": "stdout",
          "text": [
            "['bachelor of engineering (b.eng)  software engineering - federal university of technology, owerri, im o state. august 2023 - present west african senior school certiﬁcate (wassce)  susanchris m odel schools, owerri, im o state. septem ber 2016 - july 2022 awards', 'africa agility african girls in tech bootcamp 6.0 certiﬁcate of completion for the  artiﬁcial intelligence track.', 'quarter-ﬁnalist in the 2023 technovation girls challenge.']\n"
          ]
        }
      ],
      "source": [
        "#education section\n",
        "edu_section = [section.strip() for section in education.split(\"●\") if section.strip()]\n",
        "education = [str(item).lower() if isinstance(item, str) else item for item in edu_section]\n",
        "print(education)"
      ],
      "id": "0eb94a3b"
    },
    {
      "cell_type": "code",
      "execution_count": null,
      "metadata": {
        "id": "e57d6dbe",
        "scrolled": true,
        "colab": {
          "base_uri": "https://localhost:8080/"
        },
        "outputId": "fb45265f-6cea-471a-c4cb-05dcac7472dd"
      },
      "outputs": [
        {
          "output_type": "stream",
          "name": "stdout",
          "text": [
            "['data science: dataset collation and exploratory data analysis (eda).', 'data visualization: matplotlib, seaborn.', 'm achine learning: building and implementing machine learning models using python machine learning libraries.', 'm obile app developm ent: mit app inventor.', 'w eb technologies: html, css.']\n"
          ]
        }
      ],
      "source": [
        "#skills section\n",
        "skl_section = [section.strip() for section in skills.split(\"●\") if section.strip()]\n",
        "skills = [str(item).lower() if isinstance(item, str) else item for item in skl_section]\n",
        "print(skills)"
      ],
      "id": "e57d6dbe"
    },
    {
      "cell_type": "markdown",
      "metadata": {
        "id": "de49f580"
      },
      "source": [
        "**Word tokenization**"
      ],
      "id": "de49f580"
    },
    {
      "cell_type": "code",
      "execution_count": null,
      "metadata": {
        "id": "5fc67cad",
        "colab": {
          "base_uri": "https://localhost:8080/"
        },
        "outputId": "cebcb9d8-eda2-486b-863e-444d0dabf926"
      },
      "outputs": [
        {
          "output_type": "stream",
          "name": "stderr",
          "text": [
            "[nltk_data] Downloading package punkt to /root/nltk_data...\n",
            "[nltk_data]   Unzipping tokenizers/punkt.zip.\n"
          ]
        },
        {
          "output_type": "execute_result",
          "data": {
            "text/plain": [
              "True"
            ]
          },
          "metadata": {},
          "execution_count": 11
        }
      ],
      "source": [
        "#downloading the `punkt` package which contains pre-trained models for text tokenization (like tokenize)\n",
        "nltk.download('punkt')"
      ],
      "id": "5fc67cad"
    },
    {
      "cell_type": "code",
      "execution_count": null,
      "metadata": {
        "id": "3a16fca0",
        "colab": {
          "base_uri": "https://localhost:8080/"
        },
        "outputId": "89416f7c-193a-407f-f6ac-67d59fa5894e"
      },
      "outputs": [
        {
          "output_type": "stream",
          "name": "stdout",
          "text": [
            "[['ml/ai', 'researcher', 'yourekaa', 'technologies', 'inc.', '|', 'remote', 'novem', 'ber', '2023', '-', 'present'], ['development', 'and', 'deployment', 'of', 'the', 'ai', 'solution', 'of', 'yourekaa', 'technologies', 'inc.', 'machine', 'learning', 'engineer', 'africa', 'agility', 'git', 'bootcamp', '|', 'remote', 'july', '2023'], ['performed', 'data', 'analysis', 'on', 'provided', 'datasets', '.'], ['trained', 'supervised', 'machine', 'learning', 'models', ',', 'using', 'machine', 'learning', 'algorithms', 'such', 'as', 'linear', 'regression', ',', 'gradient', 'boosting', 'regressor', ',', 'random', 'forest', 'regressor', ',', 'etc', '.'], ['evaluated', 'the', 'models', '’', 'performances', 'using', 'rse', ',', 'mae', 'and', 'r-squared', '.', 'ai-driven', 'mobile', 'app', 'developer', 'technovation', 'girls', 'challenge', '2023', '|', 'remote', 'm', 'arch', '2023', '-', 'april', '2023'], ['developed', 'an', 'ai-assisted', 'edtech', 'mobile', 'application', 'using', 'mit', 'app', 'inventor', 'in', 'the', '2023', 'technovation', 'girls', 'challenge', '.'], ['presented', 'the', 'project', 'at', 'the', 'regional', 'competition', 'and', 'reached', 'the', 'quarter-ﬁnals', '.']]\n"
          ]
        }
      ],
      "source": [
        "#importing `word_tokenize` for word tokenization\n",
        "from nltk.tokenize import word_tokenize\n",
        "\n",
        "#experience section\n",
        "#word tokenizes each string inside the list of strings (experience), with each individual string represented as `exp` instaed of the whole list (experience) at once (word_tokenize doesn't work on lists)\n",
        "exp_tokenized = [word_tokenize(exp) for exp in experience]\n",
        "print(exp_tokenized)"
      ],
      "id": "3a16fca0"
    },
    {
      "cell_type": "code",
      "execution_count": null,
      "metadata": {
        "id": "e068a7ff",
        "colab": {
          "base_uri": "https://localhost:8080/"
        },
        "outputId": "b7ababf1-7b92-4a5c-fc12-282586ec016c"
      },
      "outputs": [
        {
          "output_type": "stream",
          "name": "stdout",
          "text": [
            "[['bachelor', 'of', 'engineering', '(', 'b.eng', ')', 'software', 'engineering', '-', 'federal', 'university', 'of', 'technology', ',', 'owerri', ',', 'im', 'o', 'state', '.', 'august', '2023', '-', 'present', 'west', 'african', 'senior', 'school', 'certiﬁcate', '(', 'wassce', ')', 'susanchris', 'm', 'odel', 'schools', ',', 'owerri', ',', 'im', 'o', 'state', '.', 'septem', 'ber', '2016', '-', 'july', '2022', 'awards'], ['africa', 'agility', 'african', 'girls', 'in', 'tech', 'bootcamp', '6.0', 'certiﬁcate', 'of', 'completion', 'for', 'the', 'artiﬁcial', 'intelligence', 'track', '.'], ['quarter-ﬁnalist', 'in', 'the', '2023', 'technovation', 'girls', 'challenge', '.']]\n"
          ]
        }
      ],
      "source": [
        "#education section\n",
        "edu_tokenized = [word_tokenize(edu) for edu in education]\n",
        "print(edu_tokenized)"
      ],
      "id": "e068a7ff"
    },
    {
      "cell_type": "code",
      "execution_count": null,
      "metadata": {
        "id": "f22eb204",
        "scrolled": true,
        "colab": {
          "base_uri": "https://localhost:8080/"
        },
        "outputId": "83f0af3b-3f40-406a-ac81-5dce5286b06e"
      },
      "outputs": [
        {
          "output_type": "stream",
          "name": "stdout",
          "text": [
            "[['data', 'science', ':', 'dataset', 'collation', 'and', 'exploratory', 'data', 'analysis', '(', 'eda', ')', '.'], ['data', 'visualization', ':', 'matplotlib', ',', 'seaborn', '.'], ['m', 'achine', 'learning', ':', 'building', 'and', 'implementing', 'machine', 'learning', 'models', 'using', 'python', 'machine', 'learning', 'libraries', '.'], ['m', 'obile', 'app', 'developm', 'ent', ':', 'mit', 'app', 'inventor', '.'], ['w', 'eb', 'technologies', ':', 'html', ',', 'css', '.']]\n"
          ]
        }
      ],
      "source": [
        "#skills section\n",
        "skl_tokenized = [word_tokenize(skl) for skl in skills]\n",
        "print(skl_tokenized)"
      ],
      "id": "f22eb204"
    },
    {
      "cell_type": "markdown",
      "metadata": {
        "id": "10c58fac"
      },
      "source": [
        "**Sentence tokenization**"
      ],
      "id": "10c58fac"
    },
    {
      "cell_type": "code",
      "execution_count": null,
      "metadata": {
        "id": "9a66d43b",
        "colab": {
          "base_uri": "https://localhost:8080/"
        },
        "outputId": "3b51ebbd-eca0-4ef9-b6f4-9b17ba842a44"
      },
      "outputs": [
        {
          "output_type": "stream",
          "name": "stdout",
          "text": [
            "[['ml/ai researcher  yourekaa technologies inc. | remote novem ber 2023 - present'], ['development and deployment of the ai solution of yourekaa technologies inc. machine learning engineer africa agility git bootcamp | remote july 2023'], ['performed data analysis on provided datasets.'], ['trained supervised machine learning models, using machine learning algorithms such as linear regression, gradient boosting regressor, random forest regressor, etc.'], ['evaluated the models’ performances using rse, mae and r-squared.', 'ai-driven mobile app developer technovation girls challenge 2023 | remote m arch 2023 - april 2023'], ['developed an ai-assisted edtech mobile application using mit app inventor in the 2023 technovation girls challenge.'], ['presented the project at the regional competition and reached the quarter-ﬁnals.']]\n"
          ]
        }
      ],
      "source": [
        "#importing `sent_tokenize` for sentence tokenization\n",
        "from nltk.tokenize import sent_tokenize\n",
        "\n",
        "#experience section\n",
        "#sentence tokenizes each string inside the list of strings (experience), with each individual string represented as `exp` instaed of the whole list (experience) at once (sentence_tokenize doesn't work on lists)\n",
        "exp_sent_tokenized = [sent_tokenize(exp) for exp in experience]\n",
        "print(exp_sent_tokenized)"
      ],
      "id": "9a66d43b"
    },
    {
      "cell_type": "code",
      "execution_count": null,
      "metadata": {
        "id": "c205440b",
        "colab": {
          "base_uri": "https://localhost:8080/"
        },
        "outputId": "a491c79d-9954-4fc5-e92b-b96711f97bee"
      },
      "outputs": [
        {
          "output_type": "stream",
          "name": "stdout",
          "text": [
            "[['bachelor of engineering (b.eng)  software engineering - federal university of technology, owerri, im o state.', 'august 2023 - present west african senior school certiﬁcate (wassce)  susanchris m odel schools, owerri, im o state.', 'septem ber 2016 - july 2022 awards'], ['africa agility african girls in tech bootcamp 6.0 certiﬁcate of completion for the  artiﬁcial intelligence track.'], ['quarter-ﬁnalist in the 2023 technovation girls challenge.']]\n"
          ]
        }
      ],
      "source": [
        "#education section\n",
        "edu_sent_tokenized = [sent_tokenize(edu) for edu in education]\n",
        "print(edu_sent_tokenized)"
      ],
      "id": "c205440b"
    },
    {
      "cell_type": "code",
      "execution_count": null,
      "metadata": {
        "id": "2b99fdd2",
        "colab": {
          "base_uri": "https://localhost:8080/"
        },
        "outputId": "7fbee4a6-0576-46e0-a399-4993aeb8edf7"
      },
      "outputs": [
        {
          "output_type": "stream",
          "name": "stdout",
          "text": [
            "[['data science: dataset collation and exploratory data analysis (eda).'], ['data visualization: matplotlib, seaborn.'], ['m achine learning: building and implementing machine learning models using python machine learning libraries.'], ['m obile app developm ent: mit app inventor.'], ['w eb technologies: html, css.']]\n"
          ]
        }
      ],
      "source": [
        "#skills section\n",
        "skl_sent_tokenized = [sent_tokenize(skl) for skl in skills]\n",
        "print(skl_sent_tokenized)"
      ],
      "id": "2b99fdd2"
    },
    {
      "cell_type": "markdown",
      "metadata": {
        "id": "1f8e8545"
      },
      "source": [
        "**Punctuation removal**"
      ],
      "id": "1f8e8545"
    },
    {
      "cell_type": "code",
      "execution_count": null,
      "metadata": {
        "id": "16704aa3",
        "scrolled": true,
        "colab": {
          "base_uri": "https://localhost:8080/"
        },
        "outputId": "d38f995d-f201-4920-e5a3-b67715d9a65a"
      },
      "outputs": [
        {
          "output_type": "stream",
          "name": "stdout",
          "text": [
            "[['mlai', 'researcher', 'yourekaa', 'technologies', 'inc', 'remote', 'novem', 'ber', '2023', 'present'], ['development', 'and', 'deployment', 'of', 'the', 'ai', 'solution', 'of', 'yourekaa', 'technologies', 'inc', 'machine', 'learning', 'engineer', 'africa', 'agility', 'git', 'bootcamp', 'remote', 'july', '2023'], ['performed', 'data', 'analysis', 'on', 'provided', 'datasets'], ['trained', 'supervised', 'machine', 'learning', 'models', 'using', 'machine', 'learning', 'algorithms', 'such', 'as', 'linear', 'regression', 'gradient', 'boosting', 'regressor', 'random', 'forest', 'regressor', 'etc'], ['evaluated', 'the', 'models', '’', 'performances', 'using', 'rse', 'mae', 'and', 'rsquared', 'aidriven', 'mobile', 'app', 'developer', 'technovation', 'girls', 'challenge', '2023', 'remote', 'm', 'arch', '2023', 'april', '2023'], ['developed', 'an', 'aiassisted', 'edtech', 'mobile', 'application', 'using', 'mit', 'app', 'inventor', 'in', 'the', '2023', 'technovation', 'girls', 'challenge'], ['presented', 'the', 'project', 'at', 'the', 'regional', 'competition', 'and', 'reached', 'the', 'quarterﬁnals']]\n"
          ]
        }
      ],
      "source": [
        "#experience section\n",
        "#`re` stands for regular expression\n",
        "import re\n",
        "\n",
        "#this code says: escape (skip) at every punctuation encountered\n",
        "reg_exprsn = re.compile('[%s]' % re.escape(string.punctuation))\n",
        "\n",
        "exp_tokenized_no_punct = []\n",
        "\n",
        "#for loop that automates the process\n",
        "for review in exp_tokenized:\n",
        "    new_review_exp = []\n",
        "    for token in review:\n",
        "        new_token_exp = reg_exprsn.sub(u'', token)\n",
        "        if not new_token_exp == u'': new_review_exp.append(new_token_exp)\n",
        "    exp_tokenized_no_punct.append(new_review_exp)\n",
        "\n",
        "print(exp_tokenized_no_punct)"
      ],
      "id": "16704aa3"
    },
    {
      "cell_type": "code",
      "execution_count": null,
      "metadata": {
        "id": "ca5bb663",
        "colab": {
          "base_uri": "https://localhost:8080/"
        },
        "outputId": "b5f9f810-064c-4656-e0f8-c3813eb2ec07"
      },
      "outputs": [
        {
          "output_type": "stream",
          "name": "stdout",
          "text": [
            "[['bachelor', 'of', 'engineering', 'beng', 'software', 'engineering', 'federal', 'university', 'of', 'technology', 'owerri', 'im', 'o', 'state', 'august', '2023', 'present', 'west', 'african', 'senior', 'school', 'certiﬁcate', 'wassce', 'susanchris', 'm', 'odel', 'schools', 'owerri', 'im', 'o', 'state', 'septem', 'ber', '2016', 'july', '2022', 'awards'], ['africa', 'agility', 'african', 'girls', 'in', 'tech', 'bootcamp', '60', 'certiﬁcate', 'of', 'completion', 'for', 'the', 'artiﬁcial', 'intelligence', 'track'], ['quarterﬁnalist', 'in', 'the', '2023', 'technovation', 'girls', 'challenge']]\n"
          ]
        }
      ],
      "source": [
        "#education section\n",
        "edu_tokenized_no_punct = []\n",
        "\n",
        "for review in edu_tokenized:\n",
        "    new_review_edu = []\n",
        "    for token in review:\n",
        "        new_token_edu = reg_exprsn.sub(u'', token)\n",
        "        if not new_token_edu == u'': new_review_edu.append(new_token_edu)\n",
        "    edu_tokenized_no_punct.append(new_review_edu)\n",
        "\n",
        "print(edu_tokenized_no_punct)"
      ],
      "id": "ca5bb663"
    },
    {
      "cell_type": "code",
      "execution_count": null,
      "metadata": {
        "id": "1ee9b078",
        "colab": {
          "base_uri": "https://localhost:8080/"
        },
        "outputId": "289f5a3d-e660-4971-e775-7ef1eaf677dc"
      },
      "outputs": [
        {
          "output_type": "stream",
          "name": "stdout",
          "text": [
            "[['data', 'science', 'dataset', 'collation', 'and', 'exploratory', 'data', 'analysis', 'eda'], ['data', 'visualization', 'matplotlib', 'seaborn'], ['m', 'achine', 'learning', 'building', 'and', 'implementing', 'machine', 'learning', 'models', 'using', 'python', 'machine', 'learning', 'libraries'], ['m', 'obile', 'app', 'developm', 'ent', 'mit', 'app', 'inventor'], ['w', 'eb', 'technologies', 'html', 'css']]\n"
          ]
        }
      ],
      "source": [
        "#skills section\n",
        "skl_tokenized_no_punct = []\n",
        "\n",
        "for review in skl_tokenized:\n",
        "    new_review_skl = []\n",
        "    for token in review:\n",
        "        new_token_skl = reg_exprsn.sub(u'', token)\n",
        "        if not new_token_skl == u'': new_review_skl.append(new_token_skl)\n",
        "    skl_tokenized_no_punct.append(new_review_skl)\n",
        "\n",
        "print(skl_tokenized_no_punct)"
      ],
      "id": "1ee9b078"
    },
    {
      "cell_type": "markdown",
      "metadata": {
        "id": "c52aa9ce"
      },
      "source": [
        "**Stopword removal**"
      ],
      "id": "c52aa9ce"
    },
    {
      "cell_type": "code",
      "execution_count": null,
      "metadata": {
        "id": "C9v8ynFPw6dq",
        "colab": {
          "base_uri": "https://localhost:8080/"
        },
        "outputId": "46b3c335-fef3-443d-f685-9bb6fff53398"
      },
      "outputs": [
        {
          "output_type": "stream",
          "name": "stderr",
          "text": [
            "[nltk_data] Downloading package stopwords to /root/nltk_data...\n",
            "[nltk_data]   Unzipping corpora/stopwords.zip.\n"
          ]
        },
        {
          "output_type": "execute_result",
          "data": {
            "text/plain": [
              "True"
            ]
          },
          "metadata": {},
          "execution_count": 21
        }
      ],
      "source": [
        "nltk.download('stopwords')"
      ],
      "id": "C9v8ynFPw6dq"
    },
    {
      "cell_type": "code",
      "execution_count": null,
      "metadata": {
        "id": "d187b67c",
        "colab": {
          "base_uri": "https://localhost:8080/"
        },
        "outputId": "824fc16f-46aa-42c3-a8e1-8122083e5dc7"
      },
      "outputs": [
        {
          "output_type": "stream",
          "name": "stdout",
          "text": [
            "[['mlai', 'researcher', 'yourekaa', 'technologies', 'inc', 'remote', 'novem', 'ber', '2023', 'present'], ['development', 'deployment', 'ai', 'solution', 'yourekaa', 'technologies', 'inc', 'machine', 'learning', 'engineer', 'africa', 'agility', 'git', 'bootcamp', 'remote', 'july', '2023'], ['performed', 'data', 'analysis', 'provided', 'datasets'], ['trained', 'supervised', 'machine', 'learning', 'models', 'using', 'machine', 'learning', 'algorithms', 'linear', 'regression', 'gradient', 'boosting', 'regressor', 'random', 'forest', 'regressor', 'etc'], ['evaluated', 'models', '’', 'performances', 'using', 'rse', 'mae', 'rsquared', 'aidriven', 'mobile', 'app', 'developer', 'technovation', 'girls', 'challenge', '2023', 'remote', 'arch', '2023', 'april', '2023'], ['developed', 'aiassisted', 'edtech', 'mobile', 'application', 'using', 'mit', 'app', 'inventor', '2023', 'technovation', 'girls', 'challenge'], ['presented', 'project', 'regional', 'competition', 'reached', 'quarterﬁnals']]\n"
          ]
        }
      ],
      "source": [
        "#experience section\n",
        "from nltk.corpus import stopwords\n",
        "\n",
        "exp_tokenized_no_stopw = []\n",
        "\n",
        "for doc in exp_tokenized_no_punct:\n",
        "    new_term_vector_exp = []\n",
        "    for word in doc:\n",
        "        if not word in stopwords.words('english'): new_term_vector_exp.append(word)\n",
        "    exp_tokenized_no_stopw.append(new_term_vector_exp)\n",
        "\n",
        "print(exp_tokenized_no_stopw)"
      ],
      "id": "d187b67c"
    },
    {
      "cell_type": "code",
      "execution_count": null,
      "metadata": {
        "id": "38bcd873",
        "colab": {
          "base_uri": "https://localhost:8080/"
        },
        "outputId": "03a38d05-817b-4330-e98b-922199448809"
      },
      "outputs": [
        {
          "output_type": "stream",
          "name": "stdout",
          "text": [
            "[['bachelor', 'engineering', 'beng', 'software', 'engineering', 'federal', 'university', 'technology', 'owerri', 'im', 'state', 'august', '2023', 'present', 'west', 'african', 'senior', 'school', 'certiﬁcate', 'wassce', 'susanchris', 'odel', 'schools', 'owerri', 'im', 'state', 'septem', 'ber', '2016', 'july', '2022', 'awards'], ['africa', 'agility', 'african', 'girls', 'tech', 'bootcamp', '60', 'certiﬁcate', 'completion', 'artiﬁcial', 'intelligence', 'track'], ['quarterﬁnalist', '2023', 'technovation', 'girls', 'challenge']]\n"
          ]
        }
      ],
      "source": [
        "#education section\n",
        "edu_tokenized_no_stopw = []\n",
        "\n",
        "for doc in edu_tokenized_no_punct:\n",
        "    new_term_vector_edu = []\n",
        "    for word in doc:\n",
        "        if not word in stopwords.words('english'): new_term_vector_edu.append(word)\n",
        "    edu_tokenized_no_stopw.append(new_term_vector_edu)\n",
        "\n",
        "print(edu_tokenized_no_stopw)"
      ],
      "id": "38bcd873"
    },
    {
      "cell_type": "code",
      "execution_count": null,
      "metadata": {
        "id": "57fd83bc",
        "colab": {
          "base_uri": "https://localhost:8080/"
        },
        "outputId": "1f867aae-946c-43aa-fb87-e01c4044e3b0"
      },
      "outputs": [
        {
          "output_type": "stream",
          "name": "stdout",
          "text": [
            "[['data', 'science', 'dataset', 'collation', 'exploratory', 'data', 'analysis', 'eda'], ['data', 'visualization', 'matplotlib', 'seaborn'], ['achine', 'learning', 'building', 'implementing', 'machine', 'learning', 'models', 'using', 'python', 'machine', 'learning', 'libraries'], ['obile', 'app', 'developm', 'ent', 'mit', 'app', 'inventor'], ['w', 'eb', 'technologies', 'html', 'css']]\n"
          ]
        }
      ],
      "source": [
        "#skills section\n",
        "skl_tokenized_no_stopw = []\n",
        "\n",
        "for doc in skl_tokenized_no_punct:\n",
        "    new_term_vector_skl = []\n",
        "    for word in doc:\n",
        "        if not word in stopwords.words('english'): new_term_vector_skl.append(word)\n",
        "    skl_tokenized_no_stopw.append(new_term_vector_skl)\n",
        "\n",
        "print(skl_tokenized_no_stopw)"
      ],
      "id": "57fd83bc"
    },
    {
      "cell_type": "markdown",
      "metadata": {
        "id": "c6ed8682"
      },
      "source": [
        "**Stemming and Lemmantization**\n",
        "(But only lemmantization was done, 'cause it's better.)"
      ],
      "id": "c6ed8682"
    },
    {
      "cell_type": "code",
      "execution_count": null,
      "metadata": {
        "id": "63636580",
        "colab": {
          "base_uri": "https://localhost:8080/"
        },
        "outputId": "f681dda0-3cf3-4ccd-9bb9-89b1359e85d8"
      },
      "outputs": [
        {
          "output_type": "stream",
          "name": "stderr",
          "text": [
            "[nltk_data] Downloading package wordnet to /root/nltk_data...\n"
          ]
        },
        {
          "output_type": "execute_result",
          "data": {
            "text/plain": [
              "True"
            ]
          },
          "metadata": {},
          "execution_count": 25
        }
      ],
      "source": [
        "#Lemmantization\n",
        "nltk.download('wordnet')  #Necessary for WordNetLemmatizer"
      ],
      "id": "63636580"
    },
    {
      "cell_type": "code",
      "execution_count": null,
      "metadata": {
        "id": "2ada806d",
        "colab": {
          "base_uri": "https://localhost:8080/"
        },
        "outputId": "bdb46f48-6572-46cf-e71e-a08ea102214b"
      },
      "outputs": [
        {
          "output_type": "stream",
          "name": "stdout",
          "text": [
            "[['mlai', 'researcher', 'yourekaa', 'technology', 'inc', 'remote', 'novem', 'ber', '2023', 'present'], ['development', 'deployment', 'ai', 'solution', 'yourekaa', 'technology', 'inc', 'machine', 'learning', 'engineer', 'africa', 'agility', 'git', 'bootcamp', 'remote', 'july', '2023'], ['performed', 'data', 'analysis', 'provided', 'datasets'], ['trained', 'supervised', 'machine', 'learning', 'model', 'using', 'machine', 'learning', 'algorithm', 'linear', 'regression', 'gradient', 'boosting', 'regressor', 'random', 'forest', 'regressor', 'etc'], ['evaluated', 'model', '’', 'performance', 'using', 'rse', 'mae', 'rsquared', 'aidriven', 'mobile', 'app', 'developer', 'technovation', 'girl', 'challenge', '2023', 'remote', 'arch', '2023', 'april', '2023'], ['developed', 'aiassisted', 'edtech', 'mobile', 'application', 'using', 'mit', 'app', 'inventor', '2023', 'technovation', 'girl', 'challenge'], ['presented', 'project', 'regional', 'competition', 'reached', 'quarterﬁnals']]\n"
          ]
        }
      ],
      "source": [
        "#experience section\n",
        "from nltk.stem.wordnet import WordNetLemmatizer\n",
        "wordnet = WordNetLemmatizer()\n",
        "\n",
        "exp_preprocessed = []\n",
        "\n",
        "for doc in exp_tokenized_no_stopw:\n",
        "    exp_final_doc = []\n",
        "    for word in doc:\n",
        "        exp_final_doc.append(wordnet.lemmatize(word))\n",
        "    exp_preprocessed.append(exp_final_doc)\n",
        "\n",
        "print(exp_preprocessed)"
      ],
      "id": "2ada806d"
    },
    {
      "cell_type": "code",
      "execution_count": null,
      "metadata": {
        "id": "721e3617",
        "colab": {
          "base_uri": "https://localhost:8080/"
        },
        "outputId": "2712afce-42a9-4e78-f820-571d80a57a1d"
      },
      "outputs": [
        {
          "output_type": "stream",
          "name": "stdout",
          "text": [
            "[['bachelor', 'engineering', 'beng', 'software', 'engineering', 'federal', 'university', 'technology', 'owerri', 'im', 'state', 'august', '2023', 'present', 'west', 'african', 'senior', 'school', 'certiﬁcate', 'wassce', 'susanchris', 'odel', 'school', 'owerri', 'im', 'state', 'septem', 'ber', '2016', 'july', '2022', 'award'], ['africa', 'agility', 'african', 'girl', 'tech', 'bootcamp', '60', 'certiﬁcate', 'completion', 'artiﬁcial', 'intelligence', 'track'], ['quarterﬁnalist', '2023', 'technovation', 'girl', 'challenge']]\n"
          ]
        }
      ],
      "source": [
        "#education section\n",
        "edu_preprocessed = []\n",
        "\n",
        "for doc in edu_tokenized_no_stopw:\n",
        "    edu_final_doc = []\n",
        "    for word in doc:\n",
        "        edu_final_doc.append(wordnet.lemmatize(word))\n",
        "    edu_preprocessed.append(edu_final_doc)\n",
        "\n",
        "print(edu_preprocessed)"
      ],
      "id": "721e3617"
    },
    {
      "cell_type": "code",
      "execution_count": null,
      "metadata": {
        "id": "ixBxgojaxSr7",
        "colab": {
          "base_uri": "https://localhost:8080/"
        },
        "outputId": "3e032ea1-d8d4-45fc-cf96-30ed93e75557"
      },
      "outputs": [
        {
          "output_type": "stream",
          "name": "stdout",
          "text": [
            "[['data', 'science', 'dataset', 'collation', 'exploratory', 'data', 'analysis', 'eda'], ['data', 'visualization', 'matplotlib', 'seaborn'], ['achine', 'learning', 'building', 'implementing', 'machine', 'learning', 'model', 'using', 'python', 'machine', 'learning', 'library'], ['obile', 'app', 'developm', 'ent', 'mit', 'app', 'inventor'], ['w', 'eb', 'technology', 'html', 'cs']]\n"
          ]
        }
      ],
      "source": [
        "#skills section\n",
        "skl_preprocessed = []\n",
        "\n",
        "for doc in skl_tokenized_no_stopw:\n",
        "    skl_final_doc = []\n",
        "    for word in doc:\n",
        "        skl_final_doc.append(wordnet.lemmatize(word))\n",
        "    skl_preprocessed.append(skl_final_doc)\n",
        "\n",
        "print(skl_preprocessed)"
      ],
      "id": "ixBxgojaxSr7"
    },
    {
      "cell_type": "code",
      "execution_count": null,
      "metadata": {
        "id": "69ae89b0",
        "colab": {
          "base_uri": "https://localhost:8080/"
        },
        "outputId": "66b1504c-57bd-4b53-f69b-ac55590555eb"
      },
      "outputs": [
        {
          "output_type": "execute_result",
          "data": {
            "text/plain": [
              "[['mlai',\n",
              "  'researcher',\n",
              "  'yourekaa',\n",
              "  'technology',\n",
              "  'inc',\n",
              "  'remote',\n",
              "  'novem',\n",
              "  'ber',\n",
              "  '2023',\n",
              "  'present'],\n",
              " ['development',\n",
              "  'deployment',\n",
              "  'ai',\n",
              "  'solution',\n",
              "  'yourekaa',\n",
              "  'technology',\n",
              "  'inc',\n",
              "  'machine',\n",
              "  'learning',\n",
              "  'engineer',\n",
              "  'africa',\n",
              "  'agility',\n",
              "  'git',\n",
              "  'bootcamp',\n",
              "  'remote',\n",
              "  'july',\n",
              "  '2023'],\n",
              " ['performed', 'data', 'analysis', 'provided', 'datasets'],\n",
              " ['trained',\n",
              "  'supervised',\n",
              "  'machine',\n",
              "  'learning',\n",
              "  'model',\n",
              "  'using',\n",
              "  'machine',\n",
              "  'learning',\n",
              "  'algorithm',\n",
              "  'linear',\n",
              "  'regression',\n",
              "  'gradient',\n",
              "  'boosting',\n",
              "  'regressor',\n",
              "  'random',\n",
              "  'forest',\n",
              "  'regressor',\n",
              "  'etc'],\n",
              " ['evaluated',\n",
              "  'model',\n",
              "  '’',\n",
              "  'performance',\n",
              "  'using',\n",
              "  'rse',\n",
              "  'mae',\n",
              "  'rsquared',\n",
              "  'aidriven',\n",
              "  'mobile',\n",
              "  'app',\n",
              "  'developer',\n",
              "  'technovation',\n",
              "  'girl',\n",
              "  'challenge',\n",
              "  '2023',\n",
              "  'remote',\n",
              "  'arch',\n",
              "  '2023',\n",
              "  'april',\n",
              "  '2023'],\n",
              " ['developed',\n",
              "  'aiassisted',\n",
              "  'edtech',\n",
              "  'mobile',\n",
              "  'application',\n",
              "  'using',\n",
              "  'mit',\n",
              "  'app',\n",
              "  'inventor',\n",
              "  '2023',\n",
              "  'technovation',\n",
              "  'girl',\n",
              "  'challenge'],\n",
              " ['presented',\n",
              "  'project',\n",
              "  'regional',\n",
              "  'competition',\n",
              "  'reached',\n",
              "  'quarterﬁnals'],\n",
              " ['bachelor',\n",
              "  'engineering',\n",
              "  'beng',\n",
              "  'software',\n",
              "  'engineering',\n",
              "  'federal',\n",
              "  'university',\n",
              "  'technology',\n",
              "  'owerri',\n",
              "  'im',\n",
              "  'state',\n",
              "  'august',\n",
              "  '2023',\n",
              "  'present',\n",
              "  'west',\n",
              "  'african',\n",
              "  'senior',\n",
              "  'school',\n",
              "  'certiﬁcate',\n",
              "  'wassce',\n",
              "  'susanchris',\n",
              "  'odel',\n",
              "  'school',\n",
              "  'owerri',\n",
              "  'im',\n",
              "  'state',\n",
              "  'septem',\n",
              "  'ber',\n",
              "  '2016',\n",
              "  'july',\n",
              "  '2022',\n",
              "  'award'],\n",
              " ['africa',\n",
              "  'agility',\n",
              "  'african',\n",
              "  'girl',\n",
              "  'tech',\n",
              "  'bootcamp',\n",
              "  '60',\n",
              "  'certiﬁcate',\n",
              "  'completion',\n",
              "  'artiﬁcial',\n",
              "  'intelligence',\n",
              "  'track'],\n",
              " ['quarterﬁnalist', '2023', 'technovation', 'girl', 'challenge'],\n",
              " ['data',\n",
              "  'science',\n",
              "  'dataset',\n",
              "  'collation',\n",
              "  'exploratory',\n",
              "  'data',\n",
              "  'analysis',\n",
              "  'eda'],\n",
              " ['data', 'visualization', 'matplotlib', 'seaborn'],\n",
              " ['achine',\n",
              "  'learning',\n",
              "  'building',\n",
              "  'implementing',\n",
              "  'machine',\n",
              "  'learning',\n",
              "  'model',\n",
              "  'using',\n",
              "  'python',\n",
              "  'machine',\n",
              "  'learning',\n",
              "  'library'],\n",
              " ['obile', 'app', 'developm', 'ent', 'mit', 'app', 'inventor'],\n",
              " ['w', 'eb', 'technology', 'html', 'cs']]"
            ]
          },
          "metadata": {},
          "execution_count": 29
        }
      ],
      "source": [
        "#Saving each of the preprocessed sections into one variable\n",
        "\n",
        "CV = exp_preprocessed + edu_preprocessed + skl_preprocessed\n",
        "CV"
      ],
      "id": "69ae89b0"
    },
    {
      "cell_type": "markdown",
      "metadata": {
        "id": "04fecd0a"
      },
      "source": [
        "# Model Training using job descriptions"
      ],
      "id": "04fecd0a"
    },
    {
      "cell_type": "markdown",
      "metadata": {
        "id": "1bf9268f"
      },
      "source": [
        "**Analysing and extracting features from the job description**"
      ],
      "id": "1bf9268f"
    },
    {
      "cell_type": "code",
      "execution_count": null,
      "metadata": {
        "id": "440c422e",
        "colab": {
          "base_uri": "https://localhost:8080/",
          "height": 1000
        },
        "outputId": "9a845e6a-1d11-44a4-ddd0-c95622bd8e7e"
      },
      "outputs": [
        {
          "output_type": "execute_result",
          "data": {
            "text/plain": [
              "      Unnamed: 0  index                                          Job Title  \\\n",
              "0              0      0                              Senior Data Scientist   \n",
              "1              1      1                  Data Scientist, Product Analytics   \n",
              "2              2      2                               Data Science Manager   \n",
              "3              3      3                                       Data Analyst   \n",
              "4              4      4                             Director, Data Science   \n",
              "...          ...    ...                                                ...   \n",
              "3904        3904   4375                                  AWS Data Engineer   \n",
              "3905        3905   4376                              Data Analyst â Junior   \n",
              "3906        3906   4377                   Security Analytics Data Engineer   \n",
              "3907        3907   4378                   Security Analytics Data Engineer   \n",
              "3908        3908   4379  Patient Safety Physician or Safety Scientist -...   \n",
              "\n",
              "                   Salary Estimate  \\\n",
              "0     $111K-$181K (Glassdoor est.)   \n",
              "1     $111K-$181K (Glassdoor est.)   \n",
              "2     $111K-$181K (Glassdoor est.)   \n",
              "3     $111K-$181K (Glassdoor est.)   \n",
              "4     $111K-$181K (Glassdoor est.)   \n",
              "...                            ...   \n",
              "3904   $55K-$112K (Glassdoor est.)   \n",
              "3905   $55K-$112K (Glassdoor est.)   \n",
              "3906   $55K-$112K (Glassdoor est.)   \n",
              "3907   $55K-$112K (Glassdoor est.)   \n",
              "3908   $55K-$112K (Glassdoor est.)   \n",
              "\n",
              "                                        Job Description  Rating  \\\n",
              "0     ABOUT HOPPER\\n\\nAt Hopper, we’re on a mission ...     3.5   \n",
              "1     At Noom, we use scientifically proven methods ...     4.5   \n",
              "2     Decode_M\\n\\nhttps://www.decode-m.com/\\n\\nData ...    -1.0   \n",
              "3     Sapphire Digital seeks a dynamic and driven mi...     3.4   \n",
              "4     Director, Data Science - (200537)\\nDescription...     3.4   \n",
              "...                                                 ...     ...   \n",
              "3904  About Us\\n\\nTachyon Technologies is a Digital ...     4.4   \n",
              "3905  Job description\\nInterpret data, analyze resul...     5.0   \n",
              "3906  Job DescriptionThe Security Analytics Data Eng...     3.8   \n",
              "3907  The Security Analytics Data Engineer will inte...     4.0   \n",
              "3908  Help us transform patients' lives.\\nAt UCB, we...     3.7   \n",
              "\n",
              "                               Company Name       Location      Headquarters  \\\n",
              "0                               Hopper\\n3.5   New York, NY  Montreal, Canada   \n",
              "1                              Noom US\\n4.5   New York, NY      New York, NY   \n",
              "2                                  Decode_M   New York, NY      New York, NY   \n",
              "3                     Sapphire Digital\\n3.4  Lyndhurst, NJ     Lyndhurst, NJ   \n",
              "4           United Entertainment Group\\n3.4   New York, NY      New York, NY   \n",
              "...                                     ...            ...               ...   \n",
              "3904              Tachyon Technologies\\n4.4     Dublin, OH        Irving, TX   \n",
              "3905  Staffigo Technical Services, LLC\\n5.0   Columbus, OH     Woodridge, IL   \n",
              "3906                    PDS Tech, Inc.\\n3.8     Dublin, OH        Irving, TX   \n",
              "3907        Data Resource Technologies\\n4.0     Dublin, OH         Omaha, NE   \n",
              "3908                               UCB\\n3.7     Slough, OH  Brussel, Belgium   \n",
              "\n",
              "                         Size  Founded  Type of ownership  \\\n",
              "0       501 to 1000 employees     2007  Company - Private   \n",
              "1      1001 to 5000 employees     2008  Company - Private   \n",
              "2           1 to 50 employees       -1            Unknown   \n",
              "3        201 to 500 employees     2019  Company - Private   \n",
              "4         51 to 200 employees     2007  Company - Private   \n",
              "...                       ...      ...                ...   \n",
              "3904     201 to 500 employees     2011  Company - Private   \n",
              "3905      51 to 200 employees     2008  Company - Private   \n",
              "3906  5001 to 10000 employees     1977  Company - Private   \n",
              "3907        1 to 50 employees       -1  Company - Private   \n",
              "3908  5001 to 10000 employees       -1   Company - Public   \n",
              "\n",
              "                       Industry                     Sector  \\\n",
              "0               Travel Agencies           Travel & Tourism   \n",
              "1     Health, Beauty, & Fitness          Consumer Services   \n",
              "2                            -1                         -1   \n",
              "3                      Internet     Information Technology   \n",
              "4       Advertising & Marketing          Business Services   \n",
              "...                         ...                        ...   \n",
              "3904                IT Services     Information Technology   \n",
              "3905                IT Services     Information Technology   \n",
              "3906     Staffing & Outsourcing          Business Services   \n",
              "3907                 Accounting         Accounting & Legal   \n",
              "3908  Biotech & Pharmaceuticals  Biotech & Pharmaceuticals   \n",
              "\n",
              "                         Revenue               Competitors Easy Apply  \n",
              "0       Unknown / Non-Applicable                        -1         -1  \n",
              "1       Unknown / Non-Applicable                        -1         -1  \n",
              "2       Unknown / Non-Applicable                        -1       True  \n",
              "3       Unknown / Non-Applicable      Zocdoc, Healthgrades         -1  \n",
              "4       Unknown / Non-Applicable  BBDO, Grey Group, Droga5         -1  \n",
              "...                          ...                       ...        ...  \n",
              "3904    $10 to $25 million (USD)                        -1         -1  \n",
              "3905   $50 to $100 million (USD)                        -1         -1  \n",
              "3906  $100 to $500 million (USD)                        -1         -1  \n",
              "3907  Less than $1 million (USD)                        -1         -1  \n",
              "3908      $2 to $5 billion (USD)                    AbbVie         -1  \n",
              "\n",
              "[3909 rows x 17 columns]"
            ],
            "text/html": [
              "\n",
              "  <div id=\"df-91eea74b-d9fe-45dd-b3e5-ee33ae570c0e\" class=\"colab-df-container\">\n",
              "    <div>\n",
              "<style scoped>\n",
              "    .dataframe tbody tr th:only-of-type {\n",
              "        vertical-align: middle;\n",
              "    }\n",
              "\n",
              "    .dataframe tbody tr th {\n",
              "        vertical-align: top;\n",
              "    }\n",
              "\n",
              "    .dataframe thead th {\n",
              "        text-align: right;\n",
              "    }\n",
              "</style>\n",
              "<table border=\"1\" class=\"dataframe\">\n",
              "  <thead>\n",
              "    <tr style=\"text-align: right;\">\n",
              "      <th></th>\n",
              "      <th>Unnamed: 0</th>\n",
              "      <th>index</th>\n",
              "      <th>Job Title</th>\n",
              "      <th>Salary Estimate</th>\n",
              "      <th>Job Description</th>\n",
              "      <th>Rating</th>\n",
              "      <th>Company Name</th>\n",
              "      <th>Location</th>\n",
              "      <th>Headquarters</th>\n",
              "      <th>Size</th>\n",
              "      <th>Founded</th>\n",
              "      <th>Type of ownership</th>\n",
              "      <th>Industry</th>\n",
              "      <th>Sector</th>\n",
              "      <th>Revenue</th>\n",
              "      <th>Competitors</th>\n",
              "      <th>Easy Apply</th>\n",
              "    </tr>\n",
              "  </thead>\n",
              "  <tbody>\n",
              "    <tr>\n",
              "      <th>0</th>\n",
              "      <td>0</td>\n",
              "      <td>0</td>\n",
              "      <td>Senior Data Scientist</td>\n",
              "      <td>$111K-$181K (Glassdoor est.)</td>\n",
              "      <td>ABOUT HOPPER\\n\\nAt Hopper, we’re on a mission ...</td>\n",
              "      <td>3.5</td>\n",
              "      <td>Hopper\\n3.5</td>\n",
              "      <td>New York, NY</td>\n",
              "      <td>Montreal, Canada</td>\n",
              "      <td>501 to 1000 employees</td>\n",
              "      <td>2007</td>\n",
              "      <td>Company - Private</td>\n",
              "      <td>Travel Agencies</td>\n",
              "      <td>Travel &amp; Tourism</td>\n",
              "      <td>Unknown / Non-Applicable</td>\n",
              "      <td>-1</td>\n",
              "      <td>-1</td>\n",
              "    </tr>\n",
              "    <tr>\n",
              "      <th>1</th>\n",
              "      <td>1</td>\n",
              "      <td>1</td>\n",
              "      <td>Data Scientist, Product Analytics</td>\n",
              "      <td>$111K-$181K (Glassdoor est.)</td>\n",
              "      <td>At Noom, we use scientifically proven methods ...</td>\n",
              "      <td>4.5</td>\n",
              "      <td>Noom US\\n4.5</td>\n",
              "      <td>New York, NY</td>\n",
              "      <td>New York, NY</td>\n",
              "      <td>1001 to 5000 employees</td>\n",
              "      <td>2008</td>\n",
              "      <td>Company - Private</td>\n",
              "      <td>Health, Beauty, &amp; Fitness</td>\n",
              "      <td>Consumer Services</td>\n",
              "      <td>Unknown / Non-Applicable</td>\n",
              "      <td>-1</td>\n",
              "      <td>-1</td>\n",
              "    </tr>\n",
              "    <tr>\n",
              "      <th>2</th>\n",
              "      <td>2</td>\n",
              "      <td>2</td>\n",
              "      <td>Data Science Manager</td>\n",
              "      <td>$111K-$181K (Glassdoor est.)</td>\n",
              "      <td>Decode_M\\n\\nhttps://www.decode-m.com/\\n\\nData ...</td>\n",
              "      <td>-1.0</td>\n",
              "      <td>Decode_M</td>\n",
              "      <td>New York, NY</td>\n",
              "      <td>New York, NY</td>\n",
              "      <td>1 to 50 employees</td>\n",
              "      <td>-1</td>\n",
              "      <td>Unknown</td>\n",
              "      <td>-1</td>\n",
              "      <td>-1</td>\n",
              "      <td>Unknown / Non-Applicable</td>\n",
              "      <td>-1</td>\n",
              "      <td>True</td>\n",
              "    </tr>\n",
              "    <tr>\n",
              "      <th>3</th>\n",
              "      <td>3</td>\n",
              "      <td>3</td>\n",
              "      <td>Data Analyst</td>\n",
              "      <td>$111K-$181K (Glassdoor est.)</td>\n",
              "      <td>Sapphire Digital seeks a dynamic and driven mi...</td>\n",
              "      <td>3.4</td>\n",
              "      <td>Sapphire Digital\\n3.4</td>\n",
              "      <td>Lyndhurst, NJ</td>\n",
              "      <td>Lyndhurst, NJ</td>\n",
              "      <td>201 to 500 employees</td>\n",
              "      <td>2019</td>\n",
              "      <td>Company - Private</td>\n",
              "      <td>Internet</td>\n",
              "      <td>Information Technology</td>\n",
              "      <td>Unknown / Non-Applicable</td>\n",
              "      <td>Zocdoc, Healthgrades</td>\n",
              "      <td>-1</td>\n",
              "    </tr>\n",
              "    <tr>\n",
              "      <th>4</th>\n",
              "      <td>4</td>\n",
              "      <td>4</td>\n",
              "      <td>Director, Data Science</td>\n",
              "      <td>$111K-$181K (Glassdoor est.)</td>\n",
              "      <td>Director, Data Science - (200537)\\nDescription...</td>\n",
              "      <td>3.4</td>\n",
              "      <td>United Entertainment Group\\n3.4</td>\n",
              "      <td>New York, NY</td>\n",
              "      <td>New York, NY</td>\n",
              "      <td>51 to 200 employees</td>\n",
              "      <td>2007</td>\n",
              "      <td>Company - Private</td>\n",
              "      <td>Advertising &amp; Marketing</td>\n",
              "      <td>Business Services</td>\n",
              "      <td>Unknown / Non-Applicable</td>\n",
              "      <td>BBDO, Grey Group, Droga5</td>\n",
              "      <td>-1</td>\n",
              "    </tr>\n",
              "    <tr>\n",
              "      <th>...</th>\n",
              "      <td>...</td>\n",
              "      <td>...</td>\n",
              "      <td>...</td>\n",
              "      <td>...</td>\n",
              "      <td>...</td>\n",
              "      <td>...</td>\n",
              "      <td>...</td>\n",
              "      <td>...</td>\n",
              "      <td>...</td>\n",
              "      <td>...</td>\n",
              "      <td>...</td>\n",
              "      <td>...</td>\n",
              "      <td>...</td>\n",
              "      <td>...</td>\n",
              "      <td>...</td>\n",
              "      <td>...</td>\n",
              "      <td>...</td>\n",
              "    </tr>\n",
              "    <tr>\n",
              "      <th>3904</th>\n",
              "      <td>3904</td>\n",
              "      <td>4375</td>\n",
              "      <td>AWS Data Engineer</td>\n",
              "      <td>$55K-$112K (Glassdoor est.)</td>\n",
              "      <td>About Us\\n\\nTachyon Technologies is a Digital ...</td>\n",
              "      <td>4.4</td>\n",
              "      <td>Tachyon Technologies\\n4.4</td>\n",
              "      <td>Dublin, OH</td>\n",
              "      <td>Irving, TX</td>\n",
              "      <td>201 to 500 employees</td>\n",
              "      <td>2011</td>\n",
              "      <td>Company - Private</td>\n",
              "      <td>IT Services</td>\n",
              "      <td>Information Technology</td>\n",
              "      <td>$10 to $25 million (USD)</td>\n",
              "      <td>-1</td>\n",
              "      <td>-1</td>\n",
              "    </tr>\n",
              "    <tr>\n",
              "      <th>3905</th>\n",
              "      <td>3905</td>\n",
              "      <td>4376</td>\n",
              "      <td>Data Analyst â Junior</td>\n",
              "      <td>$55K-$112K (Glassdoor est.)</td>\n",
              "      <td>Job description\\nInterpret data, analyze resul...</td>\n",
              "      <td>5.0</td>\n",
              "      <td>Staffigo Technical Services, LLC\\n5.0</td>\n",
              "      <td>Columbus, OH</td>\n",
              "      <td>Woodridge, IL</td>\n",
              "      <td>51 to 200 employees</td>\n",
              "      <td>2008</td>\n",
              "      <td>Company - Private</td>\n",
              "      <td>IT Services</td>\n",
              "      <td>Information Technology</td>\n",
              "      <td>$50 to $100 million (USD)</td>\n",
              "      <td>-1</td>\n",
              "      <td>-1</td>\n",
              "    </tr>\n",
              "    <tr>\n",
              "      <th>3906</th>\n",
              "      <td>3906</td>\n",
              "      <td>4377</td>\n",
              "      <td>Security Analytics Data Engineer</td>\n",
              "      <td>$55K-$112K (Glassdoor est.)</td>\n",
              "      <td>Job DescriptionThe Security Analytics Data Eng...</td>\n",
              "      <td>3.8</td>\n",
              "      <td>PDS Tech, Inc.\\n3.8</td>\n",
              "      <td>Dublin, OH</td>\n",
              "      <td>Irving, TX</td>\n",
              "      <td>5001 to 10000 employees</td>\n",
              "      <td>1977</td>\n",
              "      <td>Company - Private</td>\n",
              "      <td>Staffing &amp; Outsourcing</td>\n",
              "      <td>Business Services</td>\n",
              "      <td>$100 to $500 million (USD)</td>\n",
              "      <td>-1</td>\n",
              "      <td>-1</td>\n",
              "    </tr>\n",
              "    <tr>\n",
              "      <th>3907</th>\n",
              "      <td>3907</td>\n",
              "      <td>4378</td>\n",
              "      <td>Security Analytics Data Engineer</td>\n",
              "      <td>$55K-$112K (Glassdoor est.)</td>\n",
              "      <td>The Security Analytics Data Engineer will inte...</td>\n",
              "      <td>4.0</td>\n",
              "      <td>Data Resource Technologies\\n4.0</td>\n",
              "      <td>Dublin, OH</td>\n",
              "      <td>Omaha, NE</td>\n",
              "      <td>1 to 50 employees</td>\n",
              "      <td>-1</td>\n",
              "      <td>Company - Private</td>\n",
              "      <td>Accounting</td>\n",
              "      <td>Accounting &amp; Legal</td>\n",
              "      <td>Less than $1 million (USD)</td>\n",
              "      <td>-1</td>\n",
              "      <td>-1</td>\n",
              "    </tr>\n",
              "    <tr>\n",
              "      <th>3908</th>\n",
              "      <td>3908</td>\n",
              "      <td>4379</td>\n",
              "      <td>Patient Safety Physician or Safety Scientist -...</td>\n",
              "      <td>$55K-$112K (Glassdoor est.)</td>\n",
              "      <td>Help us transform patients' lives.\\nAt UCB, we...</td>\n",
              "      <td>3.7</td>\n",
              "      <td>UCB\\n3.7</td>\n",
              "      <td>Slough, OH</td>\n",
              "      <td>Brussel, Belgium</td>\n",
              "      <td>5001 to 10000 employees</td>\n",
              "      <td>-1</td>\n",
              "      <td>Company - Public</td>\n",
              "      <td>Biotech &amp; Pharmaceuticals</td>\n",
              "      <td>Biotech &amp; Pharmaceuticals</td>\n",
              "      <td>$2 to $5 billion (USD)</td>\n",
              "      <td>AbbVie</td>\n",
              "      <td>-1</td>\n",
              "    </tr>\n",
              "  </tbody>\n",
              "</table>\n",
              "<p>3909 rows × 17 columns</p>\n",
              "</div>\n",
              "    <div class=\"colab-df-buttons\">\n",
              "\n",
              "  <div class=\"colab-df-container\">\n",
              "    <button class=\"colab-df-convert\" onclick=\"convertToInteractive('df-91eea74b-d9fe-45dd-b3e5-ee33ae570c0e')\"\n",
              "            title=\"Convert this dataframe to an interactive table.\"\n",
              "            style=\"display:none;\">\n",
              "\n",
              "  <svg xmlns=\"http://www.w3.org/2000/svg\" height=\"24px\" viewBox=\"0 -960 960 960\">\n",
              "    <path d=\"M120-120v-720h720v720H120Zm60-500h600v-160H180v160Zm220 220h160v-160H400v160Zm0 220h160v-160H400v160ZM180-400h160v-160H180v160Zm440 0h160v-160H620v160ZM180-180h160v-160H180v160Zm440 0h160v-160H620v160Z\"/>\n",
              "  </svg>\n",
              "    </button>\n",
              "\n",
              "  <style>\n",
              "    .colab-df-container {\n",
              "      display:flex;\n",
              "      gap: 12px;\n",
              "    }\n",
              "\n",
              "    .colab-df-convert {\n",
              "      background-color: #E8F0FE;\n",
              "      border: none;\n",
              "      border-radius: 50%;\n",
              "      cursor: pointer;\n",
              "      display: none;\n",
              "      fill: #1967D2;\n",
              "      height: 32px;\n",
              "      padding: 0 0 0 0;\n",
              "      width: 32px;\n",
              "    }\n",
              "\n",
              "    .colab-df-convert:hover {\n",
              "      background-color: #E2EBFA;\n",
              "      box-shadow: 0px 1px 2px rgba(60, 64, 67, 0.3), 0px 1px 3px 1px rgba(60, 64, 67, 0.15);\n",
              "      fill: #174EA6;\n",
              "    }\n",
              "\n",
              "    .colab-df-buttons div {\n",
              "      margin-bottom: 4px;\n",
              "    }\n",
              "\n",
              "    [theme=dark] .colab-df-convert {\n",
              "      background-color: #3B4455;\n",
              "      fill: #D2E3FC;\n",
              "    }\n",
              "\n",
              "    [theme=dark] .colab-df-convert:hover {\n",
              "      background-color: #434B5C;\n",
              "      box-shadow: 0px 1px 3px 1px rgba(0, 0, 0, 0.15);\n",
              "      filter: drop-shadow(0px 1px 2px rgba(0, 0, 0, 0.3));\n",
              "      fill: #FFFFFF;\n",
              "    }\n",
              "  </style>\n",
              "\n",
              "    <script>\n",
              "      const buttonEl =\n",
              "        document.querySelector('#df-91eea74b-d9fe-45dd-b3e5-ee33ae570c0e button.colab-df-convert');\n",
              "      buttonEl.style.display =\n",
              "        google.colab.kernel.accessAllowed ? 'block' : 'none';\n",
              "\n",
              "      async function convertToInteractive(key) {\n",
              "        const element = document.querySelector('#df-91eea74b-d9fe-45dd-b3e5-ee33ae570c0e');\n",
              "        const dataTable =\n",
              "          await google.colab.kernel.invokeFunction('convertToInteractive',\n",
              "                                                    [key], {});\n",
              "        if (!dataTable) return;\n",
              "\n",
              "        const docLinkHtml = 'Like what you see? Visit the ' +\n",
              "          '<a target=\"_blank\" href=https://colab.research.google.com/notebooks/data_table.ipynb>data table notebook</a>'\n",
              "          + ' to learn more about interactive tables.';\n",
              "        element.innerHTML = '';\n",
              "        dataTable['output_type'] = 'display_data';\n",
              "        await google.colab.output.renderOutput(dataTable, element);\n",
              "        const docLink = document.createElement('div');\n",
              "        docLink.innerHTML = docLinkHtml;\n",
              "        element.appendChild(docLink);\n",
              "      }\n",
              "    </script>\n",
              "  </div>\n",
              "\n",
              "\n",
              "<div id=\"df-e8769bb7-e1c9-4c34-a48b-ce9ff68de06d\">\n",
              "  <button class=\"colab-df-quickchart\" onclick=\"quickchart('df-e8769bb7-e1c9-4c34-a48b-ce9ff68de06d')\"\n",
              "            title=\"Suggest charts\"\n",
              "            style=\"display:none;\">\n",
              "\n",
              "<svg xmlns=\"http://www.w3.org/2000/svg\" height=\"24px\"viewBox=\"0 0 24 24\"\n",
              "     width=\"24px\">\n",
              "    <g>\n",
              "        <path d=\"M19 3H5c-1.1 0-2 .9-2 2v14c0 1.1.9 2 2 2h14c1.1 0 2-.9 2-2V5c0-1.1-.9-2-2-2zM9 17H7v-7h2v7zm4 0h-2V7h2v10zm4 0h-2v-4h2v4z\"/>\n",
              "    </g>\n",
              "</svg>\n",
              "  </button>\n",
              "\n",
              "<style>\n",
              "  .colab-df-quickchart {\n",
              "      --bg-color: #E8F0FE;\n",
              "      --fill-color: #1967D2;\n",
              "      --hover-bg-color: #E2EBFA;\n",
              "      --hover-fill-color: #174EA6;\n",
              "      --disabled-fill-color: #AAA;\n",
              "      --disabled-bg-color: #DDD;\n",
              "  }\n",
              "\n",
              "  [theme=dark] .colab-df-quickchart {\n",
              "      --bg-color: #3B4455;\n",
              "      --fill-color: #D2E3FC;\n",
              "      --hover-bg-color: #434B5C;\n",
              "      --hover-fill-color: #FFFFFF;\n",
              "      --disabled-bg-color: #3B4455;\n",
              "      --disabled-fill-color: #666;\n",
              "  }\n",
              "\n",
              "  .colab-df-quickchart {\n",
              "    background-color: var(--bg-color);\n",
              "    border: none;\n",
              "    border-radius: 50%;\n",
              "    cursor: pointer;\n",
              "    display: none;\n",
              "    fill: var(--fill-color);\n",
              "    height: 32px;\n",
              "    padding: 0;\n",
              "    width: 32px;\n",
              "  }\n",
              "\n",
              "  .colab-df-quickchart:hover {\n",
              "    background-color: var(--hover-bg-color);\n",
              "    box-shadow: 0 1px 2px rgba(60, 64, 67, 0.3), 0 1px 3px 1px rgba(60, 64, 67, 0.15);\n",
              "    fill: var(--button-hover-fill-color);\n",
              "  }\n",
              "\n",
              "  .colab-df-quickchart-complete:disabled,\n",
              "  .colab-df-quickchart-complete:disabled:hover {\n",
              "    background-color: var(--disabled-bg-color);\n",
              "    fill: var(--disabled-fill-color);\n",
              "    box-shadow: none;\n",
              "  }\n",
              "\n",
              "  .colab-df-spinner {\n",
              "    border: 2px solid var(--fill-color);\n",
              "    border-color: transparent;\n",
              "    border-bottom-color: var(--fill-color);\n",
              "    animation:\n",
              "      spin 1s steps(1) infinite;\n",
              "  }\n",
              "\n",
              "  @keyframes spin {\n",
              "    0% {\n",
              "      border-color: transparent;\n",
              "      border-bottom-color: var(--fill-color);\n",
              "      border-left-color: var(--fill-color);\n",
              "    }\n",
              "    20% {\n",
              "      border-color: transparent;\n",
              "      border-left-color: var(--fill-color);\n",
              "      border-top-color: var(--fill-color);\n",
              "    }\n",
              "    30% {\n",
              "      border-color: transparent;\n",
              "      border-left-color: var(--fill-color);\n",
              "      border-top-color: var(--fill-color);\n",
              "      border-right-color: var(--fill-color);\n",
              "    }\n",
              "    40% {\n",
              "      border-color: transparent;\n",
              "      border-right-color: var(--fill-color);\n",
              "      border-top-color: var(--fill-color);\n",
              "    }\n",
              "    60% {\n",
              "      border-color: transparent;\n",
              "      border-right-color: var(--fill-color);\n",
              "    }\n",
              "    80% {\n",
              "      border-color: transparent;\n",
              "      border-right-color: var(--fill-color);\n",
              "      border-bottom-color: var(--fill-color);\n",
              "    }\n",
              "    90% {\n",
              "      border-color: transparent;\n",
              "      border-bottom-color: var(--fill-color);\n",
              "    }\n",
              "  }\n",
              "</style>\n",
              "\n",
              "  <script>\n",
              "    async function quickchart(key) {\n",
              "      const quickchartButtonEl =\n",
              "        document.querySelector('#' + key + ' button');\n",
              "      quickchartButtonEl.disabled = true;  // To prevent multiple clicks.\n",
              "      quickchartButtonEl.classList.add('colab-df-spinner');\n",
              "      try {\n",
              "        const charts = await google.colab.kernel.invokeFunction(\n",
              "            'suggestCharts', [key], {});\n",
              "      } catch (error) {\n",
              "        console.error('Error during call to suggestCharts:', error);\n",
              "      }\n",
              "      quickchartButtonEl.classList.remove('colab-df-spinner');\n",
              "      quickchartButtonEl.classList.add('colab-df-quickchart-complete');\n",
              "    }\n",
              "    (() => {\n",
              "      let quickchartButtonEl =\n",
              "        document.querySelector('#df-e8769bb7-e1c9-4c34-a48b-ce9ff68de06d button');\n",
              "      quickchartButtonEl.style.display =\n",
              "        google.colab.kernel.accessAllowed ? 'block' : 'none';\n",
              "    })();\n",
              "  </script>\n",
              "</div>\n",
              "\n",
              "  <div id=\"id_3493dd61-7b8f-482a-a06e-93f912131fe0\">\n",
              "    <style>\n",
              "      .colab-df-generate {\n",
              "        background-color: #E8F0FE;\n",
              "        border: none;\n",
              "        border-radius: 50%;\n",
              "        cursor: pointer;\n",
              "        display: none;\n",
              "        fill: #1967D2;\n",
              "        height: 32px;\n",
              "        padding: 0 0 0 0;\n",
              "        width: 32px;\n",
              "      }\n",
              "\n",
              "      .colab-df-generate:hover {\n",
              "        background-color: #E2EBFA;\n",
              "        box-shadow: 0px 1px 2px rgba(60, 64, 67, 0.3), 0px 1px 3px 1px rgba(60, 64, 67, 0.15);\n",
              "        fill: #174EA6;\n",
              "      }\n",
              "\n",
              "      [theme=dark] .colab-df-generate {\n",
              "        background-color: #3B4455;\n",
              "        fill: #D2E3FC;\n",
              "      }\n",
              "\n",
              "      [theme=dark] .colab-df-generate:hover {\n",
              "        background-color: #434B5C;\n",
              "        box-shadow: 0px 1px 3px 1px rgba(0, 0, 0, 0.15);\n",
              "        filter: drop-shadow(0px 1px 2px rgba(0, 0, 0, 0.3));\n",
              "        fill: #FFFFFF;\n",
              "      }\n",
              "    </style>\n",
              "    <button class=\"colab-df-generate\" onclick=\"generateWithVariable('ds')\"\n",
              "            title=\"Generate code using this dataframe.\"\n",
              "            style=\"display:none;\">\n",
              "\n",
              "  <svg xmlns=\"http://www.w3.org/2000/svg\" height=\"24px\"viewBox=\"0 0 24 24\"\n",
              "       width=\"24px\">\n",
              "    <path d=\"M7,19H8.4L18.45,9,17,7.55,7,17.6ZM5,21V16.75L18.45,3.32a2,2,0,0,1,2.83,0l1.4,1.43a1.91,1.91,0,0,1,.58,1.4,1.91,1.91,0,0,1-.58,1.4L9.25,21ZM18.45,9,17,7.55Zm-12,3A5.31,5.31,0,0,0,4.9,8.1,5.31,5.31,0,0,0,1,6.5,5.31,5.31,0,0,0,4.9,4.9,5.31,5.31,0,0,0,6.5,1,5.31,5.31,0,0,0,8.1,4.9,5.31,5.31,0,0,0,12,6.5,5.46,5.46,0,0,0,6.5,12Z\"/>\n",
              "  </svg>\n",
              "    </button>\n",
              "    <script>\n",
              "      (() => {\n",
              "      const buttonEl =\n",
              "        document.querySelector('#id_3493dd61-7b8f-482a-a06e-93f912131fe0 button.colab-df-generate');\n",
              "      buttonEl.style.display =\n",
              "        google.colab.kernel.accessAllowed ? 'block' : 'none';\n",
              "\n",
              "      buttonEl.onclick = () => {\n",
              "        google.colab.notebook.generateWithVariable('ds');\n",
              "      }\n",
              "      })();\n",
              "    </script>\n",
              "  </div>\n",
              "\n",
              "    </div>\n",
              "  </div>\n"
            ]
          },
          "metadata": {},
          "execution_count": 30
        }
      ],
      "source": [
        "import pandas as pd\n",
        "\n",
        "ds = pd.read_csv('/content/drive/MyDrive/DataScientist.csv')\n",
        "ds"
      ],
      "id": "440c422e"
    },
    {
      "cell_type": "code",
      "execution_count": null,
      "metadata": {
        "id": "cc903f3d",
        "scrolled": false,
        "colab": {
          "base_uri": "https://localhost:8080/"
        },
        "outputId": "045be864-bad6-4d96-b307-7dcab439a0d0"
      },
      "outputs": [
        {
          "output_type": "execute_result",
          "data": {
            "text/plain": [
              "Unnamed: 0           0\n",
              "index                0\n",
              "Job Title            0\n",
              "Salary Estimate      0\n",
              "Job Description      0\n",
              "Rating               0\n",
              "Company Name         0\n",
              "Location             0\n",
              "Headquarters         0\n",
              "Size                 0\n",
              "Founded              0\n",
              "Type of ownership    0\n",
              "Industry             0\n",
              "Sector               0\n",
              "Revenue              0\n",
              "Competitors          0\n",
              "Easy Apply           0\n",
              "dtype: int64"
            ]
          },
          "metadata": {},
          "execution_count": 31
        }
      ],
      "source": [
        "ds.isnull().sum()"
      ],
      "id": "cc903f3d"
    },
    {
      "cell_type": "code",
      "execution_count": null,
      "metadata": {
        "id": "c2351694",
        "scrolled": true,
        "colab": {
          "base_uri": "https://localhost:8080/",
          "height": 424
        },
        "outputId": "ca32bb2d-cbaa-4dc5-90eb-142beb3c7292"
      },
      "outputs": [
        {
          "output_type": "execute_result",
          "data": {
            "text/plain": [
              "                                              Job Title  \\\n",
              "0                                 Senior Data Scientist   \n",
              "1                     Data Scientist, Product Analytics   \n",
              "2                                  Data Science Manager   \n",
              "3                                          Data Analyst   \n",
              "4                                Director, Data Science   \n",
              "...                                                 ...   \n",
              "3904                                  AWS Data Engineer   \n",
              "3905                              Data Analyst â Junior   \n",
              "3906                   Security Analytics Data Engineer   \n",
              "3907                   Security Analytics Data Engineer   \n",
              "3908  Patient Safety Physician or Safety Scientist -...   \n",
              "\n",
              "                                        Job Description  \n",
              "0     ABOUT HOPPER\\n\\nAt Hopper, we’re on a mission ...  \n",
              "1     At Noom, we use scientifically proven methods ...  \n",
              "2     Decode_M\\n\\nhttps://www.decode-m.com/\\n\\nData ...  \n",
              "3     Sapphire Digital seeks a dynamic and driven mi...  \n",
              "4     Director, Data Science - (200537)\\nDescription...  \n",
              "...                                                 ...  \n",
              "3904  About Us\\n\\nTachyon Technologies is a Digital ...  \n",
              "3905  Job description\\nInterpret data, analyze resul...  \n",
              "3906  Job DescriptionThe Security Analytics Data Eng...  \n",
              "3907  The Security Analytics Data Engineer will inte...  \n",
              "3908  Help us transform patients' lives.\\nAt UCB, we...  \n",
              "\n",
              "[3909 rows x 2 columns]"
            ],
            "text/html": [
              "\n",
              "  <div id=\"df-d2bc8405-b4af-4025-b12e-42d4a0dd2b7c\" class=\"colab-df-container\">\n",
              "    <div>\n",
              "<style scoped>\n",
              "    .dataframe tbody tr th:only-of-type {\n",
              "        vertical-align: middle;\n",
              "    }\n",
              "\n",
              "    .dataframe tbody tr th {\n",
              "        vertical-align: top;\n",
              "    }\n",
              "\n",
              "    .dataframe thead th {\n",
              "        text-align: right;\n",
              "    }\n",
              "</style>\n",
              "<table border=\"1\" class=\"dataframe\">\n",
              "  <thead>\n",
              "    <tr style=\"text-align: right;\">\n",
              "      <th></th>\n",
              "      <th>Job Title</th>\n",
              "      <th>Job Description</th>\n",
              "    </tr>\n",
              "  </thead>\n",
              "  <tbody>\n",
              "    <tr>\n",
              "      <th>0</th>\n",
              "      <td>Senior Data Scientist</td>\n",
              "      <td>ABOUT HOPPER\\n\\nAt Hopper, we’re on a mission ...</td>\n",
              "    </tr>\n",
              "    <tr>\n",
              "      <th>1</th>\n",
              "      <td>Data Scientist, Product Analytics</td>\n",
              "      <td>At Noom, we use scientifically proven methods ...</td>\n",
              "    </tr>\n",
              "    <tr>\n",
              "      <th>2</th>\n",
              "      <td>Data Science Manager</td>\n",
              "      <td>Decode_M\\n\\nhttps://www.decode-m.com/\\n\\nData ...</td>\n",
              "    </tr>\n",
              "    <tr>\n",
              "      <th>3</th>\n",
              "      <td>Data Analyst</td>\n",
              "      <td>Sapphire Digital seeks a dynamic and driven mi...</td>\n",
              "    </tr>\n",
              "    <tr>\n",
              "      <th>4</th>\n",
              "      <td>Director, Data Science</td>\n",
              "      <td>Director, Data Science - (200537)\\nDescription...</td>\n",
              "    </tr>\n",
              "    <tr>\n",
              "      <th>...</th>\n",
              "      <td>...</td>\n",
              "      <td>...</td>\n",
              "    </tr>\n",
              "    <tr>\n",
              "      <th>3904</th>\n",
              "      <td>AWS Data Engineer</td>\n",
              "      <td>About Us\\n\\nTachyon Technologies is a Digital ...</td>\n",
              "    </tr>\n",
              "    <tr>\n",
              "      <th>3905</th>\n",
              "      <td>Data Analyst â Junior</td>\n",
              "      <td>Job description\\nInterpret data, analyze resul...</td>\n",
              "    </tr>\n",
              "    <tr>\n",
              "      <th>3906</th>\n",
              "      <td>Security Analytics Data Engineer</td>\n",
              "      <td>Job DescriptionThe Security Analytics Data Eng...</td>\n",
              "    </tr>\n",
              "    <tr>\n",
              "      <th>3907</th>\n",
              "      <td>Security Analytics Data Engineer</td>\n",
              "      <td>The Security Analytics Data Engineer will inte...</td>\n",
              "    </tr>\n",
              "    <tr>\n",
              "      <th>3908</th>\n",
              "      <td>Patient Safety Physician or Safety Scientist -...</td>\n",
              "      <td>Help us transform patients' lives.\\nAt UCB, we...</td>\n",
              "    </tr>\n",
              "  </tbody>\n",
              "</table>\n",
              "<p>3909 rows × 2 columns</p>\n",
              "</div>\n",
              "    <div class=\"colab-df-buttons\">\n",
              "\n",
              "  <div class=\"colab-df-container\">\n",
              "    <button class=\"colab-df-convert\" onclick=\"convertToInteractive('df-d2bc8405-b4af-4025-b12e-42d4a0dd2b7c')\"\n",
              "            title=\"Convert this dataframe to an interactive table.\"\n",
              "            style=\"display:none;\">\n",
              "\n",
              "  <svg xmlns=\"http://www.w3.org/2000/svg\" height=\"24px\" viewBox=\"0 -960 960 960\">\n",
              "    <path d=\"M120-120v-720h720v720H120Zm60-500h600v-160H180v160Zm220 220h160v-160H400v160Zm0 220h160v-160H400v160ZM180-400h160v-160H180v160Zm440 0h160v-160H620v160ZM180-180h160v-160H180v160Zm440 0h160v-160H620v160Z\"/>\n",
              "  </svg>\n",
              "    </button>\n",
              "\n",
              "  <style>\n",
              "    .colab-df-container {\n",
              "      display:flex;\n",
              "      gap: 12px;\n",
              "    }\n",
              "\n",
              "    .colab-df-convert {\n",
              "      background-color: #E8F0FE;\n",
              "      border: none;\n",
              "      border-radius: 50%;\n",
              "      cursor: pointer;\n",
              "      display: none;\n",
              "      fill: #1967D2;\n",
              "      height: 32px;\n",
              "      padding: 0 0 0 0;\n",
              "      width: 32px;\n",
              "    }\n",
              "\n",
              "    .colab-df-convert:hover {\n",
              "      background-color: #E2EBFA;\n",
              "      box-shadow: 0px 1px 2px rgba(60, 64, 67, 0.3), 0px 1px 3px 1px rgba(60, 64, 67, 0.15);\n",
              "      fill: #174EA6;\n",
              "    }\n",
              "\n",
              "    .colab-df-buttons div {\n",
              "      margin-bottom: 4px;\n",
              "    }\n",
              "\n",
              "    [theme=dark] .colab-df-convert {\n",
              "      background-color: #3B4455;\n",
              "      fill: #D2E3FC;\n",
              "    }\n",
              "\n",
              "    [theme=dark] .colab-df-convert:hover {\n",
              "      background-color: #434B5C;\n",
              "      box-shadow: 0px 1px 3px 1px rgba(0, 0, 0, 0.15);\n",
              "      filter: drop-shadow(0px 1px 2px rgba(0, 0, 0, 0.3));\n",
              "      fill: #FFFFFF;\n",
              "    }\n",
              "  </style>\n",
              "\n",
              "    <script>\n",
              "      const buttonEl =\n",
              "        document.querySelector('#df-d2bc8405-b4af-4025-b12e-42d4a0dd2b7c button.colab-df-convert');\n",
              "      buttonEl.style.display =\n",
              "        google.colab.kernel.accessAllowed ? 'block' : 'none';\n",
              "\n",
              "      async function convertToInteractive(key) {\n",
              "        const element = document.querySelector('#df-d2bc8405-b4af-4025-b12e-42d4a0dd2b7c');\n",
              "        const dataTable =\n",
              "          await google.colab.kernel.invokeFunction('convertToInteractive',\n",
              "                                                    [key], {});\n",
              "        if (!dataTable) return;\n",
              "\n",
              "        const docLinkHtml = 'Like what you see? Visit the ' +\n",
              "          '<a target=\"_blank\" href=https://colab.research.google.com/notebooks/data_table.ipynb>data table notebook</a>'\n",
              "          + ' to learn more about interactive tables.';\n",
              "        element.innerHTML = '';\n",
              "        dataTable['output_type'] = 'display_data';\n",
              "        await google.colab.output.renderOutput(dataTable, element);\n",
              "        const docLink = document.createElement('div');\n",
              "        docLink.innerHTML = docLinkHtml;\n",
              "        element.appendChild(docLink);\n",
              "      }\n",
              "    </script>\n",
              "  </div>\n",
              "\n",
              "\n",
              "<div id=\"df-5f9cc34f-199d-454c-8f28-c0cc9d436b79\">\n",
              "  <button class=\"colab-df-quickchart\" onclick=\"quickchart('df-5f9cc34f-199d-454c-8f28-c0cc9d436b79')\"\n",
              "            title=\"Suggest charts\"\n",
              "            style=\"display:none;\">\n",
              "\n",
              "<svg xmlns=\"http://www.w3.org/2000/svg\" height=\"24px\"viewBox=\"0 0 24 24\"\n",
              "     width=\"24px\">\n",
              "    <g>\n",
              "        <path d=\"M19 3H5c-1.1 0-2 .9-2 2v14c0 1.1.9 2 2 2h14c1.1 0 2-.9 2-2V5c0-1.1-.9-2-2-2zM9 17H7v-7h2v7zm4 0h-2V7h2v10zm4 0h-2v-4h2v4z\"/>\n",
              "    </g>\n",
              "</svg>\n",
              "  </button>\n",
              "\n",
              "<style>\n",
              "  .colab-df-quickchart {\n",
              "      --bg-color: #E8F0FE;\n",
              "      --fill-color: #1967D2;\n",
              "      --hover-bg-color: #E2EBFA;\n",
              "      --hover-fill-color: #174EA6;\n",
              "      --disabled-fill-color: #AAA;\n",
              "      --disabled-bg-color: #DDD;\n",
              "  }\n",
              "\n",
              "  [theme=dark] .colab-df-quickchart {\n",
              "      --bg-color: #3B4455;\n",
              "      --fill-color: #D2E3FC;\n",
              "      --hover-bg-color: #434B5C;\n",
              "      --hover-fill-color: #FFFFFF;\n",
              "      --disabled-bg-color: #3B4455;\n",
              "      --disabled-fill-color: #666;\n",
              "  }\n",
              "\n",
              "  .colab-df-quickchart {\n",
              "    background-color: var(--bg-color);\n",
              "    border: none;\n",
              "    border-radius: 50%;\n",
              "    cursor: pointer;\n",
              "    display: none;\n",
              "    fill: var(--fill-color);\n",
              "    height: 32px;\n",
              "    padding: 0;\n",
              "    width: 32px;\n",
              "  }\n",
              "\n",
              "  .colab-df-quickchart:hover {\n",
              "    background-color: var(--hover-bg-color);\n",
              "    box-shadow: 0 1px 2px rgba(60, 64, 67, 0.3), 0 1px 3px 1px rgba(60, 64, 67, 0.15);\n",
              "    fill: var(--button-hover-fill-color);\n",
              "  }\n",
              "\n",
              "  .colab-df-quickchart-complete:disabled,\n",
              "  .colab-df-quickchart-complete:disabled:hover {\n",
              "    background-color: var(--disabled-bg-color);\n",
              "    fill: var(--disabled-fill-color);\n",
              "    box-shadow: none;\n",
              "  }\n",
              "\n",
              "  .colab-df-spinner {\n",
              "    border: 2px solid var(--fill-color);\n",
              "    border-color: transparent;\n",
              "    border-bottom-color: var(--fill-color);\n",
              "    animation:\n",
              "      spin 1s steps(1) infinite;\n",
              "  }\n",
              "\n",
              "  @keyframes spin {\n",
              "    0% {\n",
              "      border-color: transparent;\n",
              "      border-bottom-color: var(--fill-color);\n",
              "      border-left-color: var(--fill-color);\n",
              "    }\n",
              "    20% {\n",
              "      border-color: transparent;\n",
              "      border-left-color: var(--fill-color);\n",
              "      border-top-color: var(--fill-color);\n",
              "    }\n",
              "    30% {\n",
              "      border-color: transparent;\n",
              "      border-left-color: var(--fill-color);\n",
              "      border-top-color: var(--fill-color);\n",
              "      border-right-color: var(--fill-color);\n",
              "    }\n",
              "    40% {\n",
              "      border-color: transparent;\n",
              "      border-right-color: var(--fill-color);\n",
              "      border-top-color: var(--fill-color);\n",
              "    }\n",
              "    60% {\n",
              "      border-color: transparent;\n",
              "      border-right-color: var(--fill-color);\n",
              "    }\n",
              "    80% {\n",
              "      border-color: transparent;\n",
              "      border-right-color: var(--fill-color);\n",
              "      border-bottom-color: var(--fill-color);\n",
              "    }\n",
              "    90% {\n",
              "      border-color: transparent;\n",
              "      border-bottom-color: var(--fill-color);\n",
              "    }\n",
              "  }\n",
              "</style>\n",
              "\n",
              "  <script>\n",
              "    async function quickchart(key) {\n",
              "      const quickchartButtonEl =\n",
              "        document.querySelector('#' + key + ' button');\n",
              "      quickchartButtonEl.disabled = true;  // To prevent multiple clicks.\n",
              "      quickchartButtonEl.classList.add('colab-df-spinner');\n",
              "      try {\n",
              "        const charts = await google.colab.kernel.invokeFunction(\n",
              "            'suggestCharts', [key], {});\n",
              "      } catch (error) {\n",
              "        console.error('Error during call to suggestCharts:', error);\n",
              "      }\n",
              "      quickchartButtonEl.classList.remove('colab-df-spinner');\n",
              "      quickchartButtonEl.classList.add('colab-df-quickchart-complete');\n",
              "    }\n",
              "    (() => {\n",
              "      let quickchartButtonEl =\n",
              "        document.querySelector('#df-5f9cc34f-199d-454c-8f28-c0cc9d436b79 button');\n",
              "      quickchartButtonEl.style.display =\n",
              "        google.colab.kernel.accessAllowed ? 'block' : 'none';\n",
              "    })();\n",
              "  </script>\n",
              "</div>\n",
              "\n",
              "  <div id=\"id_30af0594-1496-4ad3-a786-dcd802e58cd3\">\n",
              "    <style>\n",
              "      .colab-df-generate {\n",
              "        background-color: #E8F0FE;\n",
              "        border: none;\n",
              "        border-radius: 50%;\n",
              "        cursor: pointer;\n",
              "        display: none;\n",
              "        fill: #1967D2;\n",
              "        height: 32px;\n",
              "        padding: 0 0 0 0;\n",
              "        width: 32px;\n",
              "      }\n",
              "\n",
              "      .colab-df-generate:hover {\n",
              "        background-color: #E2EBFA;\n",
              "        box-shadow: 0px 1px 2px rgba(60, 64, 67, 0.3), 0px 1px 3px 1px rgba(60, 64, 67, 0.15);\n",
              "        fill: #174EA6;\n",
              "      }\n",
              "\n",
              "      [theme=dark] .colab-df-generate {\n",
              "        background-color: #3B4455;\n",
              "        fill: #D2E3FC;\n",
              "      }\n",
              "\n",
              "      [theme=dark] .colab-df-generate:hover {\n",
              "        background-color: #434B5C;\n",
              "        box-shadow: 0px 1px 3px 1px rgba(0, 0, 0, 0.15);\n",
              "        filter: drop-shadow(0px 1px 2px rgba(0, 0, 0, 0.3));\n",
              "        fill: #FFFFFF;\n",
              "      }\n",
              "    </style>\n",
              "    <button class=\"colab-df-generate\" onclick=\"generateWithVariable('ds_needed')\"\n",
              "            title=\"Generate code using this dataframe.\"\n",
              "            style=\"display:none;\">\n",
              "\n",
              "  <svg xmlns=\"http://www.w3.org/2000/svg\" height=\"24px\"viewBox=\"0 0 24 24\"\n",
              "       width=\"24px\">\n",
              "    <path d=\"M7,19H8.4L18.45,9,17,7.55,7,17.6ZM5,21V16.75L18.45,3.32a2,2,0,0,1,2.83,0l1.4,1.43a1.91,1.91,0,0,1,.58,1.4,1.91,1.91,0,0,1-.58,1.4L9.25,21ZM18.45,9,17,7.55Zm-12,3A5.31,5.31,0,0,0,4.9,8.1,5.31,5.31,0,0,0,1,6.5,5.31,5.31,0,0,0,4.9,4.9,5.31,5.31,0,0,0,6.5,1,5.31,5.31,0,0,0,8.1,4.9,5.31,5.31,0,0,0,12,6.5,5.46,5.46,0,0,0,6.5,12Z\"/>\n",
              "  </svg>\n",
              "    </button>\n",
              "    <script>\n",
              "      (() => {\n",
              "      const buttonEl =\n",
              "        document.querySelector('#id_30af0594-1496-4ad3-a786-dcd802e58cd3 button.colab-df-generate');\n",
              "      buttonEl.style.display =\n",
              "        google.colab.kernel.accessAllowed ? 'block' : 'none';\n",
              "\n",
              "      buttonEl.onclick = () => {\n",
              "        google.colab.notebook.generateWithVariable('ds_needed');\n",
              "      }\n",
              "      })();\n",
              "    </script>\n",
              "  </div>\n",
              "\n",
              "    </div>\n",
              "  </div>\n"
            ]
          },
          "metadata": {},
          "execution_count": 32
        }
      ],
      "source": [
        "ds_needed = ds[['Job Title', 'Job Description']]\n",
        "ds_needed"
      ],
      "id": "c2351694"
    },
    {
      "cell_type": "markdown",
      "metadata": {
        "id": "125b1d24"
      },
      "source": [
        "**There are A LOT of rows in this dataset, thus it would take a lot of time for keywords to be extracted from it. So, instead of using all the job descriptions, I'll be training the model on just one.**"
      ],
      "id": "125b1d24"
    },
    {
      "cell_type": "code",
      "execution_count": null,
      "metadata": {
        "id": "0a64b13c",
        "colab": {
          "base_uri": "https://localhost:8080/",
          "height": 89
        },
        "outputId": "37815205-0a5b-4e33-9532-a54fa5a561e9"
      },
      "outputs": [
        {
          "output_type": "execute_result",
          "data": {
            "text/plain": [
              "               Job Title                                    Job Description\n",
              "0  Senior Data Scientist  ABOUT HOPPER\\n\\nAt Hopper, we’re on a mission ..."
            ],
            "text/html": [
              "\n",
              "  <div id=\"df-c3c5650f-8a52-4043-9bf5-4294c9798535\" class=\"colab-df-container\">\n",
              "    <div>\n",
              "<style scoped>\n",
              "    .dataframe tbody tr th:only-of-type {\n",
              "        vertical-align: middle;\n",
              "    }\n",
              "\n",
              "    .dataframe tbody tr th {\n",
              "        vertical-align: top;\n",
              "    }\n",
              "\n",
              "    .dataframe thead th {\n",
              "        text-align: right;\n",
              "    }\n",
              "</style>\n",
              "<table border=\"1\" class=\"dataframe\">\n",
              "  <thead>\n",
              "    <tr style=\"text-align: right;\">\n",
              "      <th></th>\n",
              "      <th>Job Title</th>\n",
              "      <th>Job Description</th>\n",
              "    </tr>\n",
              "  </thead>\n",
              "  <tbody>\n",
              "    <tr>\n",
              "      <th>0</th>\n",
              "      <td>Senior Data Scientist</td>\n",
              "      <td>ABOUT HOPPER\\n\\nAt Hopper, we’re on a mission ...</td>\n",
              "    </tr>\n",
              "  </tbody>\n",
              "</table>\n",
              "</div>\n",
              "    <div class=\"colab-df-buttons\">\n",
              "\n",
              "  <div class=\"colab-df-container\">\n",
              "    <button class=\"colab-df-convert\" onclick=\"convertToInteractive('df-c3c5650f-8a52-4043-9bf5-4294c9798535')\"\n",
              "            title=\"Convert this dataframe to an interactive table.\"\n",
              "            style=\"display:none;\">\n",
              "\n",
              "  <svg xmlns=\"http://www.w3.org/2000/svg\" height=\"24px\" viewBox=\"0 -960 960 960\">\n",
              "    <path d=\"M120-120v-720h720v720H120Zm60-500h600v-160H180v160Zm220 220h160v-160H400v160Zm0 220h160v-160H400v160ZM180-400h160v-160H180v160Zm440 0h160v-160H620v160ZM180-180h160v-160H180v160Zm440 0h160v-160H620v160Z\"/>\n",
              "  </svg>\n",
              "    </button>\n",
              "\n",
              "  <style>\n",
              "    .colab-df-container {\n",
              "      display:flex;\n",
              "      gap: 12px;\n",
              "    }\n",
              "\n",
              "    .colab-df-convert {\n",
              "      background-color: #E8F0FE;\n",
              "      border: none;\n",
              "      border-radius: 50%;\n",
              "      cursor: pointer;\n",
              "      display: none;\n",
              "      fill: #1967D2;\n",
              "      height: 32px;\n",
              "      padding: 0 0 0 0;\n",
              "      width: 32px;\n",
              "    }\n",
              "\n",
              "    .colab-df-convert:hover {\n",
              "      background-color: #E2EBFA;\n",
              "      box-shadow: 0px 1px 2px rgba(60, 64, 67, 0.3), 0px 1px 3px 1px rgba(60, 64, 67, 0.15);\n",
              "      fill: #174EA6;\n",
              "    }\n",
              "\n",
              "    .colab-df-buttons div {\n",
              "      margin-bottom: 4px;\n",
              "    }\n",
              "\n",
              "    [theme=dark] .colab-df-convert {\n",
              "      background-color: #3B4455;\n",
              "      fill: #D2E3FC;\n",
              "    }\n",
              "\n",
              "    [theme=dark] .colab-df-convert:hover {\n",
              "      background-color: #434B5C;\n",
              "      box-shadow: 0px 1px 3px 1px rgba(0, 0, 0, 0.15);\n",
              "      filter: drop-shadow(0px 1px 2px rgba(0, 0, 0, 0.3));\n",
              "      fill: #FFFFFF;\n",
              "    }\n",
              "  </style>\n",
              "\n",
              "    <script>\n",
              "      const buttonEl =\n",
              "        document.querySelector('#df-c3c5650f-8a52-4043-9bf5-4294c9798535 button.colab-df-convert');\n",
              "      buttonEl.style.display =\n",
              "        google.colab.kernel.accessAllowed ? 'block' : 'none';\n",
              "\n",
              "      async function convertToInteractive(key) {\n",
              "        const element = document.querySelector('#df-c3c5650f-8a52-4043-9bf5-4294c9798535');\n",
              "        const dataTable =\n",
              "          await google.colab.kernel.invokeFunction('convertToInteractive',\n",
              "                                                    [key], {});\n",
              "        if (!dataTable) return;\n",
              "\n",
              "        const docLinkHtml = 'Like what you see? Visit the ' +\n",
              "          '<a target=\"_blank\" href=https://colab.research.google.com/notebooks/data_table.ipynb>data table notebook</a>'\n",
              "          + ' to learn more about interactive tables.';\n",
              "        element.innerHTML = '';\n",
              "        dataTable['output_type'] = 'display_data';\n",
              "        await google.colab.output.renderOutput(dataTable, element);\n",
              "        const docLink = document.createElement('div');\n",
              "        docLink.innerHTML = docLinkHtml;\n",
              "        element.appendChild(docLink);\n",
              "      }\n",
              "    </script>\n",
              "  </div>\n",
              "\n",
              "\n",
              "  <div id=\"id_b275bb32-d0a0-4420-8e19-559da5628f10\">\n",
              "    <style>\n",
              "      .colab-df-generate {\n",
              "        background-color: #E8F0FE;\n",
              "        border: none;\n",
              "        border-radius: 50%;\n",
              "        cursor: pointer;\n",
              "        display: none;\n",
              "        fill: #1967D2;\n",
              "        height: 32px;\n",
              "        padding: 0 0 0 0;\n",
              "        width: 32px;\n",
              "      }\n",
              "\n",
              "      .colab-df-generate:hover {\n",
              "        background-color: #E2EBFA;\n",
              "        box-shadow: 0px 1px 2px rgba(60, 64, 67, 0.3), 0px 1px 3px 1px rgba(60, 64, 67, 0.15);\n",
              "        fill: #174EA6;\n",
              "      }\n",
              "\n",
              "      [theme=dark] .colab-df-generate {\n",
              "        background-color: #3B4455;\n",
              "        fill: #D2E3FC;\n",
              "      }\n",
              "\n",
              "      [theme=dark] .colab-df-generate:hover {\n",
              "        background-color: #434B5C;\n",
              "        box-shadow: 0px 1px 3px 1px rgba(0, 0, 0, 0.15);\n",
              "        filter: drop-shadow(0px 1px 2px rgba(0, 0, 0, 0.3));\n",
              "        fill: #FFFFFF;\n",
              "      }\n",
              "    </style>\n",
              "    <button class=\"colab-df-generate\" onclick=\"generateWithVariable('b')\"\n",
              "            title=\"Generate code using this dataframe.\"\n",
              "            style=\"display:none;\">\n",
              "\n",
              "  <svg xmlns=\"http://www.w3.org/2000/svg\" height=\"24px\"viewBox=\"0 0 24 24\"\n",
              "       width=\"24px\">\n",
              "    <path d=\"M7,19H8.4L18.45,9,17,7.55,7,17.6ZM5,21V16.75L18.45,3.32a2,2,0,0,1,2.83,0l1.4,1.43a1.91,1.91,0,0,1,.58,1.4,1.91,1.91,0,0,1-.58,1.4L9.25,21ZM18.45,9,17,7.55Zm-12,3A5.31,5.31,0,0,0,4.9,8.1,5.31,5.31,0,0,0,1,6.5,5.31,5.31,0,0,0,4.9,4.9,5.31,5.31,0,0,0,6.5,1,5.31,5.31,0,0,0,8.1,4.9,5.31,5.31,0,0,0,12,6.5,5.46,5.46,0,0,0,6.5,12Z\"/>\n",
              "  </svg>\n",
              "    </button>\n",
              "    <script>\n",
              "      (() => {\n",
              "      const buttonEl =\n",
              "        document.querySelector('#id_b275bb32-d0a0-4420-8e19-559da5628f10 button.colab-df-generate');\n",
              "      buttonEl.style.display =\n",
              "        google.colab.kernel.accessAllowed ? 'block' : 'none';\n",
              "\n",
              "      buttonEl.onclick = () => {\n",
              "        google.colab.notebook.generateWithVariable('b');\n",
              "      }\n",
              "      })();\n",
              "    </script>\n",
              "  </div>\n",
              "\n",
              "    </div>\n",
              "  </div>\n"
            ]
          },
          "metadata": {},
          "execution_count": 33
        }
      ],
      "source": [
        "#Let's take the needed job decription to be `b`\n",
        "\n",
        "b = ds_needed.head(1)\n",
        "b"
      ],
      "id": "0a64b13c"
    },
    {
      "cell_type": "code",
      "execution_count": null,
      "metadata": {
        "id": "77ea533d",
        "colab": {
          "base_uri": "https://localhost:8080/"
        },
        "outputId": "19395e7c-0b9d-4e0f-e328-213d670bd5e1"
      },
      "outputs": [
        {
          "output_type": "execute_result",
          "data": {
            "text/plain": [
              "0    Senior Data ScientistABOUT HOPPER\\n\\nAt Hopper...\n",
              "dtype: object"
            ]
          },
          "metadata": {},
          "execution_count": 34
        }
      ],
      "source": [
        "#CountVectorizer wouldn't work on a dataframe of two columns, so I concatentated the columns into one\n",
        "\n",
        "b_concat = b['Job Title'] + '' + b['Job Description']\n",
        "b_concat"
      ],
      "id": "77ea533d"
    },
    {
      "cell_type": "code",
      "execution_count": null,
      "metadata": {
        "id": "dvKF38G1ylPd"
      },
      "outputs": [],
      "source": [
        "#!pip install streamlit"
      ],
      "id": "dvKF38G1ylPd"
    },
    {
      "cell_type": "code",
      "execution_count": null,
      "metadata": {
        "id": "p3YHss3KzBxu"
      },
      "outputs": [],
      "source": [
        "#!streamlit run /usr/local/lib/python3.10/dist-packages/colab_kernel_launcher.py"
      ],
      "id": "p3YHss3KzBxu"
    },
    {
      "cell_type": "code",
      "execution_count": null,
      "metadata": {
        "id": "AUSUo84ByHSS"
      },
      "outputs": [],
      "source": [
        "# prompt: using streamlint display b_concat on the web browser\n",
        "\n",
        "#import streamlit as st\n",
        "\n",
        "#st.write(b_concat)\n"
      ],
      "id": "AUSUo84ByHSS"
    },
    {
      "cell_type": "markdown",
      "metadata": {
        "id": "ffe91f96"
      },
      "source": [
        "**I would have used `TfidfVectrizer()` instead of `CountVectrizer()` because it both finds term frequency across documents, and then supresses the most occuring term/s in the docs to remove unnecessary considerations of repeating words and focus more on unique words, but the vocabulary of `CountVectrizer()` just seemed better**."
      ],
      "id": "ffe91f96"
    },
    {
      "cell_type": "code",
      "execution_count": null,
      "metadata": {
        "id": "6a857337",
        "colab": {
          "base_uri": "https://localhost:8080/"
        },
        "outputId": "f8cc1b88-cd8c-4629-fcfa-d68590241c9c"
      },
      "outputs": [
        {
          "output_type": "execute_result",
          "data": {
            "text/plain": [
              "['mlai',\n",
              " 'researcher',\n",
              " 'yourekaa',\n",
              " 'technology',\n",
              " 'inc',\n",
              " 'remote',\n",
              " 'novem',\n",
              " 'ber',\n",
              " '2023',\n",
              " 'present',\n",
              " 'development',\n",
              " 'deployment',\n",
              " 'ai',\n",
              " 'solution',\n",
              " 'yourekaa',\n",
              " 'technology',\n",
              " 'inc',\n",
              " 'machine',\n",
              " 'learning',\n",
              " 'engineer',\n",
              " 'africa',\n",
              " 'agility',\n",
              " 'git',\n",
              " 'bootcamp',\n",
              " 'remote',\n",
              " 'july',\n",
              " '2023',\n",
              " 'performed',\n",
              " 'data',\n",
              " 'analysis',\n",
              " 'provided',\n",
              " 'datasets',\n",
              " 'trained',\n",
              " 'supervised',\n",
              " 'machine',\n",
              " 'learning',\n",
              " 'model',\n",
              " 'using',\n",
              " 'machine',\n",
              " 'learning',\n",
              " 'algorithm',\n",
              " 'linear',\n",
              " 'regression',\n",
              " 'gradient',\n",
              " 'boosting',\n",
              " 'regressor',\n",
              " 'random',\n",
              " 'forest',\n",
              " 'regressor',\n",
              " 'etc',\n",
              " 'evaluated',\n",
              " 'model',\n",
              " '’',\n",
              " 'performance',\n",
              " 'using',\n",
              " 'rse',\n",
              " 'mae',\n",
              " 'rsquared',\n",
              " 'aidriven',\n",
              " 'mobile',\n",
              " 'app',\n",
              " 'developer',\n",
              " 'technovation',\n",
              " 'girl',\n",
              " 'challenge',\n",
              " '2023',\n",
              " 'remote',\n",
              " 'arch',\n",
              " '2023',\n",
              " 'april',\n",
              " '2023',\n",
              " 'developed',\n",
              " 'aiassisted',\n",
              " 'edtech',\n",
              " 'mobile',\n",
              " 'application',\n",
              " 'using',\n",
              " 'mit',\n",
              " 'app',\n",
              " 'inventor',\n",
              " '2023',\n",
              " 'technovation',\n",
              " 'girl',\n",
              " 'challenge',\n",
              " 'presented',\n",
              " 'project',\n",
              " 'regional',\n",
              " 'competition',\n",
              " 'reached',\n",
              " 'quarterﬁnals',\n",
              " 'bachelor',\n",
              " 'engineering',\n",
              " 'beng',\n",
              " 'software',\n",
              " 'engineering',\n",
              " 'federal',\n",
              " 'university',\n",
              " 'technology',\n",
              " 'owerri',\n",
              " 'im',\n",
              " 'state',\n",
              " 'august',\n",
              " '2023',\n",
              " 'present',\n",
              " 'west',\n",
              " 'african',\n",
              " 'senior',\n",
              " 'school',\n",
              " 'certiﬁcate',\n",
              " 'wassce',\n",
              " 'susanchris',\n",
              " 'odel',\n",
              " 'school',\n",
              " 'owerri',\n",
              " 'im',\n",
              " 'state',\n",
              " 'septem',\n",
              " 'ber',\n",
              " '2016',\n",
              " 'july',\n",
              " '2022',\n",
              " 'award',\n",
              " 'africa',\n",
              " 'agility',\n",
              " 'african',\n",
              " 'girl',\n",
              " 'tech',\n",
              " 'bootcamp',\n",
              " '60',\n",
              " 'certiﬁcate',\n",
              " 'completion',\n",
              " 'artiﬁcial',\n",
              " 'intelligence',\n",
              " 'track',\n",
              " 'quarterﬁnalist',\n",
              " '2023',\n",
              " 'technovation',\n",
              " 'girl',\n",
              " 'challenge',\n",
              " 'data',\n",
              " 'science',\n",
              " 'dataset',\n",
              " 'collation',\n",
              " 'exploratory',\n",
              " 'data',\n",
              " 'analysis',\n",
              " 'eda',\n",
              " 'data',\n",
              " 'visualization',\n",
              " 'matplotlib',\n",
              " 'seaborn',\n",
              " 'achine',\n",
              " 'learning',\n",
              " 'building',\n",
              " 'implementing',\n",
              " 'machine',\n",
              " 'learning',\n",
              " 'model',\n",
              " 'using',\n",
              " 'python',\n",
              " 'machine',\n",
              " 'learning',\n",
              " 'library',\n",
              " 'obile',\n",
              " 'app',\n",
              " 'developm',\n",
              " 'ent',\n",
              " 'mit',\n",
              " 'app',\n",
              " 'inventor',\n",
              " 'w',\n",
              " 'eb',\n",
              " 'technology',\n",
              " 'html',\n",
              " 'cs']"
            ]
          },
          "metadata": {},
          "execution_count": 56
        }
      ],
      "source": [
        "#Turning CV (which is a list of lists) into a single list so it can be vectorized\n",
        "\n",
        "CV_list = [word for sublist in CV for word in sublist]\n",
        "CV_list"
      ],
      "id": "6a857337"
    },
    {
      "cell_type": "code",
      "execution_count": null,
      "metadata": {
        "id": "fbc5ad72"
      },
      "outputs": [],
      "source": [
        "from sklearn.feature_extraction.text import CountVectorizer\n",
        "vectorizer = CountVectorizer()"
      ],
      "id": "fbc5ad72"
    },
    {
      "cell_type": "code",
      "execution_count": null,
      "metadata": {
        "id": "26ebcb29",
        "scrolled": true
      },
      "outputs": [],
      "source": [
        "#model's vocab building and tokenizing\n",
        "\n",
        "X = vectorizer.fit_transform(CV_list)\n",
        "#vectorizer.transform(df['Keyword'])\n",
        "\n",
        "#print(vectorizer.transform(df['Keyword']))"
      ],
      "id": "26ebcb29"
    },
    {
      "cell_type": "code",
      "execution_count": null,
      "metadata": {
        "id": "017a4f82",
        "scrolled": true,
        "colab": {
          "base_uri": "https://localhost:8080/"
        },
        "outputId": "1428193e-e871-4d57-eec3-70e1df7d8b6d"
      },
      "outputs": [
        {
          "output_type": "stream",
          "name": "stdout",
          "text": [
            "{'mlai': 68, 'researcher': 90, 'yourekaa': 113, 'technology': 104, 'inc': 57, 'remote': 89, 'novem': 71, 'ber': 22, '2023': 2, 'present': 77, 'development': 39, 'deployment': 35, 'ai': 8, 'solution': 99, 'machine': 64, 'learning': 61, 'engineer': 43, 'africa': 5, 'agility': 7, 'git': 52, 'bootcamp': 24, 'july': 60, 'performed': 76, 'data': 32, 'analysis': 12, 'provided': 80, 'datasets': 34, 'trained': 107, 'supervised': 101, 'model': 70, 'using': 109, 'algorithm': 11, 'linear': 63, 'regression': 87, 'gradient': 53, 'boosting': 23, 'regressor': 88, 'random': 84, 'forest': 50, 'etc': 46, 'evaluated': 47, 'performance': 75, 'rse': 91, 'mae': 65, 'rsquared': 92, 'aidriven': 10, 'mobile': 69, 'app': 13, 'developer': 37, 'technovation': 105, 'girl': 51, 'challenge': 27, 'arch': 16, 'april': 15, 'developed': 36, 'aiassisted': 9, 'edtech': 42, 'application': 14, 'mit': 67, 'inventor': 59, 'presented': 78, 'project': 79, 'regional': 86, 'competition': 29, 'reached': 85, 'quarterﬁnals': 83, 'bachelor': 20, 'engineering': 44, 'beng': 21, 'software': 98, 'federal': 49, 'university': 108, 'owerri': 74, 'im': 55, 'state': 100, 'august': 18, 'west': 112, 'african': 6, 'senior': 96, 'school': 93, 'certiﬁcate': 26, 'wassce': 111, 'susanchris': 102, 'odel': 73, 'septem': 97, '2016': 0, '2022': 1, 'award': 19, 'tech': 103, '60': 3, 'completion': 30, 'artiﬁcial': 17, 'intelligence': 58, 'track': 106, 'quarterﬁnalist': 82, 'science': 94, 'dataset': 33, 'collation': 28, 'exploratory': 48, 'eda': 41, 'visualization': 110, 'matplotlib': 66, 'seaborn': 95, 'achine': 4, 'building': 25, 'implementing': 56, 'python': 81, 'library': 62, 'obile': 72, 'developm': 38, 'ent': 45, 'eb': 40, 'html': 54, 'cs': 31}\n"
          ]
        }
      ],
      "source": [
        "print(vectorizer.vocabulary_)"
      ],
      "id": "017a4f82"
    },
    {
      "cell_type": "code",
      "execution_count": null,
      "metadata": {
        "id": "3f6cd700"
      },
      "outputs": [],
      "source": [
        "#I can't find the shape of X, since it was only fitted using .fit() as a vectorized object (numbers).\n",
        "#I'd need to also transform it (into numbers and text) to get the shape\n",
        "\n",
        "#X.shape"
      ],
      "id": "3f6cd700"
    },
    {
      "cell_type": "markdown",
      "metadata": {
        "id": "2bdd786a"
      },
      "source": [
        "## Keyword extraction"
      ],
      "id": "2bdd786a"
    },
    {
      "cell_type": "markdown",
      "metadata": {
        "id": "bddeb0f2"
      },
      "source": [
        "**Keywords need to be extracted from the job descriptions to help testing CVs only against relevant keywords, instead of the whole job description.**"
      ],
      "id": "bddeb0f2"
    },
    {
      "cell_type": "code",
      "execution_count": null,
      "metadata": {
        "id": "d9735412",
        "colab": {
          "base_uri": "https://localhost:8080/",
          "height": 125
        },
        "outputId": "0fd1ba54-37a9-4d44-89d5-03026d9138eb"
      },
      "outputs": [
        {
          "output_type": "execute_result",
          "data": {
            "text/plain": [
              "'Senior Data ScientistABOUT HOPPER\\n\\nAt Hopper, we’re on a mission to make booking travel faster, easier, and more transparent. We are leveraging the power that comes from combining massive amounts of data and machine learning to build the world’s fastest-growing travel app -- one that enables our customers to save money and travel more. With over $235M CAD in funding from leading investors in both Canada and the US, Hopper is primed to continue its path toward becoming the go-to way to book travel as the world continues its shift to mobile.\\n\\nRecognized as the fastest-growing travel app by Forbes and one of the world’s most innovative companies by Fast Company two years in a row, Hopper has been downloaded over 40 million times and has helped travelers plan over 100 million trips and counting. The app has received high praise in the form of mobile accolades such as the Webby Award for Best Travel App of 2019, the Google Play Award for Standout Startup of 2016 and Apple’s App Store Best of 2015.\\n\\nTake off with us!\\n\\nTHE ROLE\\n\\nHopper is looking for a data-savvy individual to join our team as a Data Scientist and lead data-centric product development and complex business intelligence projects within our core air travel business unit. Every day you would draw powerful insights from our real-time feed of billions of flight search results and archives of several trillion data points. To succeed at Hopper you need the talent, passion, and experience to thrive in a highly performing company.\\nIN THIS ROLE YOU WILL:\\nFrame and conduct complex exploratory analyses needed to deepen our understanding of Hopper users.\\nPartner with product, business and strategy teams to leverage this user understanding for product improvements and other initiatives\\nUse machine learning and big data tools on tremendously large and complex data sets to enhance our data-driven, personalized travel advice\\nConduct research into various aspects of our business and employ statistical and modeling techniques when appropriate to make recommendations to non-technical stakeholders\\nCreate advanced dashboards for product experiment tracking and business unit performance analysis using Amplitude and Tableau\\nFind effective ways to simplify and communicate analyses to a non-technical audience.\\nA PERFECT CANDIDATE HAS:\\nA degree in Math, Statistics, Computer Science, Engineering or other quantitative disciplines\\nExtremely strong analytical and problem-solving skills\\nProven ability to communicate complex technical work to a non-technical audience\\nA strong passion for and extensive experience in conducting empirical research and answering hard questions with data\\nExperience with a data visualization tool (Tableau preferred) and project analysis tool such as Amplitude\\nExperience with relational databases and SQL, especially Hive\\nExperience working with extremely large data sets\\nExperience in Pandas, R, SAS or other tools appropriate for large scale data preparation and analysis\\nExperience with data mining, machine learning, statistical modeling tools and underlying algorithms\\nProficiency with Unix/Linux environments\\nBENEFITS\\n\\n• Well-funded and proven startup with large ambitions, competitive salary and stock options\\n• Dynamic and entrepreneurial team where pushing limits is everyday business\\n• 100% employer paid medical, dental, vision, disability and life insurance plans\\n• Access to a 401k (US) or Retirement Savings Plan (Canada)'"
            ],
            "application/vnd.google.colaboratory.intrinsic+json": {
              "type": "string"
            }
          },
          "metadata": {},
          "execution_count": 61
        }
      ],
      "source": [
        "#Turning ds_concat to a string, since the `keywords` module only accepts strings and not DataFrames\n",
        "\n",
        "b_concat_text = ''.join(b_concat)\n",
        "b_concat_text"
      ],
      "id": "d9735412"
    },
    {
      "cell_type": "markdown",
      "metadata": {
        "id": "498bb9b8"
      },
      "source": [
        "**TextRank is an algorithm that assigns importance scores to words in a text based on their relationships. The `summa` library in Python provides an implementation of TextRank for both summarizing text and exracting keywords. The documentation was really helpful: https://pypi.org/project/summa/**"
      ],
      "id": "498bb9b8"
    },
    {
      "cell_type": "code",
      "execution_count": null,
      "metadata": {
        "colab": {
          "base_uri": "https://localhost:8080/"
        },
        "id": "85604e45",
        "scrolled": true,
        "outputId": "96941fd3-44c1-48db-cd31-8d4a4867284f"
      },
      "outputs": [
        {
          "output_type": "stream",
          "name": "stdout",
          "text": [
            "Requirement already satisfied: summa in /usr/local/lib/python3.10/dist-packages (1.2.0)\n",
            "Requirement already satisfied: scipy>=0.19 in /usr/local/lib/python3.10/dist-packages (from summa) (1.11.4)\n",
            "Requirement already satisfied: numpy<1.28.0,>=1.21.6 in /usr/local/lib/python3.10/dist-packages (from scipy>=0.19->summa) (1.23.5)\n"
          ]
        }
      ],
      "source": [
        "!pip install summa\n",
        "#(already installed)"
      ],
      "id": "85604e45"
    },
    {
      "cell_type": "code",
      "execution_count": null,
      "metadata": {
        "colab": {
          "base_uri": "https://localhost:8080/"
        },
        "id": "44d4ce99",
        "outputId": "a4757612-660a-4a6a-b880-02f641860ac1"
      },
      "outputs": [
        {
          "output_type": "stream",
          "name": "stdout",
          "text": [
            "data\n",
            "travel\n",
            "experience\n",
            "experiment\n",
            "travelers plan\n",
            "complex business\n",
            "plans\n",
            "tools\n",
            "tool\n",
            "technical\n",
            "large\n",
            "product\n",
            "hopper\n",
            "times\n",
            "proven\n",
            "statistical\n",
            "statistics\n",
            "users\n",
            "user\n",
            "performance analysis\n",
            "highly performing\n",
            "save\n",
            "savings\n",
            "conduct\n",
            "conducting\n",
            "massive\n",
            "options\n",
            "r\n",
            "search\n",
            "algorithms\n",
            "hard\n",
            "mobile\n",
            "team\n",
            "teams\n",
            "power\n",
            "powerful\n",
            "high\n",
            "companies\n",
            "company\n",
            "extremely strong\n",
            "machine\n",
            "award\n",
            "environments\n"
          ]
        }
      ],
      "source": [
        "#Extracting keywords\n",
        "\n",
        "from summa import keywords\n",
        "kw = keywords.keywords(b_concat_text)\n",
        "print(kw)"
      ],
      "id": "44d4ce99"
    },
    {
      "cell_type": "code",
      "execution_count": null,
      "metadata": {
        "colab": {
          "base_uri": "https://localhost:8080/"
        },
        "id": "5rxv3ZGxU0Tn",
        "outputId": "5a9738cc-87ec-43e8-8d91-5241866ebb06"
      },
      "outputs": [
        {
          "output_type": "execute_result",
          "data": {
            "text/plain": [
              "['data',\n",
              " 'travel',\n",
              " 'experience',\n",
              " 'experiment',\n",
              " 'travelers plan',\n",
              " 'complex business',\n",
              " 'plans',\n",
              " 'tools',\n",
              " 'tool',\n",
              " 'technical',\n",
              " 'large',\n",
              " 'product',\n",
              " 'hopper',\n",
              " 'times',\n",
              " 'proven',\n",
              " 'statistical',\n",
              " 'statistics',\n",
              " 'users',\n",
              " 'user',\n",
              " 'performance analysis',\n",
              " 'highly performing',\n",
              " 'save',\n",
              " 'savings',\n",
              " 'conduct',\n",
              " 'conducting',\n",
              " 'massive',\n",
              " 'options',\n",
              " 'r',\n",
              " 'search',\n",
              " 'algorithms',\n",
              " 'hard',\n",
              " 'mobile',\n",
              " 'team',\n",
              " 'teams',\n",
              " 'power',\n",
              " 'powerful',\n",
              " 'high',\n",
              " 'companies',\n",
              " 'company',\n",
              " 'extremely strong',\n",
              " 'machine',\n",
              " 'award',\n",
              " 'environments']"
            ]
          },
          "metadata": {},
          "execution_count": 64
        }
      ],
      "source": [
        "#Turning kw into a list of strings, so it can be used in creating the DataFrame\n",
        "\n",
        "kw_list = kw.split('\\n')\n",
        "kw_list"
      ],
      "id": "5rxv3ZGxU0Tn"
    },
    {
      "cell_type": "markdown",
      "metadata": {
        "id": "021a1db4"
      },
      "source": [
        "**Creating a binary indicator to score the CV against the job description.**"
      ],
      "id": "021a1db4"
    },
    {
      "cell_type": "code",
      "source": [
        "#Changing CV_list to a string first, to make keywords in it more visible)\n",
        "\n",
        "CV_string = ' '.join(CV_list)\n",
        "CV_string"
      ],
      "metadata": {
        "colab": {
          "base_uri": "https://localhost:8080/",
          "height": 125
        },
        "id": "AOj3Bmn3RnsD",
        "outputId": "e2162320-8b36-473a-8f04-ab666c532771"
      },
      "id": "AOj3Bmn3RnsD",
      "execution_count": null,
      "outputs": [
        {
          "output_type": "execute_result",
          "data": {
            "text/plain": [
              "'mlai researcher yourekaa technology inc remote novem ber 2023 present development deployment ai solution yourekaa technology inc machine learning engineer africa agility git bootcamp remote july 2023 performed data analysis provided datasets trained supervised machine learning model using machine learning algorithm linear regression gradient boosting regressor random forest regressor etc evaluated model ’ performance using rse mae rsquared aidriven mobile app developer technovation girl challenge 2023 remote arch 2023 april 2023 developed aiassisted edtech mobile application using mit app inventor 2023 technovation girl challenge presented project regional competition reached quarterﬁnals bachelor engineering beng software engineering federal university technology owerri im state august 2023 present west african senior school certiﬁcate wassce susanchris odel school owerri im state septem ber 2016 july 2022 award africa agility african girl tech bootcamp 60 certiﬁcate completion artiﬁcial intelligence track quarterﬁnalist 2023 technovation girl challenge data science dataset collation exploratory data analysis eda data visualization matplotlib seaborn achine learning building implementing machine learning model using python machine learning library obile app developm ent mit app inventor w eb technology html cs'"
            ],
            "application/vnd.google.colaboratory.intrinsic+json": {
              "type": "string"
            }
          },
          "metadata": {},
          "execution_count": 95
        }
      ]
    },
    {
      "cell_type": "code",
      "execution_count": null,
      "metadata": {
        "colab": {
          "base_uri": "https://localhost:8080/",
          "height": 1000
        },
        "id": "mLeod730X-wp",
        "outputId": "f7aa751b-fa04-45f4-b378-fcef28e6d369"
      },
      "outputs": [
        {
          "output_type": "execute_result",
          "data": {
            "text/plain": [
              "                Keywords  Match\n",
              "0                   data      1\n",
              "1                 travel      0\n",
              "2             experience      0\n",
              "3             experiment      0\n",
              "4         travelers plan      0\n",
              "5       complex business      0\n",
              "6                  plans      0\n",
              "7                  tools      0\n",
              "8                   tool      0\n",
              "9              technical      0\n",
              "10                 large      0\n",
              "11               product      0\n",
              "12                hopper      0\n",
              "13                 times      0\n",
              "14                proven      0\n",
              "15           statistical      0\n",
              "16            statistics      0\n",
              "17                 users      0\n",
              "18                  user      0\n",
              "19  performance analysis      0\n",
              "20     highly performing      0\n",
              "21                  save      0\n",
              "22               savings      0\n",
              "23               conduct      0\n",
              "24            conducting      0\n",
              "25               massive      0\n",
              "26               options      0\n",
              "27                     r      1\n",
              "28                search      1\n",
              "29            algorithms      0\n",
              "30                  hard      0\n",
              "31                mobile      1\n",
              "32                  team      0\n",
              "33                 teams      0\n",
              "34                 power      0\n",
              "35              powerful      0\n",
              "36                  high      0\n",
              "37             companies      0\n",
              "38               company      0\n",
              "39      extremely strong      0\n",
              "40               machine      1\n",
              "41                 award      1\n",
              "42          environments      0"
            ],
            "text/html": [
              "\n",
              "  <div id=\"df-a6910ad3-e6b2-4182-a229-0df815ca7ab7\" class=\"colab-df-container\">\n",
              "    <div>\n",
              "<style scoped>\n",
              "    .dataframe tbody tr th:only-of-type {\n",
              "        vertical-align: middle;\n",
              "    }\n",
              "\n",
              "    .dataframe tbody tr th {\n",
              "        vertical-align: top;\n",
              "    }\n",
              "\n",
              "    .dataframe thead th {\n",
              "        text-align: right;\n",
              "    }\n",
              "</style>\n",
              "<table border=\"1\" class=\"dataframe\">\n",
              "  <thead>\n",
              "    <tr style=\"text-align: right;\">\n",
              "      <th></th>\n",
              "      <th>Keywords</th>\n",
              "      <th>Match</th>\n",
              "    </tr>\n",
              "  </thead>\n",
              "  <tbody>\n",
              "    <tr>\n",
              "      <th>0</th>\n",
              "      <td>data</td>\n",
              "      <td>1</td>\n",
              "    </tr>\n",
              "    <tr>\n",
              "      <th>1</th>\n",
              "      <td>travel</td>\n",
              "      <td>0</td>\n",
              "    </tr>\n",
              "    <tr>\n",
              "      <th>2</th>\n",
              "      <td>experience</td>\n",
              "      <td>0</td>\n",
              "    </tr>\n",
              "    <tr>\n",
              "      <th>3</th>\n",
              "      <td>experiment</td>\n",
              "      <td>0</td>\n",
              "    </tr>\n",
              "    <tr>\n",
              "      <th>4</th>\n",
              "      <td>travelers plan</td>\n",
              "      <td>0</td>\n",
              "    </tr>\n",
              "    <tr>\n",
              "      <th>5</th>\n",
              "      <td>complex business</td>\n",
              "      <td>0</td>\n",
              "    </tr>\n",
              "    <tr>\n",
              "      <th>6</th>\n",
              "      <td>plans</td>\n",
              "      <td>0</td>\n",
              "    </tr>\n",
              "    <tr>\n",
              "      <th>7</th>\n",
              "      <td>tools</td>\n",
              "      <td>0</td>\n",
              "    </tr>\n",
              "    <tr>\n",
              "      <th>8</th>\n",
              "      <td>tool</td>\n",
              "      <td>0</td>\n",
              "    </tr>\n",
              "    <tr>\n",
              "      <th>9</th>\n",
              "      <td>technical</td>\n",
              "      <td>0</td>\n",
              "    </tr>\n",
              "    <tr>\n",
              "      <th>10</th>\n",
              "      <td>large</td>\n",
              "      <td>0</td>\n",
              "    </tr>\n",
              "    <tr>\n",
              "      <th>11</th>\n",
              "      <td>product</td>\n",
              "      <td>0</td>\n",
              "    </tr>\n",
              "    <tr>\n",
              "      <th>12</th>\n",
              "      <td>hopper</td>\n",
              "      <td>0</td>\n",
              "    </tr>\n",
              "    <tr>\n",
              "      <th>13</th>\n",
              "      <td>times</td>\n",
              "      <td>0</td>\n",
              "    </tr>\n",
              "    <tr>\n",
              "      <th>14</th>\n",
              "      <td>proven</td>\n",
              "      <td>0</td>\n",
              "    </tr>\n",
              "    <tr>\n",
              "      <th>15</th>\n",
              "      <td>statistical</td>\n",
              "      <td>0</td>\n",
              "    </tr>\n",
              "    <tr>\n",
              "      <th>16</th>\n",
              "      <td>statistics</td>\n",
              "      <td>0</td>\n",
              "    </tr>\n",
              "    <tr>\n",
              "      <th>17</th>\n",
              "      <td>users</td>\n",
              "      <td>0</td>\n",
              "    </tr>\n",
              "    <tr>\n",
              "      <th>18</th>\n",
              "      <td>user</td>\n",
              "      <td>0</td>\n",
              "    </tr>\n",
              "    <tr>\n",
              "      <th>19</th>\n",
              "      <td>performance analysis</td>\n",
              "      <td>0</td>\n",
              "    </tr>\n",
              "    <tr>\n",
              "      <th>20</th>\n",
              "      <td>highly performing</td>\n",
              "      <td>0</td>\n",
              "    </tr>\n",
              "    <tr>\n",
              "      <th>21</th>\n",
              "      <td>save</td>\n",
              "      <td>0</td>\n",
              "    </tr>\n",
              "    <tr>\n",
              "      <th>22</th>\n",
              "      <td>savings</td>\n",
              "      <td>0</td>\n",
              "    </tr>\n",
              "    <tr>\n",
              "      <th>23</th>\n",
              "      <td>conduct</td>\n",
              "      <td>0</td>\n",
              "    </tr>\n",
              "    <tr>\n",
              "      <th>24</th>\n",
              "      <td>conducting</td>\n",
              "      <td>0</td>\n",
              "    </tr>\n",
              "    <tr>\n",
              "      <th>25</th>\n",
              "      <td>massive</td>\n",
              "      <td>0</td>\n",
              "    </tr>\n",
              "    <tr>\n",
              "      <th>26</th>\n",
              "      <td>options</td>\n",
              "      <td>0</td>\n",
              "    </tr>\n",
              "    <tr>\n",
              "      <th>27</th>\n",
              "      <td>r</td>\n",
              "      <td>1</td>\n",
              "    </tr>\n",
              "    <tr>\n",
              "      <th>28</th>\n",
              "      <td>search</td>\n",
              "      <td>1</td>\n",
              "    </tr>\n",
              "    <tr>\n",
              "      <th>29</th>\n",
              "      <td>algorithms</td>\n",
              "      <td>0</td>\n",
              "    </tr>\n",
              "    <tr>\n",
              "      <th>30</th>\n",
              "      <td>hard</td>\n",
              "      <td>0</td>\n",
              "    </tr>\n",
              "    <tr>\n",
              "      <th>31</th>\n",
              "      <td>mobile</td>\n",
              "      <td>1</td>\n",
              "    </tr>\n",
              "    <tr>\n",
              "      <th>32</th>\n",
              "      <td>team</td>\n",
              "      <td>0</td>\n",
              "    </tr>\n",
              "    <tr>\n",
              "      <th>33</th>\n",
              "      <td>teams</td>\n",
              "      <td>0</td>\n",
              "    </tr>\n",
              "    <tr>\n",
              "      <th>34</th>\n",
              "      <td>power</td>\n",
              "      <td>0</td>\n",
              "    </tr>\n",
              "    <tr>\n",
              "      <th>35</th>\n",
              "      <td>powerful</td>\n",
              "      <td>0</td>\n",
              "    </tr>\n",
              "    <tr>\n",
              "      <th>36</th>\n",
              "      <td>high</td>\n",
              "      <td>0</td>\n",
              "    </tr>\n",
              "    <tr>\n",
              "      <th>37</th>\n",
              "      <td>companies</td>\n",
              "      <td>0</td>\n",
              "    </tr>\n",
              "    <tr>\n",
              "      <th>38</th>\n",
              "      <td>company</td>\n",
              "      <td>0</td>\n",
              "    </tr>\n",
              "    <tr>\n",
              "      <th>39</th>\n",
              "      <td>extremely strong</td>\n",
              "      <td>0</td>\n",
              "    </tr>\n",
              "    <tr>\n",
              "      <th>40</th>\n",
              "      <td>machine</td>\n",
              "      <td>1</td>\n",
              "    </tr>\n",
              "    <tr>\n",
              "      <th>41</th>\n",
              "      <td>award</td>\n",
              "      <td>1</td>\n",
              "    </tr>\n",
              "    <tr>\n",
              "      <th>42</th>\n",
              "      <td>environments</td>\n",
              "      <td>0</td>\n",
              "    </tr>\n",
              "  </tbody>\n",
              "</table>\n",
              "</div>\n",
              "    <div class=\"colab-df-buttons\">\n",
              "\n",
              "  <div class=\"colab-df-container\">\n",
              "    <button class=\"colab-df-convert\" onclick=\"convertToInteractive('df-a6910ad3-e6b2-4182-a229-0df815ca7ab7')\"\n",
              "            title=\"Convert this dataframe to an interactive table.\"\n",
              "            style=\"display:none;\">\n",
              "\n",
              "  <svg xmlns=\"http://www.w3.org/2000/svg\" height=\"24px\" viewBox=\"0 -960 960 960\">\n",
              "    <path d=\"M120-120v-720h720v720H120Zm60-500h600v-160H180v160Zm220 220h160v-160H400v160Zm0 220h160v-160H400v160ZM180-400h160v-160H180v160Zm440 0h160v-160H620v160ZM180-180h160v-160H180v160Zm440 0h160v-160H620v160Z\"/>\n",
              "  </svg>\n",
              "    </button>\n",
              "\n",
              "  <style>\n",
              "    .colab-df-container {\n",
              "      display:flex;\n",
              "      gap: 12px;\n",
              "    }\n",
              "\n",
              "    .colab-df-convert {\n",
              "      background-color: #E8F0FE;\n",
              "      border: none;\n",
              "      border-radius: 50%;\n",
              "      cursor: pointer;\n",
              "      display: none;\n",
              "      fill: #1967D2;\n",
              "      height: 32px;\n",
              "      padding: 0 0 0 0;\n",
              "      width: 32px;\n",
              "    }\n",
              "\n",
              "    .colab-df-convert:hover {\n",
              "      background-color: #E2EBFA;\n",
              "      box-shadow: 0px 1px 2px rgba(60, 64, 67, 0.3), 0px 1px 3px 1px rgba(60, 64, 67, 0.15);\n",
              "      fill: #174EA6;\n",
              "    }\n",
              "\n",
              "    .colab-df-buttons div {\n",
              "      margin-bottom: 4px;\n",
              "    }\n",
              "\n",
              "    [theme=dark] .colab-df-convert {\n",
              "      background-color: #3B4455;\n",
              "      fill: #D2E3FC;\n",
              "    }\n",
              "\n",
              "    [theme=dark] .colab-df-convert:hover {\n",
              "      background-color: #434B5C;\n",
              "      box-shadow: 0px 1px 3px 1px rgba(0, 0, 0, 0.15);\n",
              "      filter: drop-shadow(0px 1px 2px rgba(0, 0, 0, 0.3));\n",
              "      fill: #FFFFFF;\n",
              "    }\n",
              "  </style>\n",
              "\n",
              "    <script>\n",
              "      const buttonEl =\n",
              "        document.querySelector('#df-a6910ad3-e6b2-4182-a229-0df815ca7ab7 button.colab-df-convert');\n",
              "      buttonEl.style.display =\n",
              "        google.colab.kernel.accessAllowed ? 'block' : 'none';\n",
              "\n",
              "      async function convertToInteractive(key) {\n",
              "        const element = document.querySelector('#df-a6910ad3-e6b2-4182-a229-0df815ca7ab7');\n",
              "        const dataTable =\n",
              "          await google.colab.kernel.invokeFunction('convertToInteractive',\n",
              "                                                    [key], {});\n",
              "        if (!dataTable) return;\n",
              "\n",
              "        const docLinkHtml = 'Like what you see? Visit the ' +\n",
              "          '<a target=\"_blank\" href=https://colab.research.google.com/notebooks/data_table.ipynb>data table notebook</a>'\n",
              "          + ' to learn more about interactive tables.';\n",
              "        element.innerHTML = '';\n",
              "        dataTable['output_type'] = 'display_data';\n",
              "        await google.colab.output.renderOutput(dataTable, element);\n",
              "        const docLink = document.createElement('div');\n",
              "        docLink.innerHTML = docLinkHtml;\n",
              "        element.appendChild(docLink);\n",
              "      }\n",
              "    </script>\n",
              "  </div>\n",
              "\n",
              "\n",
              "<div id=\"df-218bc960-4ea3-42ef-af33-d91fcb1a950f\">\n",
              "  <button class=\"colab-df-quickchart\" onclick=\"quickchart('df-218bc960-4ea3-42ef-af33-d91fcb1a950f')\"\n",
              "            title=\"Suggest charts\"\n",
              "            style=\"display:none;\">\n",
              "\n",
              "<svg xmlns=\"http://www.w3.org/2000/svg\" height=\"24px\"viewBox=\"0 0 24 24\"\n",
              "     width=\"24px\">\n",
              "    <g>\n",
              "        <path d=\"M19 3H5c-1.1 0-2 .9-2 2v14c0 1.1.9 2 2 2h14c1.1 0 2-.9 2-2V5c0-1.1-.9-2-2-2zM9 17H7v-7h2v7zm4 0h-2V7h2v10zm4 0h-2v-4h2v4z\"/>\n",
              "    </g>\n",
              "</svg>\n",
              "  </button>\n",
              "\n",
              "<style>\n",
              "  .colab-df-quickchart {\n",
              "      --bg-color: #E8F0FE;\n",
              "      --fill-color: #1967D2;\n",
              "      --hover-bg-color: #E2EBFA;\n",
              "      --hover-fill-color: #174EA6;\n",
              "      --disabled-fill-color: #AAA;\n",
              "      --disabled-bg-color: #DDD;\n",
              "  }\n",
              "\n",
              "  [theme=dark] .colab-df-quickchart {\n",
              "      --bg-color: #3B4455;\n",
              "      --fill-color: #D2E3FC;\n",
              "      --hover-bg-color: #434B5C;\n",
              "      --hover-fill-color: #FFFFFF;\n",
              "      --disabled-bg-color: #3B4455;\n",
              "      --disabled-fill-color: #666;\n",
              "  }\n",
              "\n",
              "  .colab-df-quickchart {\n",
              "    background-color: var(--bg-color);\n",
              "    border: none;\n",
              "    border-radius: 50%;\n",
              "    cursor: pointer;\n",
              "    display: none;\n",
              "    fill: var(--fill-color);\n",
              "    height: 32px;\n",
              "    padding: 0;\n",
              "    width: 32px;\n",
              "  }\n",
              "\n",
              "  .colab-df-quickchart:hover {\n",
              "    background-color: var(--hover-bg-color);\n",
              "    box-shadow: 0 1px 2px rgba(60, 64, 67, 0.3), 0 1px 3px 1px rgba(60, 64, 67, 0.15);\n",
              "    fill: var(--button-hover-fill-color);\n",
              "  }\n",
              "\n",
              "  .colab-df-quickchart-complete:disabled,\n",
              "  .colab-df-quickchart-complete:disabled:hover {\n",
              "    background-color: var(--disabled-bg-color);\n",
              "    fill: var(--disabled-fill-color);\n",
              "    box-shadow: none;\n",
              "  }\n",
              "\n",
              "  .colab-df-spinner {\n",
              "    border: 2px solid var(--fill-color);\n",
              "    border-color: transparent;\n",
              "    border-bottom-color: var(--fill-color);\n",
              "    animation:\n",
              "      spin 1s steps(1) infinite;\n",
              "  }\n",
              "\n",
              "  @keyframes spin {\n",
              "    0% {\n",
              "      border-color: transparent;\n",
              "      border-bottom-color: var(--fill-color);\n",
              "      border-left-color: var(--fill-color);\n",
              "    }\n",
              "    20% {\n",
              "      border-color: transparent;\n",
              "      border-left-color: var(--fill-color);\n",
              "      border-top-color: var(--fill-color);\n",
              "    }\n",
              "    30% {\n",
              "      border-color: transparent;\n",
              "      border-left-color: var(--fill-color);\n",
              "      border-top-color: var(--fill-color);\n",
              "      border-right-color: var(--fill-color);\n",
              "    }\n",
              "    40% {\n",
              "      border-color: transparent;\n",
              "      border-right-color: var(--fill-color);\n",
              "      border-top-color: var(--fill-color);\n",
              "    }\n",
              "    60% {\n",
              "      border-color: transparent;\n",
              "      border-right-color: var(--fill-color);\n",
              "    }\n",
              "    80% {\n",
              "      border-color: transparent;\n",
              "      border-right-color: var(--fill-color);\n",
              "      border-bottom-color: var(--fill-color);\n",
              "    }\n",
              "    90% {\n",
              "      border-color: transparent;\n",
              "      border-bottom-color: var(--fill-color);\n",
              "    }\n",
              "  }\n",
              "</style>\n",
              "\n",
              "  <script>\n",
              "    async function quickchart(key) {\n",
              "      const quickchartButtonEl =\n",
              "        document.querySelector('#' + key + ' button');\n",
              "      quickchartButtonEl.disabled = true;  // To prevent multiple clicks.\n",
              "      quickchartButtonEl.classList.add('colab-df-spinner');\n",
              "      try {\n",
              "        const charts = await google.colab.kernel.invokeFunction(\n",
              "            'suggestCharts', [key], {});\n",
              "      } catch (error) {\n",
              "        console.error('Error during call to suggestCharts:', error);\n",
              "      }\n",
              "      quickchartButtonEl.classList.remove('colab-df-spinner');\n",
              "      quickchartButtonEl.classList.add('colab-df-quickchart-complete');\n",
              "    }\n",
              "    (() => {\n",
              "      let quickchartButtonEl =\n",
              "        document.querySelector('#df-218bc960-4ea3-42ef-af33-d91fcb1a950f button');\n",
              "      quickchartButtonEl.style.display =\n",
              "        google.colab.kernel.accessAllowed ? 'block' : 'none';\n",
              "    })();\n",
              "  </script>\n",
              "</div>\n",
              "\n",
              "  <div id=\"id_8b17bf97-59ba-4b97-a9ce-1e13e5c1f50c\">\n",
              "    <style>\n",
              "      .colab-df-generate {\n",
              "        background-color: #E8F0FE;\n",
              "        border: none;\n",
              "        border-radius: 50%;\n",
              "        cursor: pointer;\n",
              "        display: none;\n",
              "        fill: #1967D2;\n",
              "        height: 32px;\n",
              "        padding: 0 0 0 0;\n",
              "        width: 32px;\n",
              "      }\n",
              "\n",
              "      .colab-df-generate:hover {\n",
              "        background-color: #E2EBFA;\n",
              "        box-shadow: 0px 1px 2px rgba(60, 64, 67, 0.3), 0px 1px 3px 1px rgba(60, 64, 67, 0.15);\n",
              "        fill: #174EA6;\n",
              "      }\n",
              "\n",
              "      [theme=dark] .colab-df-generate {\n",
              "        background-color: #3B4455;\n",
              "        fill: #D2E3FC;\n",
              "      }\n",
              "\n",
              "      [theme=dark] .colab-df-generate:hover {\n",
              "        background-color: #434B5C;\n",
              "        box-shadow: 0px 1px 3px 1px rgba(0, 0, 0, 0.15);\n",
              "        filter: drop-shadow(0px 1px 2px rgba(0, 0, 0, 0.3));\n",
              "        fill: #FFFFFF;\n",
              "      }\n",
              "    </style>\n",
              "    <button class=\"colab-df-generate\" onclick=\"generateWithVariable('df')\"\n",
              "            title=\"Generate code using this dataframe.\"\n",
              "            style=\"display:none;\">\n",
              "\n",
              "  <svg xmlns=\"http://www.w3.org/2000/svg\" height=\"24px\"viewBox=\"0 0 24 24\"\n",
              "       width=\"24px\">\n",
              "    <path d=\"M7,19H8.4L18.45,9,17,7.55,7,17.6ZM5,21V16.75L18.45,3.32a2,2,0,0,1,2.83,0l1.4,1.43a1.91,1.91,0,0,1,.58,1.4,1.91,1.91,0,0,1-.58,1.4L9.25,21ZM18.45,9,17,7.55Zm-12,3A5.31,5.31,0,0,0,4.9,8.1,5.31,5.31,0,0,0,1,6.5,5.31,5.31,0,0,0,4.9,4.9,5.31,5.31,0,0,0,6.5,1,5.31,5.31,0,0,0,8.1,4.9,5.31,5.31,0,0,0,12,6.5,5.46,5.46,0,0,0,6.5,12Z\"/>\n",
              "  </svg>\n",
              "    </button>\n",
              "    <script>\n",
              "      (() => {\n",
              "      const buttonEl =\n",
              "        document.querySelector('#id_8b17bf97-59ba-4b97-a9ce-1e13e5c1f50c button.colab-df-generate');\n",
              "      buttonEl.style.display =\n",
              "        google.colab.kernel.accessAllowed ? 'block' : 'none';\n",
              "\n",
              "      buttonEl.onclick = () => {\n",
              "        google.colab.notebook.generateWithVariable('df');\n",
              "      }\n",
              "      })();\n",
              "    </script>\n",
              "  </div>\n",
              "\n",
              "    </div>\n",
              "  </div>\n"
            ]
          },
          "metadata": {},
          "execution_count": 101
        }
      ],
      "source": [
        "#Creating the DF\n",
        "df = pd.DataFrame({'Keywords': kw_list})\n",
        "\n",
        "# Creating a binary indicator column, 'Match'\n",
        "#The lambda function checks if keywords x (from kw_list) is in CV_list for every keyword. It gives 1 if true and 0 if not, and then applies it column-wise to the created DF as 'Match'\n",
        "df['Match'] = df['Keywords'].apply(lambda x: 1 if x in CV_string else 0)\n",
        "\n",
        "df"
      ],
      "id": "mLeod730X-wp"
    },
    {
      "cell_type": "code",
      "execution_count": null,
      "metadata": {
        "colab": {
          "base_uri": "https://localhost:8080/"
        },
        "id": "Utw8ShqkS-i5",
        "outputId": "c2563072-a006-4481-bf9f-57c2cd163863"
      },
      "outputs": [
        {
          "output_type": "execute_result",
          "data": {
            "text/plain": [
              "((175, 114), (43, 2))"
            ]
          },
          "metadata": {},
          "execution_count": 67
        }
      ],
      "source": [
        "X.shape, df.shape"
      ],
      "id": "Utw8ShqkS-i5"
    },
    {
      "cell_type": "code",
      "execution_count": null,
      "metadata": {
        "id": "_w45FB5hjyYz"
      },
      "outputs": [],
      "source": [
        "#Making the values of X to be equal to those in in df['Match] using indexing (Sparse Matrix nnz Steps)\n",
        "\n",
        "select_num_samplesX = len(df['Match'])\n",
        "X_subset = X[:select_num_samplesX, :]"
      ],
      "id": "_w45FB5hjyYz"
    },
    {
      "cell_type": "code",
      "execution_count": null,
      "metadata": {
        "colab": {
          "base_uri": "https://localhost:8080/",
          "height": 75
        },
        "id": "5ef24b7c",
        "outputId": "ef78d5b3-26ef-4e15-fcf5-acaff45de4f9"
      },
      "outputs": [
        {
          "output_type": "execute_result",
          "data": {
            "text/plain": [
              "LogisticRegression()"
            ],
            "text/html": [
              "<style>#sk-container-id-2 {color: black;background-color: white;}#sk-container-id-2 pre{padding: 0;}#sk-container-id-2 div.sk-toggleable {background-color: white;}#sk-container-id-2 label.sk-toggleable__label {cursor: pointer;display: block;width: 100%;margin-bottom: 0;padding: 0.3em;box-sizing: border-box;text-align: center;}#sk-container-id-2 label.sk-toggleable__label-arrow:before {content: \"▸\";float: left;margin-right: 0.25em;color: #696969;}#sk-container-id-2 label.sk-toggleable__label-arrow:hover:before {color: black;}#sk-container-id-2 div.sk-estimator:hover label.sk-toggleable__label-arrow:before {color: black;}#sk-container-id-2 div.sk-toggleable__content {max-height: 0;max-width: 0;overflow: hidden;text-align: left;background-color: #f0f8ff;}#sk-container-id-2 div.sk-toggleable__content pre {margin: 0.2em;color: black;border-radius: 0.25em;background-color: #f0f8ff;}#sk-container-id-2 input.sk-toggleable__control:checked~div.sk-toggleable__content {max-height: 200px;max-width: 100%;overflow: auto;}#sk-container-id-2 input.sk-toggleable__control:checked~label.sk-toggleable__label-arrow:before {content: \"▾\";}#sk-container-id-2 div.sk-estimator input.sk-toggleable__control:checked~label.sk-toggleable__label {background-color: #d4ebff;}#sk-container-id-2 div.sk-label input.sk-toggleable__control:checked~label.sk-toggleable__label {background-color: #d4ebff;}#sk-container-id-2 input.sk-hidden--visually {border: 0;clip: rect(1px 1px 1px 1px);clip: rect(1px, 1px, 1px, 1px);height: 1px;margin: -1px;overflow: hidden;padding: 0;position: absolute;width: 1px;}#sk-container-id-2 div.sk-estimator {font-family: monospace;background-color: #f0f8ff;border: 1px dotted black;border-radius: 0.25em;box-sizing: border-box;margin-bottom: 0.5em;}#sk-container-id-2 div.sk-estimator:hover {background-color: #d4ebff;}#sk-container-id-2 div.sk-parallel-item::after {content: \"\";width: 100%;border-bottom: 1px solid gray;flex-grow: 1;}#sk-container-id-2 div.sk-label:hover label.sk-toggleable__label {background-color: #d4ebff;}#sk-container-id-2 div.sk-serial::before {content: \"\";position: absolute;border-left: 1px solid gray;box-sizing: border-box;top: 0;bottom: 0;left: 50%;z-index: 0;}#sk-container-id-2 div.sk-serial {display: flex;flex-direction: column;align-items: center;background-color: white;padding-right: 0.2em;padding-left: 0.2em;position: relative;}#sk-container-id-2 div.sk-item {position: relative;z-index: 1;}#sk-container-id-2 div.sk-parallel {display: flex;align-items: stretch;justify-content: center;background-color: white;position: relative;}#sk-container-id-2 div.sk-item::before, #sk-container-id-2 div.sk-parallel-item::before {content: \"\";position: absolute;border-left: 1px solid gray;box-sizing: border-box;top: 0;bottom: 0;left: 50%;z-index: -1;}#sk-container-id-2 div.sk-parallel-item {display: flex;flex-direction: column;z-index: 1;position: relative;background-color: white;}#sk-container-id-2 div.sk-parallel-item:first-child::after {align-self: flex-end;width: 50%;}#sk-container-id-2 div.sk-parallel-item:last-child::after {align-self: flex-start;width: 50%;}#sk-container-id-2 div.sk-parallel-item:only-child::after {width: 0;}#sk-container-id-2 div.sk-dashed-wrapped {border: 1px dashed gray;margin: 0 0.4em 0.5em 0.4em;box-sizing: border-box;padding-bottom: 0.4em;background-color: white;}#sk-container-id-2 div.sk-label label {font-family: monospace;font-weight: bold;display: inline-block;line-height: 1.2em;}#sk-container-id-2 div.sk-label-container {text-align: center;}#sk-container-id-2 div.sk-container {/* jupyter's `normalize.less` sets `[hidden] { display: none; }` but bootstrap.min.css set `[hidden] { display: none !important; }` so we also need the `!important` here to be able to override the default hidden behavior on the sphinx rendered scikit-learn.org. See: https://github.com/scikit-learn/scikit-learn/issues/21755 */display: inline-block !important;position: relative;}#sk-container-id-2 div.sk-text-repr-fallback {display: none;}</style><div id=\"sk-container-id-2\" class=\"sk-top-container\"><div class=\"sk-text-repr-fallback\"><pre>LogisticRegression()</pre><b>In a Jupyter environment, please rerun this cell to show the HTML representation or trust the notebook. <br />On GitHub, the HTML representation is unable to render, please try loading this page with nbviewer.org.</b></div><div class=\"sk-container\" hidden><div class=\"sk-item\"><div class=\"sk-estimator sk-toggleable\"><input class=\"sk-toggleable__control sk-hidden--visually\" id=\"sk-estimator-id-2\" type=\"checkbox\" checked><label for=\"sk-estimator-id-2\" class=\"sk-toggleable__label sk-toggleable__label-arrow\">LogisticRegression</label><div class=\"sk-toggleable__content\"><pre>LogisticRegression()</pre></div></div></div></div></div>"
            ]
          },
          "metadata": {},
          "execution_count": 69
        }
      ],
      "source": [
        "from sklearn.model_selection import train_test_split\n",
        "from sklearn.linear_model import LogisticRegression\n",
        "\n",
        "X_train, X_test, y_train, y_test = train_test_split(X_subset, df['Match'], test_size=0.2, random_state=42)\n",
        "lr = LogisticRegression()\n",
        "lr.fit(X_train, y_train)"
      ],
      "id": "5ef24b7c"
    },
    {
      "cell_type": "code",
      "execution_count": null,
      "metadata": {
        "colab": {
          "base_uri": "https://localhost:8080/"
        },
        "id": "nuPIJCchwvC7",
        "outputId": "27dea166-5c98-42b2-b2c2-33403c18f28f"
      },
      "outputs": [
        {
          "output_type": "execute_result",
          "data": {
            "text/plain": [
              "array([0, 0, 0, 0, 0, 0, 0, 0, 0])"
            ]
          },
          "metadata": {},
          "execution_count": 70
        }
      ],
      "source": [
        "#Testing\n",
        "\n",
        "lr_prediction = lr.predict(X_test)\n",
        "lr_prediction"
      ],
      "id": "nuPIJCchwvC7"
    },
    {
      "cell_type": "code",
      "execution_count": null,
      "metadata": {
        "colab": {
          "base_uri": "https://localhost:8080/"
        },
        "id": "d205be24",
        "outputId": "3244fd17-d2cb-4fb2-b2e7-0567c1518823"
      },
      "outputs": [
        {
          "output_type": "stream",
          "name": "stdout",
          "text": [
            "Model Accuracy: 1.0\n"
          ]
        }
      ],
      "source": [
        "accuracy = lr.score(X_test, y_test)\n",
        "print(f\"Model Accuracy: {accuracy}\")"
      ],
      "id": "d205be24"
    },
    {
      "cell_type": "code",
      "execution_count": null,
      "metadata": {
        "id": "j1bf8znQpVKw"
      },
      "outputs": [],
      "source": [
        "#Importing modules for the evaluation metrics:\n",
        "\n",
        "from sklearn.metrics import mean_squared_error\n",
        "from sklearn.metrics import mean_absolute_error\n",
        "from sklearn.metrics import r2_score"
      ],
      "id": "j1bf8znQpVKw"
    },
    {
      "cell_type": "code",
      "execution_count": null,
      "metadata": {
        "colab": {
          "base_uri": "https://localhost:8080/"
        },
        "id": "eJEkpFvHpm28",
        "outputId": "82f12044-b714-44bc-8e1f-a683bca3e4d6"
      },
      "outputs": [
        {
          "output_type": "stream",
          "name": "stdout",
          "text": [
            "Mean Squared Error = 0.0\n",
            "Mean Absolute Error metric for LinearRegression = 0.0\n",
            "R-squared metric for LinearRegression =  1.0\n"
          ]
        }
      ],
      "source": [
        "print(\"Mean Squared Error =\" , mean_squared_error(y_test, lr_prediction))\n",
        "print(\"Mean Absolute Error metric for LinearRegression =\" , mean_absolute_error(y_test, lr_prediction))\n",
        "print(\"R-squared metric for LinearRegression = \", r2_score(y_test, lr_prediction))"
      ],
      "id": "eJEkpFvHpm28"
    },
    {
      "cell_type": "markdown",
      "source": [
        "# **And finally...**"
      ],
      "metadata": {
        "id": "HPgXQuf3V0_S"
      },
      "id": "HPgXQuf3V0_S"
    },
    {
      "cell_type": "code",
      "source": [
        "Total_kw = len(df['Keywords'])\n",
        "\n",
        "print('Your CV score is ' + str(df['Match'].sum()) + '/' + str(Total_kw) + '.')"
      ],
      "metadata": {
        "colab": {
          "base_uri": "https://localhost:8080/"
        },
        "id": "OxT6qBSVMDOr",
        "outputId": "db88ff41-f72c-486f-be99-6d430ab552b0"
      },
      "id": "OxT6qBSVMDOr",
      "execution_count": null,
      "outputs": [
        {
          "output_type": "stream",
          "name": "stdout",
          "text": [
            "Your CV score is 6/43.\n"
          ]
        }
      ]
    }
  ],
  "metadata": {
    "colab": {
      "provenance": []
    },
    "kernelspec": {
      "display_name": "Python 3 (ipykernel)",
      "language": "python",
      "name": "python3"
    },
    "language_info": {
      "codemirror_mode": {
        "name": "ipython",
        "version": 3
      },
      "file_extension": ".py",
      "mimetype": "text/x-python",
      "name": "python",
      "nbconvert_exporter": "python",
      "pygments_lexer": "ipython3",
      "version": "3.11.4"
    }
  },
  "nbformat": 4,
  "nbformat_minor": 5
}