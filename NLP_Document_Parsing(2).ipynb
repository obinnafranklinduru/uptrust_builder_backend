{
  "cells": [
    {
      "cell_type": "markdown",
      "metadata": {
        "id": "view-in-github",
        "colab_type": "text"
      },
      "source": [
        "<a href=\"https://colab.research.google.com/github/obinnafranklinduru/uptrust_builder_backend/blob/nessa/NLP_Document_Parsing(2).ipynb\" target=\"_parent\"><img src=\"https://colab.research.google.com/assets/colab-badge.svg\" alt=\"Open In Colab\"/></a>"
      ]
    },
    {
      "cell_type": "code",
      "source": [
        "from google.colab import drive\n",
        "\n",
        "drive.mount('/content/drive')"
      ],
      "metadata": {
        "id": "xrvAwEiMspuU"
      },
      "id": "xrvAwEiMspuU",
      "execution_count": null,
      "outputs": []
    },
    {
      "cell_type": "code",
      "source": [
        "#this sets the given file path as the working directory\n",
        "import os\n",
        "dir_path = '/content/drive/MyDrive/CVs Folder'\n",
        "os.chdir(dir_path) #changes the working directory to the given path"
      ],
      "metadata": {
        "id": "7S2c0707vH2X"
      },
      "id": "7S2c0707vH2X",
      "execution_count": null,
      "outputs": []
    },
    {
      "cell_type": "code",
      "execution_count": null,
      "id": "dc8dafa3",
      "metadata": {
        "id": "dc8dafa3"
      },
      "outputs": [],
      "source": [
        "import sys\n",
        "!{sys.executable} -m pip install PyPDF2"
      ]
    },
    {
      "cell_type": "code",
      "execution_count": null,
      "id": "1c93c36a",
      "metadata": {
        "id": "1c93c36a"
      },
      "outputs": [],
      "source": [
        "import PyPDF2\n",
        "\n",
        "file_list = os.listdir(dir_path)\n",
        "\n",
        "for file_name in file_list:\n",
        "    with open(os.path.join(dir_path, file_name), 'rb') as f:\n",
        "        reader = PyPDF2.PdfReader(f)\n",
        "        text = ''\n",
        "        for page in reader.pages:\n",
        "            text += page.extract_text() #this (+=) adds text extracted from each page of the doc into one single variable (text)\n",
        "\n",
        "        #splitting the text into lines for easier processing\n",
        "        lines = text.split('\\n')\n",
        "\n",
        "        #variables where extracted information would be stored\n",
        "        experience = ''\n",
        "        skills = ''\n",
        "        education = ''\n",
        "\n",
        "        #specifying Boolean variables to track when to extract content from the text\n",
        "        extract_experience = False\n",
        "        extract_skills = False\n",
        "        extract_education = False\n",
        "\n",
        "        #looping through `lines` to extract information under each section\n",
        "        for line in lines:\n",
        "            #extracting info in the SKILLS section\n",
        "            if 'SKILLS' in line:\n",
        "                extract_experience = False\n",
        "                extract_skills = True\n",
        "                extract_education = False\n",
        "                continue  # Skip this line\n",
        "\n",
        "           #extracting info in the EDUCATION section\n",
        "            elif 'EDUCATION' in line:\n",
        "                extract_experience = False\n",
        "                extract_skills = False\n",
        "                extract_education = True\n",
        "                continue  # Skip this line\n",
        "\n",
        "                #extracting info in the EXPERIENCE section\n",
        "            elif 'EXPERIENCE' in line:\n",
        "                extract_experience = True\n",
        "                extract_skills = False\n",
        "                extract_education = False\n",
        "                continue  # Skip this line\n",
        "\n",
        "            # Extract information based on the active section flag\n",
        "            if extract_experience:\n",
        "                experience += line + '\\n'\n",
        "            elif extract_skills:\n",
        "                skills += line + '\\n'\n",
        "            elif extract_education:\n",
        "                education += line + '\\n'\n",
        "\n",
        "        # Print the extracted information for each file\n",
        "        print(f\"Experience:{experience}\\nSkills:{skills}\\nEducation:{education}\\n\")\n"
      ]
    },
    {
      "cell_type": "markdown",
      "id": "d27603ee",
      "metadata": {
        "id": "d27603ee"
      },
      "source": [
        "# Text Cleaning"
      ]
    },
    {
      "cell_type": "markdown",
      "id": "8b52f256",
      "metadata": {
        "id": "8b52f256"
      },
      "source": [
        "**Removing line breaks**"
      ]
    },
    {
      "cell_type": "code",
      "execution_count": null,
      "id": "1c8445a7",
      "metadata": {
        "id": "1c8445a7",
        "colab": {
          "base_uri": "https://localhost:8080/"
        },
        "outputId": "c0b10a28-0feb-4fd6-abac-2e855ff748fe"
      },
      "outputs": [
        {
          "output_type": "stream",
          "name": "stdout",
          "text": [
            "ML/AI Researcher  Yourekaa Technologies Inc. | Remote NOVEM BER 2023 - PRESENT ● Development and deployment of the AI solution of Yourekaa Technologies Inc. Machine learning engineer Africa Agility GIT Bootcamp | Remote JULY 2023 ● Performed data analysis on provided datasets. ● Trained supervised machine learning models, using machine learning algorithms such as Linear Regression, Gradient Boosting Regressor, Random Forest Regressor, etc. ● Evaluated the models’ performances using RSE, MAE and R-squared. AI-driven Mobile App Developer Technovation Girls Challenge 2023 | Remote M ARCH 2023 - APRIL 2023 ● Developed an AI-assisted edtech mobile application using MIT App Inventor in the 2023 Technovation Girls Challenge. ● Presented the project at the regional competition and reached the quarter-ﬁnals. \n",
            "\n",
            "#################################################################################################################\n",
            "Bachelor of Engineering (B.Eng)  Software Engineering - Federal University of Technology, Owerri, Im o state. AUGUST 2023 - PRESENT West African Senior School Certiﬁcate (WASSCE)  SusanChris M odel Schools, Owerri, Im o state. SEPTEM BER 2016 - JULY 2022 AWARDS ● Africa Agility African Girls in Tech Bootcamp 6.0 certiﬁcate of completion for the  Artiﬁcial Intelligence track.  ● Quarter-ﬁnalist in the 2023 Technovation Girls Challenge. \n",
            "\n",
            "#################################################################################################################\n",
            "● Data Science: Dataset collation and Exploratory Data Analysis (EDA). ● Data Visualization: Matplotlib, Seaborn. ● M achine Learning: Building and implementing machine learning models using Python machine learning libraries. ● M obile App Developm ent: MIT App Inventor. ● W eb Technologies: HTML, CSS. \n"
          ]
        }
      ],
      "source": [
        "#Experience section (this code joins lines to form sentences)\n",
        "experience = ' '.join(experience.split('\\n'))\n",
        "print(experience)\n",
        "\n",
        "print('\\n#################################################################################################################')\n",
        "\n",
        "#Education section\n",
        "education = ' '.join(education.split('\\n'))\n",
        "print(education)\n",
        "\n",
        "print('\\n#################################################################################################################')\n",
        "\n",
        "#Skills section\n",
        "skills = ' '.join(skills.split('\\n'))\n",
        "print(skills)"
      ]
    },
    {
      "cell_type": "markdown",
      "id": "54edaf37",
      "metadata": {
        "id": "54edaf37"
      },
      "source": [
        "**Converting to lowercase**"
      ]
    },
    {
      "cell_type": "code",
      "execution_count": null,
      "id": "a38b3f19",
      "metadata": {
        "id": "a38b3f19"
      },
      "outputs": [],
      "source": [
        "#importing and downloading the nltk (naturallang. toolkit) package, an amazing package for working in nlp\n",
        "import nltk\n",
        "\n",
        "#nltk.download()"
      ]
    },
    {
      "cell_type": "code",
      "execution_count": null,
      "id": "6c5d2d10",
      "metadata": {
        "id": "6c5d2d10"
      },
      "outputs": [],
      "source": [
        "import string\n",
        "\n",
        "#experience section\n",
        "#splits the text into individual sentences or sections based on punctuations like \".\" or \"●\" and keeps it from repeating\n",
        "exp_section = [section.strip() for section in experience.split(\"●\") if section.strip()]\n",
        "\n",
        "#this then converts each section to lowercase if it's a string, but ignores numbers\n",
        "experience = [str(item).lower() if isinstance(item, str) else item for item in exp_section]\n",
        "print(experience)"
      ]
    },
    {
      "cell_type": "code",
      "execution_count": null,
      "id": "0eb94a3b",
      "metadata": {
        "id": "0eb94a3b"
      },
      "outputs": [],
      "source": [
        "#education section\n",
        "edu_section = [section.strip() for section in education.split(\"●\") if section.strip()]\n",
        "education = [str(item).lower() if isinstance(item, str) else item for item in edu_section]\n",
        "print(education)"
      ]
    },
    {
      "cell_type": "code",
      "execution_count": null,
      "id": "e57d6dbe",
      "metadata": {
        "scrolled": true,
        "id": "e57d6dbe"
      },
      "outputs": [],
      "source": [
        "#skills section\n",
        "skl_section = [section.strip() for section in skills.split(\"●\") if section.strip()]\n",
        "skills = [str(item).lower() if isinstance(item, str) else item for item in skl_section]\n",
        "print(skills)"
      ]
    },
    {
      "cell_type": "markdown",
      "id": "de49f580",
      "metadata": {
        "id": "de49f580"
      },
      "source": [
        "**Word tokenization**"
      ]
    },
    {
      "cell_type": "code",
      "execution_count": null,
      "id": "5fc67cad",
      "metadata": {
        "id": "5fc67cad"
      },
      "outputs": [],
      "source": [
        "#downloading the `punkt` package which contains pre-trained models for text tokenization (like tokenize)\n",
        "nltk.download('punkt')"
      ]
    },
    {
      "cell_type": "code",
      "execution_count": null,
      "id": "3a16fca0",
      "metadata": {
        "id": "3a16fca0"
      },
      "outputs": [],
      "source": [
        "#importing `word_tokenize` for word tokenization\n",
        "from nltk.tokenize import word_tokenize\n",
        "\n",
        "#experience section\n",
        "#word tokenizes each string inside the list of strings (experience), with each individual string represented as `exp` instaed of the whole list (experience) at once (word_tokenize doesn't work on lists)\n",
        "exp_tokenized = [word_tokenize(exp) for exp in experience]\n",
        "print(exp_tokenized)"
      ]
    },
    {
      "cell_type": "code",
      "execution_count": null,
      "id": "e068a7ff",
      "metadata": {
        "id": "e068a7ff"
      },
      "outputs": [],
      "source": [
        "#education section\n",
        "edu_tokenized = [word_tokenize(edu) for edu in education]\n",
        "print(edu_tokenized)"
      ]
    },
    {
      "cell_type": "code",
      "execution_count": null,
      "id": "f22eb204",
      "metadata": {
        "scrolled": true,
        "id": "f22eb204"
      },
      "outputs": [],
      "source": [
        "#skills section\n",
        "skl_tokenized = [word_tokenize(skl) for skl in skills]\n",
        "print(skl_tokenized)"
      ]
    },
    {
      "cell_type": "markdown",
      "id": "10c58fac",
      "metadata": {
        "id": "10c58fac"
      },
      "source": [
        "**Sentence tokenization**"
      ]
    },
    {
      "cell_type": "code",
      "execution_count": null,
      "id": "9a66d43b",
      "metadata": {
        "id": "9a66d43b"
      },
      "outputs": [],
      "source": [
        "#importing `sent_tokenize` for sentence tokenization\n",
        "from nltk.tokenize import sent_tokenize\n",
        "\n",
        "#experience section\n",
        "#sentence tokenizes each string inside the list of strings (experience), with each individual string represented as `exp` instaed of the whole list (experience) at once (sentence_tokenize doesn't work on lists)\n",
        "exp_sent_tokenized = [sent_tokenize(exp) for exp in experience]\n",
        "print(exp_sent_tokenized)"
      ]
    },
    {
      "cell_type": "code",
      "execution_count": null,
      "id": "c205440b",
      "metadata": {
        "id": "c205440b"
      },
      "outputs": [],
      "source": [
        "#education section\n",
        "edu_sent_tokenized = [sent_tokenize(edu) for edu in education]\n",
        "print(edu_sent_tokenized)"
      ]
    },
    {
      "cell_type": "code",
      "execution_count": null,
      "id": "2b99fdd2",
      "metadata": {
        "id": "2b99fdd2"
      },
      "outputs": [],
      "source": [
        "#skills section\n",
        "skl_sent_tokenized = [sent_tokenize(skl) for skl in skills]\n",
        "print(skl_sent_tokenized)"
      ]
    },
    {
      "cell_type": "markdown",
      "id": "1f8e8545",
      "metadata": {
        "id": "1f8e8545"
      },
      "source": [
        "**Punctuation removal**"
      ]
    },
    {
      "cell_type": "code",
      "execution_count": null,
      "id": "16704aa3",
      "metadata": {
        "scrolled": true,
        "id": "16704aa3"
      },
      "outputs": [],
      "source": [
        "#experience section\n",
        "#`re` stands for regular expression\n",
        "import re\n",
        "\n",
        "#this code says: escape (skip) at every punctuation encountered\n",
        "reg_exprsn = re.compile('[%s]' % re.escape(string.punctuation))\n",
        "\n",
        "exp_tokenized_no_punct = []\n",
        "\n",
        "#for loop that automates the process\n",
        "for review in exp_tokenized:\n",
        "    new_review_exp = []\n",
        "    for token in review:\n",
        "        new_token_exp = reg_exprsn.sub(u'', token)\n",
        "        if not new_token_exp == u'': new_review_exp.append(new_token_exp)\n",
        "    exp_tokenized_no_punct.append(new_review_exp)\n",
        "\n",
        "print(exp_tokenized_no_punct)"
      ]
    },
    {
      "cell_type": "code",
      "execution_count": null,
      "id": "ca5bb663",
      "metadata": {
        "id": "ca5bb663"
      },
      "outputs": [],
      "source": [
        "#education section\n",
        "edu_tokenized_no_punct = []\n",
        "\n",
        "for review in edu_tokenized:\n",
        "    new_review_edu = []\n",
        "    for token in review:\n",
        "        new_token_edu = reg_exprsn.sub(u'', token)\n",
        "        if not new_token_edu == u'': new_review_edu.append(new_token_edu)\n",
        "    edu_tokenized_no_punct.append(new_review_edu)\n",
        "\n",
        "print(edu_tokenized_no_punct)"
      ]
    },
    {
      "cell_type": "code",
      "execution_count": null,
      "id": "1ee9b078",
      "metadata": {
        "id": "1ee9b078"
      },
      "outputs": [],
      "source": [
        "#skills section\n",
        "skl_tokenized_no_punct = []\n",
        "\n",
        "for review in skl_tokenized:\n",
        "    new_review_skl = []\n",
        "    for token in review:\n",
        "        new_token_skl = reg_exprsn.sub(u'', token)\n",
        "        if not new_token_skl == u'': new_review_skl.append(new_token_skl)\n",
        "    skl_tokenized_no_punct.append(new_review_skl)\n",
        "\n",
        "print(skl_tokenized_no_punct)"
      ]
    },
    {
      "cell_type": "markdown",
      "id": "c52aa9ce",
      "metadata": {
        "id": "c52aa9ce"
      },
      "source": [
        "**Stopword removal**"
      ]
    },
    {
      "cell_type": "code",
      "source": [
        "nltk.download('stopwords')"
      ],
      "metadata": {
        "id": "C9v8ynFPw6dq"
      },
      "id": "C9v8ynFPw6dq",
      "execution_count": null,
      "outputs": []
    },
    {
      "cell_type": "code",
      "execution_count": null,
      "id": "d187b67c",
      "metadata": {
        "id": "d187b67c"
      },
      "outputs": [],
      "source": [
        "#experience section\n",
        "from nltk.corpus import stopwords\n",
        "\n",
        "exp_tokenized_no_stopw = []\n",
        "\n",
        "for doc in exp_tokenized_no_punct:\n",
        "    new_term_vector_exp = []\n",
        "    for word in doc:\n",
        "        if not word in stopwords.words('english'): new_term_vector_exp.append(word)\n",
        "    exp_tokenized_no_stopw.append(new_term_vector_exp)\n",
        "\n",
        "print(exp_tokenized_no_stopw)"
      ]
    },
    {
      "cell_type": "code",
      "execution_count": null,
      "id": "38bcd873",
      "metadata": {
        "id": "38bcd873"
      },
      "outputs": [],
      "source": [
        "#education section\n",
        "edu_tokenized_no_stopw = []\n",
        "\n",
        "for doc in edu_tokenized_no_punct:\n",
        "    new_term_vector_edu = []\n",
        "    for word in doc:\n",
        "        if not word in stopwords.words('english'): new_term_vector_edu.append(word)\n",
        "    edu_tokenized_no_stopw.append(new_term_vector_edu)\n",
        "\n",
        "print(edu_tokenized_no_stopw)"
      ]
    },
    {
      "cell_type": "code",
      "execution_count": null,
      "id": "57fd83bc",
      "metadata": {
        "id": "57fd83bc"
      },
      "outputs": [],
      "source": [
        "#skills section\n",
        "skl_tokenized_no_stopw = []\n",
        "\n",
        "for doc in skl_tokenized_no_punct:\n",
        "    new_term_vector_skl = []\n",
        "    for word in doc:\n",
        "        if not word in stopwords.words('english'): new_term_vector_skl.append(word)\n",
        "    skl_tokenized_no_stopw.append(new_term_vector_skl)\n",
        "\n",
        "print(skl_tokenized_no_stopw)"
      ]
    },
    {
      "cell_type": "markdown",
      "id": "c6ed8682",
      "metadata": {
        "id": "c6ed8682"
      },
      "source": [
        "**Stemming and Lemmantization**\n",
        "(But only lemmantization was done, 'cause it's better.)"
      ]
    },
    {
      "cell_type": "code",
      "execution_count": null,
      "id": "63636580",
      "metadata": {
        "id": "63636580"
      },
      "outputs": [],
      "source": [
        "#Lemmantization\n",
        "nltk.download('wordnet')  #Necessary for WordNetLemmatizer"
      ]
    },
    {
      "cell_type": "code",
      "execution_count": null,
      "id": "2ada806d",
      "metadata": {
        "id": "2ada806d"
      },
      "outputs": [],
      "source": [
        "#experience section\n",
        "from nltk.stem.wordnet import WordNetLemmatizer\n",
        "wordnet = WordNetLemmatizer()\n",
        "\n",
        "exp_preprocessed = []\n",
        "\n",
        "for doc in exp_tokenized_no_stopw:\n",
        "    exp_final_doc = []\n",
        "    for word in doc:\n",
        "        exp_final_doc.append(wordnet.lemmatize(word))\n",
        "    exp_preprocessed.append(exp_final_doc)\n",
        "\n",
        "print(exp_preprocessed)"
      ]
    },
    {
      "cell_type": "code",
      "execution_count": null,
      "id": "721e3617",
      "metadata": {
        "id": "721e3617"
      },
      "outputs": [],
      "source": [
        "#education section\n",
        "edu_preprocessed = []\n",
        "\n",
        "for doc in edu_tokenized_no_stopw:\n",
        "    edu_final_doc = []\n",
        "    for word in doc:\n",
        "        edu_final_doc.append(wordnet.lemmatize(word))\n",
        "    edu_preprocessed.append(edu_final_doc)\n",
        "\n",
        "print(edu_preprocessed)"
      ]
    },
    {
      "cell_type": "code",
      "source": [
        "#skills section\n",
        "skl_preprocessed = []\n",
        "\n",
        "for doc in skl_tokenized_no_stopw:\n",
        "    skl_final_doc = []\n",
        "    for word in doc:\n",
        "        skl_final_doc.append(wordnet.lemmatize(word))\n",
        "    skl_preprocessed.append(skl_final_doc)\n",
        "\n",
        "print(skl_preprocessed)"
      ],
      "metadata": {
        "id": "ixBxgojaxSr7"
      },
      "id": "ixBxgojaxSr7",
      "execution_count": null,
      "outputs": []
    },
    {
      "cell_type": "code",
      "execution_count": null,
      "id": "69ae89b0",
      "metadata": {
        "id": "69ae89b0"
      },
      "outputs": [],
      "source": [
        "#Saving each of the preprocessed sections into one variable\n",
        "\n",
        "CV = exp_preprocessed + edu_preprocessed + skl_preprocessed\n",
        "CV"
      ]
    },
    {
      "cell_type": "markdown",
      "id": "04fecd0a",
      "metadata": {
        "id": "04fecd0a"
      },
      "source": [
        "# Model Training using job descriptions"
      ]
    },
    {
      "cell_type": "markdown",
      "id": "1bf9268f",
      "metadata": {
        "id": "1bf9268f"
      },
      "source": [
        "**Analysing and extracting features from the job description**"
      ]
    },
    {
      "cell_type": "code",
      "execution_count": null,
      "id": "440c422e",
      "metadata": {
        "id": "440c422e"
      },
      "outputs": [],
      "source": [
        "import pandas as pd\n",
        "\n",
        "ds = pd.read_csv('/content/drive/MyDrive/DataScientist.csv')\n",
        "ds"
      ]
    },
    {
      "cell_type": "code",
      "execution_count": null,
      "id": "cc903f3d",
      "metadata": {
        "scrolled": false,
        "id": "cc903f3d"
      },
      "outputs": [],
      "source": [
        "ds.isnull().sum()"
      ]
    },
    {
      "cell_type": "code",
      "execution_count": null,
      "id": "c2351694",
      "metadata": {
        "scrolled": true,
        "id": "c2351694"
      },
      "outputs": [],
      "source": [
        "ds_needed = ds[['Job Title', 'Job Description']]\n",
        "ds_needed"
      ]
    },
    {
      "cell_type": "markdown",
      "id": "125b1d24",
      "metadata": {
        "id": "125b1d24"
      },
      "source": [
        "**There are A LOT of rows in this dataset, thus it would take a lot of time for keywords to be extracted from it. So, instead of using all the job descriptions, I'll be training the model on just one.**"
      ]
    },
    {
      "cell_type": "code",
      "execution_count": null,
      "id": "0a64b13c",
      "metadata": {
        "id": "0a64b13c"
      },
      "outputs": [],
      "source": [
        "#Let's take the needed job decription to be `b`\n",
        "\n",
        "b = ds_needed.head(1)\n",
        "b"
      ]
    },
    {
      "cell_type": "code",
      "execution_count": null,
      "id": "77ea533d",
      "metadata": {
        "id": "77ea533d"
      },
      "outputs": [],
      "source": [
        "#CountVectorizer wouldn't work on a dataframe of two columns, so I concatentated the columns into one\n",
        "\n",
        "b_concat = b['Job Title'] + '' + b['Job Description']\n",
        "b_concat"
      ]
    },
    {
      "cell_type": "code",
      "source": [
        "!pip install streamlit"
      ],
      "metadata": {
        "id": "dvKF38G1ylPd"
      },
      "id": "dvKF38G1ylPd",
      "execution_count": null,
      "outputs": []
    },
    {
      "cell_type": "code",
      "source": [
        "!streamlit run /usr/local/lib/python3.10/dist-packages/colab_kernel_launcher.py"
      ],
      "metadata": {
        "id": "p3YHss3KzBxu"
      },
      "id": "p3YHss3KzBxu",
      "execution_count": null,
      "outputs": []
    },
    {
      "cell_type": "code",
      "source": [
        "# prompt: using streamlint display b_concat on the web browser\n",
        "\n",
        "import streamlit as st\n",
        "\n",
        "st.write(b_concat)\n"
      ],
      "metadata": {
        "id": "AUSUo84ByHSS"
      },
      "id": "AUSUo84ByHSS",
      "execution_count": null,
      "outputs": []
    },
    {
      "cell_type": "markdown",
      "source": [],
      "metadata": {
        "id": "a4FeD9bkzyXO"
      },
      "id": "a4FeD9bkzyXO"
    },
    {
      "cell_type": "markdown",
      "id": "ffe91f96",
      "metadata": {
        "id": "ffe91f96"
      },
      "source": [
        "**I would have used `TfidfVectrizer()` instead of `CountVectrizer()` because it both finds term frequency across documents, and then supresses the most occuring term/s in the docs to remove unnecessary considerations of repeating words and focus more on unique words, but the vocabulary of `CountVectrizer()` just seemed better**."
      ]
    },
    {
      "cell_type": "code",
      "execution_count": null,
      "id": "6a857337",
      "metadata": {
        "id": "6a857337"
      },
      "outputs": [],
      "source": [
        "#Turning CV (which is a list of lists) into a single list so it can be vectorized\n",
        "\n",
        "CV_list = [word for sublist in CV for word in sublist]\n",
        "CV_list"
      ]
    },
    {
      "cell_type": "code",
      "execution_count": null,
      "id": "fbc5ad72",
      "metadata": {
        "id": "fbc5ad72"
      },
      "outputs": [],
      "source": [
        "from sklearn.feature_extraction.text import CountVectorizer\n",
        "vectorizer = CountVectorizer()"
      ]
    },
    {
      "cell_type": "code",
      "execution_count": null,
      "id": "26ebcb29",
      "metadata": {
        "scrolled": true,
        "id": "26ebcb29"
      },
      "outputs": [],
      "source": [
        "#model's vocab building and tokenizing\n",
        "\n",
        "X = vectorizer.fit_transform(CV_list)\n",
        "#vectorizer.transform(df['Keyword'])\n",
        "\n",
        "#print(vectorizer.transform(df['Keyword']))"
      ]
    },
    {
      "cell_type": "code",
      "execution_count": null,
      "id": "017a4f82",
      "metadata": {
        "scrolled": true,
        "id": "017a4f82"
      },
      "outputs": [],
      "source": [
        "print(vectorizer.vocabulary_)"
      ]
    },
    {
      "cell_type": "code",
      "execution_count": null,
      "id": "3f6cd700",
      "metadata": {
        "id": "3f6cd700"
      },
      "outputs": [],
      "source": [
        "#I can't find the shape of X, since it was only fitted using .fit() as a vectorized object (numbers).\n",
        "#I'd need to also transform it (into numbers and text) to get the shape\n",
        "\n",
        "#X.shape"
      ]
    },
    {
      "cell_type": "markdown",
      "id": "2bdd786a",
      "metadata": {
        "id": "2bdd786a"
      },
      "source": [
        "## Keyword extraction"
      ]
    },
    {
      "cell_type": "markdown",
      "id": "bddeb0f2",
      "metadata": {
        "id": "bddeb0f2"
      },
      "source": [
        "**Keywords need to be extracted from the job descriptions to help testing CVs only against relevant keywords, instead of the whole job description.**"
      ]
    },
    {
      "cell_type": "code",
      "execution_count": null,
      "id": "d9735412",
      "metadata": {
        "id": "d9735412"
      },
      "outputs": [],
      "source": [
        "#Turning ds_concat to a string, since the `keywords` module only accepts strings and not DataFrames\n",
        "\n",
        "b_concat_text = ''.join(b_concat)\n",
        "b_concat_text"
      ]
    },
    {
      "cell_type": "markdown",
      "id": "498bb9b8",
      "metadata": {
        "id": "498bb9b8"
      },
      "source": [
        "**TextRank is an algorithm that assigns importance scores to words in a text based on their relationships. The `summa` library in Python provides an implementation of TextRank for both summarizing text and exracting keywords. The documentation was really helpful: https://pypi.org/project/summa/**"
      ]
    },
    {
      "cell_type": "code",
      "execution_count": null,
      "id": "85604e45",
      "metadata": {
        "scrolled": true,
        "id": "85604e45",
        "colab": {
          "base_uri": "https://localhost:8080/"
        },
        "outputId": "e52c8bfe-1e64-4bd3-a94b-a64278f88936"
      },
      "outputs": [
        {
          "output_type": "stream",
          "name": "stdout",
          "text": [
            "Collecting summa\n",
            "  Downloading summa-1.2.0.tar.gz (54 kB)\n",
            "\u001b[?25l     \u001b[90m━━━━━━━━━━━━━━━━━━━━━━━━━━━━━━━━━━━━━━━━\u001b[0m \u001b[32m0.0/54.9 kB\u001b[0m \u001b[31m?\u001b[0m eta \u001b[36m-:--:--\u001b[0m\r\u001b[2K     \u001b[90m━━━━━━━━━━━━━━━━━━━━━━━━━━━━━━━━━━━━━━━━\u001b[0m \u001b[32m54.9/54.9 kB\u001b[0m \u001b[31m1.7 MB/s\u001b[0m eta \u001b[36m0:00:00\u001b[0m\n",
            "\u001b[?25h  Preparing metadata (setup.py) ... \u001b[?25l\u001b[?25hdone\n",
            "Requirement already satisfied: scipy>=0.19 in /usr/local/lib/python3.10/dist-packages (from summa) (1.11.4)\n",
            "Requirement already satisfied: numpy<1.28.0,>=1.21.6 in /usr/local/lib/python3.10/dist-packages (from scipy>=0.19->summa) (1.23.5)\n",
            "Building wheels for collected packages: summa\n",
            "  Building wheel for summa (setup.py) ... \u001b[?25l\u001b[?25hdone\n",
            "  Created wheel for summa: filename=summa-1.2.0-py3-none-any.whl size=54388 sha256=93bf5990c4cf0ca2e2cbd10b879922ebe99dc0723d220d843e556393776d4bb5\n",
            "  Stored in directory: /root/.cache/pip/wheels/4a/ca/c5/4958614cfba88ed6ceb7cb5a849f9f89f9ac49971616bc919f\n",
            "Successfully built summa\n",
            "Installing collected packages: summa\n",
            "Successfully installed summa-1.2.0\n"
          ]
        }
      ],
      "source": [
        "!pip install summa\n",
        "#(already installed)"
      ]
    },
    {
      "cell_type": "code",
      "execution_count": null,
      "id": "44d4ce99",
      "metadata": {
        "id": "44d4ce99",
        "colab": {
          "base_uri": "https://localhost:8080/"
        },
        "outputId": "08d3a9ca-9654-4672-b464-ca6b34ecd62d"
      },
      "outputs": [
        {
          "output_type": "stream",
          "name": "stdout",
          "text": [
            "data\n",
            "travel\n",
            "experience\n",
            "experiment\n",
            "travelers plan\n",
            "complex business\n",
            "plans\n",
            "tools\n",
            "tool\n",
            "technical\n",
            "large\n",
            "product\n",
            "hopper\n",
            "times\n",
            "proven\n",
            "statistical\n",
            "statistics\n",
            "users\n",
            "user\n",
            "performance analysis\n",
            "highly performing\n",
            "save\n",
            "savings\n",
            "conduct\n",
            "conducting\n",
            "massive\n",
            "options\n",
            "r\n",
            "search\n",
            "algorithms\n",
            "hard\n",
            "mobile\n",
            "team\n",
            "teams\n",
            "power\n",
            "powerful\n",
            "high\n",
            "companies\n",
            "company\n",
            "extremely strong\n",
            "machine\n",
            "award\n",
            "environments\n"
          ]
        }
      ],
      "source": [
        "#Extracting keywords\n",
        "\n",
        "from summa import keywords\n",
        "kw = keywords.keywords(b_concat_text)\n",
        "print(kw)"
      ]
    },
    {
      "cell_type": "code",
      "source": [
        "#Turning kw into a list of strings, so it can be used in creating the DataFrame\n",
        "\n",
        "kw_list = kw.split('\\n')\n",
        "kw_list"
      ],
      "metadata": {
        "colab": {
          "base_uri": "https://localhost:8080/"
        },
        "id": "5rxv3ZGxU0Tn",
        "outputId": "25e21144-e0b1-4fd1-bbed-8970a472b7dd"
      },
      "id": "5rxv3ZGxU0Tn",
      "execution_count": null,
      "outputs": [
        {
          "output_type": "execute_result",
          "data": {
            "text/plain": [
              "['data',\n",
              " 'travel',\n",
              " 'experience',\n",
              " 'experiment',\n",
              " 'travelers plan',\n",
              " 'complex business',\n",
              " 'plans',\n",
              " 'tools',\n",
              " 'tool',\n",
              " 'technical',\n",
              " 'large',\n",
              " 'product',\n",
              " 'hopper',\n",
              " 'times',\n",
              " 'proven',\n",
              " 'statistical',\n",
              " 'statistics',\n",
              " 'users',\n",
              " 'user',\n",
              " 'performance analysis',\n",
              " 'highly performing',\n",
              " 'save',\n",
              " 'savings',\n",
              " 'conduct',\n",
              " 'conducting',\n",
              " 'massive',\n",
              " 'options',\n",
              " 'r',\n",
              " 'search',\n",
              " 'algorithms',\n",
              " 'hard',\n",
              " 'mobile',\n",
              " 'team',\n",
              " 'teams',\n",
              " 'power',\n",
              " 'powerful',\n",
              " 'high',\n",
              " 'companies',\n",
              " 'company',\n",
              " 'extremely strong',\n",
              " 'machine',\n",
              " 'award',\n",
              " 'environments']"
            ]
          },
          "metadata": {},
          "execution_count": 45
        }
      ]
    },
    {
      "cell_type": "markdown",
      "id": "021a1db4",
      "metadata": {
        "id": "021a1db4"
      },
      "source": [
        "**Creating a binary indicator to score the CV against the job description.**"
      ]
    },
    {
      "cell_type": "code",
      "source": [
        "#Creating the DF\n",
        "df = pd.DataFrame({'Keyword': kw_list})\n",
        "\n",
        "# Creating a binary indicator column, 'Match'\n",
        "#The lambda function checks if keyword x is in CV_list for every keyword. It gives 1 if true and 0 if not, and then applies it column-wise to the created DF as 'Match'\n",
        "df['Match'] = df['Keyword'].apply(lambda x: 1 if x in CV_list else 0)\n",
        "\n",
        "df"
      ],
      "metadata": {
        "colab": {
          "base_uri": "https://localhost:8080/",
          "height": 1000
        },
        "id": "mLeod730X-wp",
        "outputId": "2edd9b87-485e-4016-a97d-9632d8d6ce82"
      },
      "id": "mLeod730X-wp",
      "execution_count": null,
      "outputs": [
        {
          "output_type": "execute_result",
          "data": {
            "text/plain": [
              "                 Keyword  Match\n",
              "0                   data      1\n",
              "1                 travel      0\n",
              "2             experience      0\n",
              "3             experiment      0\n",
              "4         travelers plan      0\n",
              "5       complex business      0\n",
              "6                  plans      0\n",
              "7                  tools      0\n",
              "8                   tool      0\n",
              "9              technical      0\n",
              "10                 large      0\n",
              "11               product      0\n",
              "12                hopper      0\n",
              "13                 times      0\n",
              "14                proven      0\n",
              "15           statistical      0\n",
              "16            statistics      0\n",
              "17                 users      0\n",
              "18                  user      0\n",
              "19  performance analysis      0\n",
              "20     highly performing      0\n",
              "21                  save      0\n",
              "22               savings      0\n",
              "23               conduct      0\n",
              "24            conducting      0\n",
              "25               massive      0\n",
              "26               options      0\n",
              "27                     r      0\n",
              "28                search      0\n",
              "29            algorithms      0\n",
              "30                  hard      0\n",
              "31                mobile      1\n",
              "32                  team      0\n",
              "33                 teams      0\n",
              "34                 power      0\n",
              "35              powerful      0\n",
              "36                  high      0\n",
              "37             companies      0\n",
              "38               company      0\n",
              "39      extremely strong      0\n",
              "40               machine      1\n",
              "41                 award      1\n",
              "42          environments      0"
            ],
            "text/html": [
              "\n",
              "  <div id=\"df-ebea76df-e589-47bf-8de8-9806ea6186c0\" class=\"colab-df-container\">\n",
              "    <div>\n",
              "<style scoped>\n",
              "    .dataframe tbody tr th:only-of-type {\n",
              "        vertical-align: middle;\n",
              "    }\n",
              "\n",
              "    .dataframe tbody tr th {\n",
              "        vertical-align: top;\n",
              "    }\n",
              "\n",
              "    .dataframe thead th {\n",
              "        text-align: right;\n",
              "    }\n",
              "</style>\n",
              "<table border=\"1\" class=\"dataframe\">\n",
              "  <thead>\n",
              "    <tr style=\"text-align: right;\">\n",
              "      <th></th>\n",
              "      <th>Keyword</th>\n",
              "      <th>Match</th>\n",
              "    </tr>\n",
              "  </thead>\n",
              "  <tbody>\n",
              "    <tr>\n",
              "      <th>0</th>\n",
              "      <td>data</td>\n",
              "      <td>1</td>\n",
              "    </tr>\n",
              "    <tr>\n",
              "      <th>1</th>\n",
              "      <td>travel</td>\n",
              "      <td>0</td>\n",
              "    </tr>\n",
              "    <tr>\n",
              "      <th>2</th>\n",
              "      <td>experience</td>\n",
              "      <td>0</td>\n",
              "    </tr>\n",
              "    <tr>\n",
              "      <th>3</th>\n",
              "      <td>experiment</td>\n",
              "      <td>0</td>\n",
              "    </tr>\n",
              "    <tr>\n",
              "      <th>4</th>\n",
              "      <td>travelers plan</td>\n",
              "      <td>0</td>\n",
              "    </tr>\n",
              "    <tr>\n",
              "      <th>5</th>\n",
              "      <td>complex business</td>\n",
              "      <td>0</td>\n",
              "    </tr>\n",
              "    <tr>\n",
              "      <th>6</th>\n",
              "      <td>plans</td>\n",
              "      <td>0</td>\n",
              "    </tr>\n",
              "    <tr>\n",
              "      <th>7</th>\n",
              "      <td>tools</td>\n",
              "      <td>0</td>\n",
              "    </tr>\n",
              "    <tr>\n",
              "      <th>8</th>\n",
              "      <td>tool</td>\n",
              "      <td>0</td>\n",
              "    </tr>\n",
              "    <tr>\n",
              "      <th>9</th>\n",
              "      <td>technical</td>\n",
              "      <td>0</td>\n",
              "    </tr>\n",
              "    <tr>\n",
              "      <th>10</th>\n",
              "      <td>large</td>\n",
              "      <td>0</td>\n",
              "    </tr>\n",
              "    <tr>\n",
              "      <th>11</th>\n",
              "      <td>product</td>\n",
              "      <td>0</td>\n",
              "    </tr>\n",
              "    <tr>\n",
              "      <th>12</th>\n",
              "      <td>hopper</td>\n",
              "      <td>0</td>\n",
              "    </tr>\n",
              "    <tr>\n",
              "      <th>13</th>\n",
              "      <td>times</td>\n",
              "      <td>0</td>\n",
              "    </tr>\n",
              "    <tr>\n",
              "      <th>14</th>\n",
              "      <td>proven</td>\n",
              "      <td>0</td>\n",
              "    </tr>\n",
              "    <tr>\n",
              "      <th>15</th>\n",
              "      <td>statistical</td>\n",
              "      <td>0</td>\n",
              "    </tr>\n",
              "    <tr>\n",
              "      <th>16</th>\n",
              "      <td>statistics</td>\n",
              "      <td>0</td>\n",
              "    </tr>\n",
              "    <tr>\n",
              "      <th>17</th>\n",
              "      <td>users</td>\n",
              "      <td>0</td>\n",
              "    </tr>\n",
              "    <tr>\n",
              "      <th>18</th>\n",
              "      <td>user</td>\n",
              "      <td>0</td>\n",
              "    </tr>\n",
              "    <tr>\n",
              "      <th>19</th>\n",
              "      <td>performance analysis</td>\n",
              "      <td>0</td>\n",
              "    </tr>\n",
              "    <tr>\n",
              "      <th>20</th>\n",
              "      <td>highly performing</td>\n",
              "      <td>0</td>\n",
              "    </tr>\n",
              "    <tr>\n",
              "      <th>21</th>\n",
              "      <td>save</td>\n",
              "      <td>0</td>\n",
              "    </tr>\n",
              "    <tr>\n",
              "      <th>22</th>\n",
              "      <td>savings</td>\n",
              "      <td>0</td>\n",
              "    </tr>\n",
              "    <tr>\n",
              "      <th>23</th>\n",
              "      <td>conduct</td>\n",
              "      <td>0</td>\n",
              "    </tr>\n",
              "    <tr>\n",
              "      <th>24</th>\n",
              "      <td>conducting</td>\n",
              "      <td>0</td>\n",
              "    </tr>\n",
              "    <tr>\n",
              "      <th>25</th>\n",
              "      <td>massive</td>\n",
              "      <td>0</td>\n",
              "    </tr>\n",
              "    <tr>\n",
              "      <th>26</th>\n",
              "      <td>options</td>\n",
              "      <td>0</td>\n",
              "    </tr>\n",
              "    <tr>\n",
              "      <th>27</th>\n",
              "      <td>r</td>\n",
              "      <td>0</td>\n",
              "    </tr>\n",
              "    <tr>\n",
              "      <th>28</th>\n",
              "      <td>search</td>\n",
              "      <td>0</td>\n",
              "    </tr>\n",
              "    <tr>\n",
              "      <th>29</th>\n",
              "      <td>algorithms</td>\n",
              "      <td>0</td>\n",
              "    </tr>\n",
              "    <tr>\n",
              "      <th>30</th>\n",
              "      <td>hard</td>\n",
              "      <td>0</td>\n",
              "    </tr>\n",
              "    <tr>\n",
              "      <th>31</th>\n",
              "      <td>mobile</td>\n",
              "      <td>1</td>\n",
              "    </tr>\n",
              "    <tr>\n",
              "      <th>32</th>\n",
              "      <td>team</td>\n",
              "      <td>0</td>\n",
              "    </tr>\n",
              "    <tr>\n",
              "      <th>33</th>\n",
              "      <td>teams</td>\n",
              "      <td>0</td>\n",
              "    </tr>\n",
              "    <tr>\n",
              "      <th>34</th>\n",
              "      <td>power</td>\n",
              "      <td>0</td>\n",
              "    </tr>\n",
              "    <tr>\n",
              "      <th>35</th>\n",
              "      <td>powerful</td>\n",
              "      <td>0</td>\n",
              "    </tr>\n",
              "    <tr>\n",
              "      <th>36</th>\n",
              "      <td>high</td>\n",
              "      <td>0</td>\n",
              "    </tr>\n",
              "    <tr>\n",
              "      <th>37</th>\n",
              "      <td>companies</td>\n",
              "      <td>0</td>\n",
              "    </tr>\n",
              "    <tr>\n",
              "      <th>38</th>\n",
              "      <td>company</td>\n",
              "      <td>0</td>\n",
              "    </tr>\n",
              "    <tr>\n",
              "      <th>39</th>\n",
              "      <td>extremely strong</td>\n",
              "      <td>0</td>\n",
              "    </tr>\n",
              "    <tr>\n",
              "      <th>40</th>\n",
              "      <td>machine</td>\n",
              "      <td>1</td>\n",
              "    </tr>\n",
              "    <tr>\n",
              "      <th>41</th>\n",
              "      <td>award</td>\n",
              "      <td>1</td>\n",
              "    </tr>\n",
              "    <tr>\n",
              "      <th>42</th>\n",
              "      <td>environments</td>\n",
              "      <td>0</td>\n",
              "    </tr>\n",
              "  </tbody>\n",
              "</table>\n",
              "</div>\n",
              "    <div class=\"colab-df-buttons\">\n",
              "\n",
              "  <div class=\"colab-df-container\">\n",
              "    <button class=\"colab-df-convert\" onclick=\"convertToInteractive('df-ebea76df-e589-47bf-8de8-9806ea6186c0')\"\n",
              "            title=\"Convert this dataframe to an interactive table.\"\n",
              "            style=\"display:none;\">\n",
              "\n",
              "  <svg xmlns=\"http://www.w3.org/2000/svg\" height=\"24px\" viewBox=\"0 -960 960 960\">\n",
              "    <path d=\"M120-120v-720h720v720H120Zm60-500h600v-160H180v160Zm220 220h160v-160H400v160Zm0 220h160v-160H400v160ZM180-400h160v-160H180v160Zm440 0h160v-160H620v160ZM180-180h160v-160H180v160Zm440 0h160v-160H620v160Z\"/>\n",
              "  </svg>\n",
              "    </button>\n",
              "\n",
              "  <style>\n",
              "    .colab-df-container {\n",
              "      display:flex;\n",
              "      gap: 12px;\n",
              "    }\n",
              "\n",
              "    .colab-df-convert {\n",
              "      background-color: #E8F0FE;\n",
              "      border: none;\n",
              "      border-radius: 50%;\n",
              "      cursor: pointer;\n",
              "      display: none;\n",
              "      fill: #1967D2;\n",
              "      height: 32px;\n",
              "      padding: 0 0 0 0;\n",
              "      width: 32px;\n",
              "    }\n",
              "\n",
              "    .colab-df-convert:hover {\n",
              "      background-color: #E2EBFA;\n",
              "      box-shadow: 0px 1px 2px rgba(60, 64, 67, 0.3), 0px 1px 3px 1px rgba(60, 64, 67, 0.15);\n",
              "      fill: #174EA6;\n",
              "    }\n",
              "\n",
              "    .colab-df-buttons div {\n",
              "      margin-bottom: 4px;\n",
              "    }\n",
              "\n",
              "    [theme=dark] .colab-df-convert {\n",
              "      background-color: #3B4455;\n",
              "      fill: #D2E3FC;\n",
              "    }\n",
              "\n",
              "    [theme=dark] .colab-df-convert:hover {\n",
              "      background-color: #434B5C;\n",
              "      box-shadow: 0px 1px 3px 1px rgba(0, 0, 0, 0.15);\n",
              "      filter: drop-shadow(0px 1px 2px rgba(0, 0, 0, 0.3));\n",
              "      fill: #FFFFFF;\n",
              "    }\n",
              "  </style>\n",
              "\n",
              "    <script>\n",
              "      const buttonEl =\n",
              "        document.querySelector('#df-ebea76df-e589-47bf-8de8-9806ea6186c0 button.colab-df-convert');\n",
              "      buttonEl.style.display =\n",
              "        google.colab.kernel.accessAllowed ? 'block' : 'none';\n",
              "\n",
              "      async function convertToInteractive(key) {\n",
              "        const element = document.querySelector('#df-ebea76df-e589-47bf-8de8-9806ea6186c0');\n",
              "        const dataTable =\n",
              "          await google.colab.kernel.invokeFunction('convertToInteractive',\n",
              "                                                    [key], {});\n",
              "        if (!dataTable) return;\n",
              "\n",
              "        const docLinkHtml = 'Like what you see? Visit the ' +\n",
              "          '<a target=\"_blank\" href=https://colab.research.google.com/notebooks/data_table.ipynb>data table notebook</a>'\n",
              "          + ' to learn more about interactive tables.';\n",
              "        element.innerHTML = '';\n",
              "        dataTable['output_type'] = 'display_data';\n",
              "        await google.colab.output.renderOutput(dataTable, element);\n",
              "        const docLink = document.createElement('div');\n",
              "        docLink.innerHTML = docLinkHtml;\n",
              "        element.appendChild(docLink);\n",
              "      }\n",
              "    </script>\n",
              "  </div>\n",
              "\n",
              "\n",
              "<div id=\"df-4afca944-7a1b-49d5-b7b2-844a015a1d34\">\n",
              "  <button class=\"colab-df-quickchart\" onclick=\"quickchart('df-4afca944-7a1b-49d5-b7b2-844a015a1d34')\"\n",
              "            title=\"Suggest charts\"\n",
              "            style=\"display:none;\">\n",
              "\n",
              "<svg xmlns=\"http://www.w3.org/2000/svg\" height=\"24px\"viewBox=\"0 0 24 24\"\n",
              "     width=\"24px\">\n",
              "    <g>\n",
              "        <path d=\"M19 3H5c-1.1 0-2 .9-2 2v14c0 1.1.9 2 2 2h14c1.1 0 2-.9 2-2V5c0-1.1-.9-2-2-2zM9 17H7v-7h2v7zm4 0h-2V7h2v10zm4 0h-2v-4h2v4z\"/>\n",
              "    </g>\n",
              "</svg>\n",
              "  </button>\n",
              "\n",
              "<style>\n",
              "  .colab-df-quickchart {\n",
              "      --bg-color: #E8F0FE;\n",
              "      --fill-color: #1967D2;\n",
              "      --hover-bg-color: #E2EBFA;\n",
              "      --hover-fill-color: #174EA6;\n",
              "      --disabled-fill-color: #AAA;\n",
              "      --disabled-bg-color: #DDD;\n",
              "  }\n",
              "\n",
              "  [theme=dark] .colab-df-quickchart {\n",
              "      --bg-color: #3B4455;\n",
              "      --fill-color: #D2E3FC;\n",
              "      --hover-bg-color: #434B5C;\n",
              "      --hover-fill-color: #FFFFFF;\n",
              "      --disabled-bg-color: #3B4455;\n",
              "      --disabled-fill-color: #666;\n",
              "  }\n",
              "\n",
              "  .colab-df-quickchart {\n",
              "    background-color: var(--bg-color);\n",
              "    border: none;\n",
              "    border-radius: 50%;\n",
              "    cursor: pointer;\n",
              "    display: none;\n",
              "    fill: var(--fill-color);\n",
              "    height: 32px;\n",
              "    padding: 0;\n",
              "    width: 32px;\n",
              "  }\n",
              "\n",
              "  .colab-df-quickchart:hover {\n",
              "    background-color: var(--hover-bg-color);\n",
              "    box-shadow: 0 1px 2px rgba(60, 64, 67, 0.3), 0 1px 3px 1px rgba(60, 64, 67, 0.15);\n",
              "    fill: var(--button-hover-fill-color);\n",
              "  }\n",
              "\n",
              "  .colab-df-quickchart-complete:disabled,\n",
              "  .colab-df-quickchart-complete:disabled:hover {\n",
              "    background-color: var(--disabled-bg-color);\n",
              "    fill: var(--disabled-fill-color);\n",
              "    box-shadow: none;\n",
              "  }\n",
              "\n",
              "  .colab-df-spinner {\n",
              "    border: 2px solid var(--fill-color);\n",
              "    border-color: transparent;\n",
              "    border-bottom-color: var(--fill-color);\n",
              "    animation:\n",
              "      spin 1s steps(1) infinite;\n",
              "  }\n",
              "\n",
              "  @keyframes spin {\n",
              "    0% {\n",
              "      border-color: transparent;\n",
              "      border-bottom-color: var(--fill-color);\n",
              "      border-left-color: var(--fill-color);\n",
              "    }\n",
              "    20% {\n",
              "      border-color: transparent;\n",
              "      border-left-color: var(--fill-color);\n",
              "      border-top-color: var(--fill-color);\n",
              "    }\n",
              "    30% {\n",
              "      border-color: transparent;\n",
              "      border-left-color: var(--fill-color);\n",
              "      border-top-color: var(--fill-color);\n",
              "      border-right-color: var(--fill-color);\n",
              "    }\n",
              "    40% {\n",
              "      border-color: transparent;\n",
              "      border-right-color: var(--fill-color);\n",
              "      border-top-color: var(--fill-color);\n",
              "    }\n",
              "    60% {\n",
              "      border-color: transparent;\n",
              "      border-right-color: var(--fill-color);\n",
              "    }\n",
              "    80% {\n",
              "      border-color: transparent;\n",
              "      border-right-color: var(--fill-color);\n",
              "      border-bottom-color: var(--fill-color);\n",
              "    }\n",
              "    90% {\n",
              "      border-color: transparent;\n",
              "      border-bottom-color: var(--fill-color);\n",
              "    }\n",
              "  }\n",
              "</style>\n",
              "\n",
              "  <script>\n",
              "    async function quickchart(key) {\n",
              "      const quickchartButtonEl =\n",
              "        document.querySelector('#' + key + ' button');\n",
              "      quickchartButtonEl.disabled = true;  // To prevent multiple clicks.\n",
              "      quickchartButtonEl.classList.add('colab-df-spinner');\n",
              "      try {\n",
              "        const charts = await google.colab.kernel.invokeFunction(\n",
              "            'suggestCharts', [key], {});\n",
              "      } catch (error) {\n",
              "        console.error('Error during call to suggestCharts:', error);\n",
              "      }\n",
              "      quickchartButtonEl.classList.remove('colab-df-spinner');\n",
              "      quickchartButtonEl.classList.add('colab-df-quickchart-complete');\n",
              "    }\n",
              "    (() => {\n",
              "      let quickchartButtonEl =\n",
              "        document.querySelector('#df-4afca944-7a1b-49d5-b7b2-844a015a1d34 button');\n",
              "      quickchartButtonEl.style.display =\n",
              "        google.colab.kernel.accessAllowed ? 'block' : 'none';\n",
              "    })();\n",
              "  </script>\n",
              "</div>\n",
              "\n",
              "  <div id=\"id_8544f465-bdef-4d3e-8665-cf0242b2512e\">\n",
              "    <style>\n",
              "      .colab-df-generate {\n",
              "        background-color: #E8F0FE;\n",
              "        border: none;\n",
              "        border-radius: 50%;\n",
              "        cursor: pointer;\n",
              "        display: none;\n",
              "        fill: #1967D2;\n",
              "        height: 32px;\n",
              "        padding: 0 0 0 0;\n",
              "        width: 32px;\n",
              "      }\n",
              "\n",
              "      .colab-df-generate:hover {\n",
              "        background-color: #E2EBFA;\n",
              "        box-shadow: 0px 1px 2px rgba(60, 64, 67, 0.3), 0px 1px 3px 1px rgba(60, 64, 67, 0.15);\n",
              "        fill: #174EA6;\n",
              "      }\n",
              "\n",
              "      [theme=dark] .colab-df-generate {\n",
              "        background-color: #3B4455;\n",
              "        fill: #D2E3FC;\n",
              "      }\n",
              "\n",
              "      [theme=dark] .colab-df-generate:hover {\n",
              "        background-color: #434B5C;\n",
              "        box-shadow: 0px 1px 3px 1px rgba(0, 0, 0, 0.15);\n",
              "        filter: drop-shadow(0px 1px 2px rgba(0, 0, 0, 0.3));\n",
              "        fill: #FFFFFF;\n",
              "      }\n",
              "    </style>\n",
              "    <button class=\"colab-df-generate\" onclick=\"generateWithVariable('df')\"\n",
              "            title=\"Generate code using this dataframe.\"\n",
              "            style=\"display:none;\">\n",
              "\n",
              "  <svg xmlns=\"http://www.w3.org/2000/svg\" height=\"24px\"viewBox=\"0 0 24 24\"\n",
              "       width=\"24px\">\n",
              "    <path d=\"M7,19H8.4L18.45,9,17,7.55,7,17.6ZM5,21V16.75L18.45,3.32a2,2,0,0,1,2.83,0l1.4,1.43a1.91,1.91,0,0,1,.58,1.4,1.91,1.91,0,0,1-.58,1.4L9.25,21ZM18.45,9,17,7.55Zm-12,3A5.31,5.31,0,0,0,4.9,8.1,5.31,5.31,0,0,0,1,6.5,5.31,5.31,0,0,0,4.9,4.9,5.31,5.31,0,0,0,6.5,1,5.31,5.31,0,0,0,8.1,4.9,5.31,5.31,0,0,0,12,6.5,5.46,5.46,0,0,0,6.5,12Z\"/>\n",
              "  </svg>\n",
              "    </button>\n",
              "    <script>\n",
              "      (() => {\n",
              "      const buttonEl =\n",
              "        document.querySelector('#id_8544f465-bdef-4d3e-8665-cf0242b2512e button.colab-df-generate');\n",
              "      buttonEl.style.display =\n",
              "        google.colab.kernel.accessAllowed ? 'block' : 'none';\n",
              "\n",
              "      buttonEl.onclick = () => {\n",
              "        google.colab.notebook.generateWithVariable('df');\n",
              "      }\n",
              "      })();\n",
              "    </script>\n",
              "  </div>\n",
              "\n",
              "    </div>\n",
              "  </div>\n"
            ]
          },
          "metadata": {},
          "execution_count": 47
        }
      ]
    },
    {
      "cell_type": "code",
      "source": [
        "print(df['Match'].unique())"
      ],
      "metadata": {
        "colab": {
          "base_uri": "https://localhost:8080/"
        },
        "id": "J6wiRyXxRwwP",
        "outputId": "246ed0d9-ac54-492f-c5d4-c52a43a1a5e8"
      },
      "id": "J6wiRyXxRwwP",
      "execution_count": null,
      "outputs": [
        {
          "output_type": "stream",
          "name": "stdout",
          "text": [
            "[1 0]\n"
          ]
        }
      ]
    },
    {
      "cell_type": "code",
      "source": [
        "X.shape, df.shape"
      ],
      "metadata": {
        "id": "Utw8ShqkS-i5",
        "colab": {
          "base_uri": "https://localhost:8080/"
        },
        "outputId": "af085901-bf18-42ed-9d71-767007963813"
      },
      "id": "Utw8ShqkS-i5",
      "execution_count": null,
      "outputs": [
        {
          "output_type": "execute_result",
          "data": {
            "text/plain": [
              "((175, 114), (43, 2))"
            ]
          },
          "metadata": {},
          "execution_count": 49
        }
      ]
    },
    {
      "cell_type": "code",
      "source": [
        "#Making the values of X to be equal to those in in df['Match] using indexing (Sparse Matrix nnz Steps)\n",
        "\n",
        "select_num_samplesX = len(df['Match'])\n",
        "X_subset = X[:select_num_samplesX, :]"
      ],
      "metadata": {
        "id": "_w45FB5hjyYz"
      },
      "id": "_w45FB5hjyYz",
      "execution_count": null,
      "outputs": []
    },
    {
      "cell_type": "code",
      "execution_count": null,
      "id": "5ef24b7c",
      "metadata": {
        "id": "5ef24b7c",
        "colab": {
          "base_uri": "https://localhost:8080/",
          "height": 51
        },
        "outputId": "155716c9-aaf8-4cd7-d1ae-b37855dfe597"
      },
      "outputs": [
        {
          "output_type": "execute_result",
          "data": {
            "text/plain": [
              "LogisticRegression()"
            ],
            "text/html": [
              "<style>#sk-container-id-1 {color: black;background-color: white;}#sk-container-id-1 pre{padding: 0;}#sk-container-id-1 div.sk-toggleable {background-color: white;}#sk-container-id-1 label.sk-toggleable__label {cursor: pointer;display: block;width: 100%;margin-bottom: 0;padding: 0.3em;box-sizing: border-box;text-align: center;}#sk-container-id-1 label.sk-toggleable__label-arrow:before {content: \"▸\";float: left;margin-right: 0.25em;color: #696969;}#sk-container-id-1 label.sk-toggleable__label-arrow:hover:before {color: black;}#sk-container-id-1 div.sk-estimator:hover label.sk-toggleable__label-arrow:before {color: black;}#sk-container-id-1 div.sk-toggleable__content {max-height: 0;max-width: 0;overflow: hidden;text-align: left;background-color: #f0f8ff;}#sk-container-id-1 div.sk-toggleable__content pre {margin: 0.2em;color: black;border-radius: 0.25em;background-color: #f0f8ff;}#sk-container-id-1 input.sk-toggleable__control:checked~div.sk-toggleable__content {max-height: 200px;max-width: 100%;overflow: auto;}#sk-container-id-1 input.sk-toggleable__control:checked~label.sk-toggleable__label-arrow:before {content: \"▾\";}#sk-container-id-1 div.sk-estimator input.sk-toggleable__control:checked~label.sk-toggleable__label {background-color: #d4ebff;}#sk-container-id-1 div.sk-label input.sk-toggleable__control:checked~label.sk-toggleable__label {background-color: #d4ebff;}#sk-container-id-1 input.sk-hidden--visually {border: 0;clip: rect(1px 1px 1px 1px);clip: rect(1px, 1px, 1px, 1px);height: 1px;margin: -1px;overflow: hidden;padding: 0;position: absolute;width: 1px;}#sk-container-id-1 div.sk-estimator {font-family: monospace;background-color: #f0f8ff;border: 1px dotted black;border-radius: 0.25em;box-sizing: border-box;margin-bottom: 0.5em;}#sk-container-id-1 div.sk-estimator:hover {background-color: #d4ebff;}#sk-container-id-1 div.sk-parallel-item::after {content: \"\";width: 100%;border-bottom: 1px solid gray;flex-grow: 1;}#sk-container-id-1 div.sk-label:hover label.sk-toggleable__label {background-color: #d4ebff;}#sk-container-id-1 div.sk-serial::before {content: \"\";position: absolute;border-left: 1px solid gray;box-sizing: border-box;top: 0;bottom: 0;left: 50%;z-index: 0;}#sk-container-id-1 div.sk-serial {display: flex;flex-direction: column;align-items: center;background-color: white;padding-right: 0.2em;padding-left: 0.2em;position: relative;}#sk-container-id-1 div.sk-item {position: relative;z-index: 1;}#sk-container-id-1 div.sk-parallel {display: flex;align-items: stretch;justify-content: center;background-color: white;position: relative;}#sk-container-id-1 div.sk-item::before, #sk-container-id-1 div.sk-parallel-item::before {content: \"\";position: absolute;border-left: 1px solid gray;box-sizing: border-box;top: 0;bottom: 0;left: 50%;z-index: -1;}#sk-container-id-1 div.sk-parallel-item {display: flex;flex-direction: column;z-index: 1;position: relative;background-color: white;}#sk-container-id-1 div.sk-parallel-item:first-child::after {align-self: flex-end;width: 50%;}#sk-container-id-1 div.sk-parallel-item:last-child::after {align-self: flex-start;width: 50%;}#sk-container-id-1 div.sk-parallel-item:only-child::after {width: 0;}#sk-container-id-1 div.sk-dashed-wrapped {border: 1px dashed gray;margin: 0 0.4em 0.5em 0.4em;box-sizing: border-box;padding-bottom: 0.4em;background-color: white;}#sk-container-id-1 div.sk-label label {font-family: monospace;font-weight: bold;display: inline-block;line-height: 1.2em;}#sk-container-id-1 div.sk-label-container {text-align: center;}#sk-container-id-1 div.sk-container {/* jupyter's `normalize.less` sets `[hidden] { display: none; }` but bootstrap.min.css set `[hidden] { display: none !important; }` so we also need the `!important` here to be able to override the default hidden behavior on the sphinx rendered scikit-learn.org. See: https://github.com/scikit-learn/scikit-learn/issues/21755 */display: inline-block !important;position: relative;}#sk-container-id-1 div.sk-text-repr-fallback {display: none;}</style><div id=\"sk-container-id-1\" class=\"sk-top-container\"><div class=\"sk-text-repr-fallback\"><pre>LogisticRegression()</pre><b>In a Jupyter environment, please rerun this cell to show the HTML representation or trust the notebook. <br />On GitHub, the HTML representation is unable to render, please try loading this page with nbviewer.org.</b></div><div class=\"sk-container\" hidden><div class=\"sk-item\"><div class=\"sk-estimator sk-toggleable\"><input class=\"sk-toggleable__control sk-hidden--visually\" id=\"sk-estimator-id-1\" type=\"checkbox\" checked><label for=\"sk-estimator-id-1\" class=\"sk-toggleable__label sk-toggleable__label-arrow\">LogisticRegression</label><div class=\"sk-toggleable__content\"><pre>LogisticRegression()</pre></div></div></div></div></div>"
            ]
          },
          "metadata": {},
          "execution_count": 51
        }
      ],
      "source": [
        "from sklearn.model_selection import train_test_split\n",
        "from sklearn.linear_model import LogisticRegression\n",
        "\n",
        "X_train, X_test, y_train, y_test = train_test_split(X_subset, df['Match'], test_size=0.2, random_state=42)\n",
        "lr = LogisticRegression()\n",
        "lr.fit(X_train, y_train)"
      ]
    },
    {
      "cell_type": "code",
      "source": [
        "#Testing the trained model's predicting ability on the different algorithms\n",
        "\n",
        "lr_prediction = lr.predict(X_test)\n",
        "lr_prediction"
      ],
      "metadata": {
        "colab": {
          "base_uri": "https://localhost:8080/"
        },
        "id": "nuPIJCchwvC7",
        "outputId": "61d7a5f8-638b-41c6-98a4-9ff4a9a1c887"
      },
      "id": "nuPIJCchwvC7",
      "execution_count": null,
      "outputs": [
        {
          "output_type": "execute_result",
          "data": {
            "text/plain": [
              "array([0, 0, 0, 0, 0, 0, 0, 0, 0])"
            ]
          },
          "metadata": {},
          "execution_count": 52
        }
      ]
    },
    {
      "cell_type": "code",
      "execution_count": null,
      "id": "d205be24",
      "metadata": {
        "id": "d205be24",
        "colab": {
          "base_uri": "https://localhost:8080/"
        },
        "outputId": "051ddd97-8038-41db-d4db-5038fa1381ff"
      },
      "outputs": [
        {
          "output_type": "stream",
          "name": "stdout",
          "text": [
            "Model Accuracy: 1.0\n"
          ]
        }
      ],
      "source": [
        "accuracy = lr.score(X_test, y_test)\n",
        "print(f\"Model Accuracy: {accuracy}\")"
      ]
    },
    {
      "cell_type": "code",
      "source": [
        "#Importing modules for the evaluation metrics:\n",
        "\n",
        "from sklearn.metrics import mean_squared_error\n",
        "from sklearn.metrics import mean_absolute_error\n",
        "from sklearn.metrics import r2_score"
      ],
      "metadata": {
        "id": "j1bf8znQpVKw"
      },
      "id": "j1bf8znQpVKw",
      "execution_count": null,
      "outputs": []
    },
    {
      "cell_type": "code",
      "source": [
        "print(\"Mean Squared Error =\" , mean_squared_error(y_test, lr_prediction))\n",
        "print(\"Mean Absolute Error metric for LinearRegression =\" , mean_absolute_error(y_test, lr_prediction))\n",
        "print(\"R-squared metric for LinearRegression = \", r2_score(y_test, lr_prediction))"
      ],
      "metadata": {
        "colab": {
          "base_uri": "https://localhost:8080/"
        },
        "id": "eJEkpFvHpm28",
        "outputId": "893312c5-9498-4174-c14e-ec85167e8582"
      },
      "id": "eJEkpFvHpm28",
      "execution_count": null,
      "outputs": [
        {
          "output_type": "stream",
          "name": "stdout",
          "text": [
            "Mean Squared Error = 0.0\n",
            "Mean Absolute Error metric for LinearRegression = 0.0\n",
            "R-squared metric for LinearRegression =  1.0\n"
          ]
        }
      ]
    },
    {
      "cell_type": "markdown",
      "source": [
        "## Saving the Model and Deploying using Streamlit"
      ],
      "metadata": {
        "id": "AxATGeS0xKot"
      },
      "id": "AxATGeS0xKot"
    },
    {
      "cell_type": "code",
      "source": [
        "import joblib\n",
        "joblib.dump(lr, 'CV_lr_model.joblib')"
      ],
      "metadata": {
        "colab": {
          "base_uri": "https://localhost:8080/"
        },
        "id": "hLphDfy5xXoE",
        "outputId": "3b032785-f35b-40bc-97fe-e86bd4f7a91e"
      },
      "id": "hLphDfy5xXoE",
      "execution_count": null,
      "outputs": [
        {
          "output_type": "execute_result",
          "data": {
            "text/plain": [
              "['CV_lr_model.joblib']"
            ]
          },
          "metadata": {},
          "execution_count": 56
        }
      ]
    },
    {
      "cell_type": "code",
      "source": [
        "\n",
        "import pickle\n",
        "\n",
        "pickle.dump(df, open('movies_rec.pkl', 'wb'))\n",
        "pickle.dump(similarity, open('similarity.pkl', 'wb'))"
      ],
      "metadata": {
        "id": "iPzvGxVE2wTy",
        "colab": {
          "base_uri": "https://localhost:8080/",
          "height": 211
        },
        "outputId": "9394e174-55d5-4141-c848-f6f272932fdd"
      },
      "id": "iPzvGxVE2wTy",
      "execution_count": null,
      "outputs": [
        {
          "output_type": "error",
          "ename": "NameError",
          "evalue": "name 'similarity' is not defined",
          "traceback": [
            "\u001b[0;31m---------------------------------------------------------------------------\u001b[0m",
            "\u001b[0;31mNameError\u001b[0m                                 Traceback (most recent call last)",
            "\u001b[0;32m<ipython-input-57-99fc7e13a80c>\u001b[0m in \u001b[0;36m<cell line: 4>\u001b[0;34m()\u001b[0m\n\u001b[1;32m      2\u001b[0m \u001b[0;34m\u001b[0m\u001b[0m\n\u001b[1;32m      3\u001b[0m \u001b[0mpickle\u001b[0m\u001b[0;34m.\u001b[0m\u001b[0mdump\u001b[0m\u001b[0;34m(\u001b[0m\u001b[0mdf\u001b[0m\u001b[0;34m,\u001b[0m \u001b[0mopen\u001b[0m\u001b[0;34m(\u001b[0m\u001b[0;34m'movies_rec.pkl'\u001b[0m\u001b[0;34m,\u001b[0m \u001b[0;34m'wb'\u001b[0m\u001b[0;34m)\u001b[0m\u001b[0;34m)\u001b[0m\u001b[0;34m\u001b[0m\u001b[0;34m\u001b[0m\u001b[0m\n\u001b[0;32m----> 4\u001b[0;31m \u001b[0mpickle\u001b[0m\u001b[0;34m.\u001b[0m\u001b[0mdump\u001b[0m\u001b[0;34m(\u001b[0m\u001b[0msimilarity\u001b[0m\u001b[0;34m,\u001b[0m \u001b[0mopen\u001b[0m\u001b[0;34m(\u001b[0m\u001b[0;34m'similarity.pkl'\u001b[0m\u001b[0;34m,\u001b[0m \u001b[0;34m'wb'\u001b[0m\u001b[0;34m)\u001b[0m\u001b[0;34m)\u001b[0m\u001b[0;34m\u001b[0m\u001b[0;34m\u001b[0m\u001b[0m\n\u001b[0m",
            "\u001b[0;31mNameError\u001b[0m: name 'similarity' is not defined"
          ]
        }
      ]
    },
    {
      "cell_type": "code",
      "source": [
        "model_path = 'lr.pkl'\n",
        "vectorizer_path = 'vectorizer.pkl'\n",
        "joblib.dump('lr.pkl', model_path)\n",
        "joblib.dump('vectorizer.pkl', vectorizer_path)"
      ],
      "metadata": {
        "id": "wpnx-wG2gBC_",
        "colab": {
          "base_uri": "https://localhost:8080/"
        },
        "outputId": "8aae4ae5-f6df-4a73-848c-85f3266c6b03"
      },
      "id": "wpnx-wG2gBC_",
      "execution_count": null,
      "outputs": [
        {
          "output_type": "execute_result",
          "data": {
            "text/plain": [
              "['vectorizer.pkl']"
            ]
          },
          "metadata": {},
          "execution_count": 58
        }
      ]
    }
  ],
  "metadata": {
    "kernelspec": {
      "display_name": "Python 3 (ipykernel)",
      "language": "python",
      "name": "python3"
    },
    "language_info": {
      "codemirror_mode": {
        "name": "ipython",
        "version": 3
      },
      "file_extension": ".py",
      "mimetype": "text/x-python",
      "name": "python",
      "nbconvert_exporter": "python",
      "pygments_lexer": "ipython3",
      "version": "3.11.4"
    },
    "colab": {
      "provenance": [],
      "include_colab_link": true
    }
  },
  "nbformat": 4,
  "nbformat_minor": 5
}